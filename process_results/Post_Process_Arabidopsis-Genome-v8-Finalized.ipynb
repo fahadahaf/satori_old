{
 "cells": [
  {
   "cell_type": "code",
   "execution_count": 1,
   "metadata": {},
   "outputs": [],
   "source": [
    "import numpy as np\n",
    "import pandas as pd\n",
    "import pickle\n",
    "import matplotlib.pyplot as plt"
   ]
  },
  {
   "cell_type": "markdown",
   "metadata": {},
   "source": [
    "### Load the interactions summary from Human Promoter Analysis"
   ]
  },
  {
   "cell_type": "code",
   "execution_count": 2,
   "metadata": {},
   "outputs": [],
   "source": [
    "df = pd.read_csv('Arabidopsis_GenomeWide_Analysis_euclidean_v8/Interactions_Results/interactions_summary_attnLimit-0.12.txt',sep='\\t')"
   ]
  },
  {
   "cell_type": "code",
   "execution_count": 3,
   "metadata": {},
   "outputs": [
    {
     "data": {
      "text/plain": [
       "(5974, 12)"
      ]
     },
     "execution_count": 3,
     "metadata": {},
     "output_type": "execute_result"
    }
   ],
   "source": [
    "df.shape"
   ]
  },
  {
   "cell_type": "code",
   "execution_count": 4,
   "metadata": {},
   "outputs": [
    {
     "data": {
      "text/html": [
       "<div>\n",
       "<style scoped>\n",
       "    .dataframe tbody tr th:only-of-type {\n",
       "        vertical-align: middle;\n",
       "    }\n",
       "\n",
       "    .dataframe tbody tr th {\n",
       "        vertical-align: top;\n",
       "    }\n",
       "\n",
       "    .dataframe thead th {\n",
       "        text-align: right;\n",
       "    }\n",
       "</style>\n",
       "<table border=\"1\" class=\"dataframe\">\n",
       "  <thead>\n",
       "    <tr style=\"text-align: right;\">\n",
       "      <th></th>\n",
       "      <th>filter_interaction</th>\n",
       "      <th>example_no</th>\n",
       "      <th>motif1</th>\n",
       "      <th>motif1_qval</th>\n",
       "      <th>motif2</th>\n",
       "      <th>motif2_qval</th>\n",
       "      <th>mean_distance</th>\n",
       "      <th>mean_distance_bg</th>\n",
       "      <th>num_obs</th>\n",
       "      <th>num_obs_bg</th>\n",
       "      <th>pval</th>\n",
       "      <th>adjusted_pval</th>\n",
       "    </tr>\n",
       "  </thead>\n",
       "  <tbody>\n",
       "    <tr>\n",
       "      <td>0</td>\n",
       "      <td>filter0&lt;--&gt;filter3</td>\n",
       "      <td>2</td>\n",
       "      <td>Trihelix_tnt.AT1G76880_col_a_m1</td>\n",
       "      <td>0.000651</td>\n",
       "      <td>C2H2_tnt.AtIDD11_col_a_m1</td>\n",
       "      <td>0.016772</td>\n",
       "      <td>48.0</td>\n",
       "      <td>270.0</td>\n",
       "      <td>3010.0</td>\n",
       "      <td>2948.0</td>\n",
       "      <td>6.184242e-14</td>\n",
       "      <td>6.459804e-14</td>\n",
       "    </tr>\n",
       "    <tr>\n",
       "      <td>1</td>\n",
       "      <td>filter0&lt;--&gt;filter9</td>\n",
       "      <td>8</td>\n",
       "      <td>Trihelix_tnt.AT1G76880_col_a_m1</td>\n",
       "      <td>0.000651</td>\n",
       "      <td>MYB_tnt.MYB51_col_a_m1</td>\n",
       "      <td>0.004521</td>\n",
       "      <td>216.0</td>\n",
       "      <td>90.0</td>\n",
       "      <td>3171.0</td>\n",
       "      <td>4207.0</td>\n",
       "      <td>4.378854e-56</td>\n",
       "      <td>8.588613e-56</td>\n",
       "    </tr>\n",
       "    <tr>\n",
       "      <td>2</td>\n",
       "      <td>filter0&lt;--&gt;filter10</td>\n",
       "      <td>9</td>\n",
       "      <td>Trihelix_tnt.AT1G76880_col_a_m1</td>\n",
       "      <td>0.000651</td>\n",
       "      <td>C2C2dof_tnt.OBP1_col_a_m1</td>\n",
       "      <td>0.012554</td>\n",
       "      <td>204.0</td>\n",
       "      <td>12.0</td>\n",
       "      <td>4111.0</td>\n",
       "      <td>4074.0</td>\n",
       "      <td>3.357739e-101</td>\n",
       "      <td>1.901549e-100</td>\n",
       "    </tr>\n",
       "    <tr>\n",
       "      <td>3</td>\n",
       "      <td>filter0&lt;--&gt;filter13</td>\n",
       "      <td>12</td>\n",
       "      <td>Trihelix_tnt.AT1G76880_col_a_m1</td>\n",
       "      <td>0.000651</td>\n",
       "      <td>G2like_tnt.AT2G40260_colamp_a_m1</td>\n",
       "      <td>0.005267</td>\n",
       "      <td>132.0</td>\n",
       "      <td>174.0</td>\n",
       "      <td>4527.0</td>\n",
       "      <td>6147.0</td>\n",
       "      <td>9.012392e-03</td>\n",
       "      <td>9.045785e-03</td>\n",
       "    </tr>\n",
       "    <tr>\n",
       "      <td>4</td>\n",
       "      <td>filter0&lt;--&gt;filter14</td>\n",
       "      <td>13</td>\n",
       "      <td>Trihelix_tnt.AT1G76880_col_a_m1</td>\n",
       "      <td>0.000651</td>\n",
       "      <td>HB_tnt.ATHB40_col_a_m1</td>\n",
       "      <td>0.028770</td>\n",
       "      <td>300.0</td>\n",
       "      <td>180.0</td>\n",
       "      <td>3544.0</td>\n",
       "      <td>5005.0</td>\n",
       "      <td>9.709964e-19</td>\n",
       "      <td>1.054589e-18</td>\n",
       "    </tr>\n",
       "  </tbody>\n",
       "</table>\n",
       "</div>"
      ],
      "text/plain": [
       "    filter_interaction  example_no                           motif1  \\\n",
       "0   filter0<-->filter3           2  Trihelix_tnt.AT1G76880_col_a_m1   \n",
       "1   filter0<-->filter9           8  Trihelix_tnt.AT1G76880_col_a_m1   \n",
       "2  filter0<-->filter10           9  Trihelix_tnt.AT1G76880_col_a_m1   \n",
       "3  filter0<-->filter13          12  Trihelix_tnt.AT1G76880_col_a_m1   \n",
       "4  filter0<-->filter14          13  Trihelix_tnt.AT1G76880_col_a_m1   \n",
       "\n",
       "   motif1_qval                            motif2  motif2_qval  mean_distance  \\\n",
       "0     0.000651         C2H2_tnt.AtIDD11_col_a_m1     0.016772           48.0   \n",
       "1     0.000651            MYB_tnt.MYB51_col_a_m1     0.004521          216.0   \n",
       "2     0.000651         C2C2dof_tnt.OBP1_col_a_m1     0.012554          204.0   \n",
       "3     0.000651  G2like_tnt.AT2G40260_colamp_a_m1     0.005267          132.0   \n",
       "4     0.000651            HB_tnt.ATHB40_col_a_m1     0.028770          300.0   \n",
       "\n",
       "   mean_distance_bg  num_obs  num_obs_bg           pval  adjusted_pval  \n",
       "0             270.0   3010.0      2948.0   6.184242e-14   6.459804e-14  \n",
       "1              90.0   3171.0      4207.0   4.378854e-56   8.588613e-56  \n",
       "2              12.0   4111.0      4074.0  3.357739e-101  1.901549e-100  \n",
       "3             174.0   4527.0      6147.0   9.012392e-03   9.045785e-03  \n",
       "4             180.0   3544.0      5005.0   9.709964e-19   1.054589e-18  "
      ]
     },
     "execution_count": 4,
     "metadata": {},
     "output_type": "execute_result"
    }
   ],
   "source": [
    "df.head()"
   ]
  },
  {
   "cell_type": "markdown",
   "metadata": {},
   "source": [
    "##### keep significant interactions"
   ]
  },
  {
   "cell_type": "code",
   "execution_count": 5,
   "metadata": {},
   "outputs": [],
   "source": [
    "df = df[df['adjusted_pval']<0.05]"
   ]
  },
  {
   "cell_type": "code",
   "execution_count": 6,
   "metadata": {},
   "outputs": [
    {
     "data": {
      "text/plain": [
       "(5944, 12)"
      ]
     },
     "execution_count": 6,
     "metadata": {},
     "output_type": "execute_result"
    }
   ],
   "source": [
    "df.shape"
   ]
  },
  {
   "cell_type": "code",
   "execution_count": 9,
   "metadata": {},
   "outputs": [],
   "source": [
    "df = df[(df['motif1_qval'] < 0.01) & (df['motif2_qval']<0.01)]"
   ]
  },
  {
   "cell_type": "code",
   "execution_count": 10,
   "metadata": {},
   "outputs": [
    {
     "data": {
      "text/plain": [
       "(1495, 12)"
      ]
     },
     "execution_count": 10,
     "metadata": {},
     "output_type": "execute_result"
    }
   ],
   "source": [
    "df.shape"
   ]
  },
  {
   "cell_type": "markdown",
   "metadata": {},
   "source": [
    "### Get TF-TF interactions"
   ]
  },
  {
   "cell_type": "code",
   "execution_count": 17,
   "metadata": {},
   "outputs": [],
   "source": [
    "df['TF_interaction'] = df.apply(lambda x: x['motif1']+r'$\\longleftrightarrow$'+x['motif2'], axis=1)"
   ]
  },
  {
   "cell_type": "code",
   "execution_count": 18,
   "metadata": {},
   "outputs": [
    {
     "data": {
      "text/html": [
       "<div>\n",
       "<style scoped>\n",
       "    .dataframe tbody tr th:only-of-type {\n",
       "        vertical-align: middle;\n",
       "    }\n",
       "\n",
       "    .dataframe tbody tr th {\n",
       "        vertical-align: top;\n",
       "    }\n",
       "\n",
       "    .dataframe thead th {\n",
       "        text-align: right;\n",
       "    }\n",
       "</style>\n",
       "<table border=\"1\" class=\"dataframe\">\n",
       "  <thead>\n",
       "    <tr style=\"text-align: right;\">\n",
       "      <th></th>\n",
       "      <th>index</th>\n",
       "      <th>filter_interaction</th>\n",
       "      <th>example_no</th>\n",
       "      <th>motif1</th>\n",
       "      <th>motif1_qval</th>\n",
       "      <th>motif2</th>\n",
       "      <th>motif2_qval</th>\n",
       "      <th>mean_distance</th>\n",
       "      <th>mean_distance_bg</th>\n",
       "      <th>num_obs</th>\n",
       "      <th>num_obs_bg</th>\n",
       "      <th>pval</th>\n",
       "      <th>adjusted_pval</th>\n",
       "      <th>TF_interaction</th>\n",
       "    </tr>\n",
       "  </thead>\n",
       "  <tbody>\n",
       "    <tr>\n",
       "      <td>0</td>\n",
       "      <td>1</td>\n",
       "      <td>filter0&lt;--&gt;filter9</td>\n",
       "      <td>8</td>\n",
       "      <td>Trihelix_tnt.AT1G76880_col_a_m1</td>\n",
       "      <td>0.000651</td>\n",
       "      <td>MYB_tnt.MYB51_col_a_m1</td>\n",
       "      <td>0.004521</td>\n",
       "      <td>216.0</td>\n",
       "      <td>90.0</td>\n",
       "      <td>3171.0</td>\n",
       "      <td>4207.0</td>\n",
       "      <td>4.378854e-56</td>\n",
       "      <td>8.588613e-56</td>\n",
       "      <td>Trihelix_tnt.AT1G76880_col_a_m1$\\longleftright...</td>\n",
       "    </tr>\n",
       "    <tr>\n",
       "      <td>1</td>\n",
       "      <td>3</td>\n",
       "      <td>filter0&lt;--&gt;filter13</td>\n",
       "      <td>12</td>\n",
       "      <td>Trihelix_tnt.AT1G76880_col_a_m1</td>\n",
       "      <td>0.000651</td>\n",
       "      <td>G2like_tnt.AT2G40260_colamp_a_m1</td>\n",
       "      <td>0.005267</td>\n",
       "      <td>132.0</td>\n",
       "      <td>174.0</td>\n",
       "      <td>4527.0</td>\n",
       "      <td>6147.0</td>\n",
       "      <td>9.012392e-03</td>\n",
       "      <td>9.045785e-03</td>\n",
       "      <td>Trihelix_tnt.AT1G76880_col_a_m1$\\longleftright...</td>\n",
       "    </tr>\n",
       "    <tr>\n",
       "      <td>2</td>\n",
       "      <td>5</td>\n",
       "      <td>filter0&lt;--&gt;filter15</td>\n",
       "      <td>14</td>\n",
       "      <td>Trihelix_tnt.AT1G76880_col_a_m1</td>\n",
       "      <td>0.000651</td>\n",
       "      <td>WRKY_tnt.WRKY7_colamp_a_m1</td>\n",
       "      <td>0.000399</td>\n",
       "      <td>6.0</td>\n",
       "      <td>108.0</td>\n",
       "      <td>5715.0</td>\n",
       "      <td>6349.0</td>\n",
       "      <td>1.542976e-63</td>\n",
       "      <td>3.549264e-63</td>\n",
       "      <td>Trihelix_tnt.AT1G76880_col_a_m1$\\longleftright...</td>\n",
       "    </tr>\n",
       "    <tr>\n",
       "      <td>3</td>\n",
       "      <td>6</td>\n",
       "      <td>filter0&lt;--&gt;filter18</td>\n",
       "      <td>17</td>\n",
       "      <td>Trihelix_tnt.AT1G76880_col_a_m1</td>\n",
       "      <td>0.000651</td>\n",
       "      <td>C2C2dof_tnt.AT1G69570_colamp_a_m1</td>\n",
       "      <td>0.001660</td>\n",
       "      <td>6.0</td>\n",
       "      <td>6.0</td>\n",
       "      <td>4963.0</td>\n",
       "      <td>6403.0</td>\n",
       "      <td>4.722691e-35</td>\n",
       "      <td>6.296491e-35</td>\n",
       "      <td>Trihelix_tnt.AT1G76880_col_a_m1$\\longleftright...</td>\n",
       "    </tr>\n",
       "    <tr>\n",
       "      <td>4</td>\n",
       "      <td>7</td>\n",
       "      <td>filter0&lt;--&gt;filter20</td>\n",
       "      <td>19</td>\n",
       "      <td>Trihelix_tnt.AT1G76880_col_a_m1</td>\n",
       "      <td>0.000651</td>\n",
       "      <td>G2like_tnt.AT2G40260_colamp_a_m1</td>\n",
       "      <td>0.009442</td>\n",
       "      <td>114.0</td>\n",
       "      <td>30.0</td>\n",
       "      <td>5974.0</td>\n",
       "      <td>7357.0</td>\n",
       "      <td>1.219896e-17</td>\n",
       "      <td>1.311985e-17</td>\n",
       "      <td>Trihelix_tnt.AT1G76880_col_a_m1$\\longleftright...</td>\n",
       "    </tr>\n",
       "  </tbody>\n",
       "</table>\n",
       "</div>"
      ],
      "text/plain": [
       "   index   filter_interaction  example_no                           motif1  \\\n",
       "0      1   filter0<-->filter9           8  Trihelix_tnt.AT1G76880_col_a_m1   \n",
       "1      3  filter0<-->filter13          12  Trihelix_tnt.AT1G76880_col_a_m1   \n",
       "2      5  filter0<-->filter15          14  Trihelix_tnt.AT1G76880_col_a_m1   \n",
       "3      6  filter0<-->filter18          17  Trihelix_tnt.AT1G76880_col_a_m1   \n",
       "4      7  filter0<-->filter20          19  Trihelix_tnt.AT1G76880_col_a_m1   \n",
       "\n",
       "   motif1_qval                             motif2  motif2_qval  mean_distance  \\\n",
       "0     0.000651             MYB_tnt.MYB51_col_a_m1     0.004521          216.0   \n",
       "1     0.000651   G2like_tnt.AT2G40260_colamp_a_m1     0.005267          132.0   \n",
       "2     0.000651         WRKY_tnt.WRKY7_colamp_a_m1     0.000399            6.0   \n",
       "3     0.000651  C2C2dof_tnt.AT1G69570_colamp_a_m1     0.001660            6.0   \n",
       "4     0.000651   G2like_tnt.AT2G40260_colamp_a_m1     0.009442          114.0   \n",
       "\n",
       "   mean_distance_bg  num_obs  num_obs_bg          pval  adjusted_pval  \\\n",
       "0              90.0   3171.0      4207.0  4.378854e-56   8.588613e-56   \n",
       "1             174.0   4527.0      6147.0  9.012392e-03   9.045785e-03   \n",
       "2             108.0   5715.0      6349.0  1.542976e-63   3.549264e-63   \n",
       "3               6.0   4963.0      6403.0  4.722691e-35   6.296491e-35   \n",
       "4              30.0   5974.0      7357.0  1.219896e-17   1.311985e-17   \n",
       "\n",
       "                                      TF_interaction  \n",
       "0  Trihelix_tnt.AT1G76880_col_a_m1$\\longleftright...  \n",
       "1  Trihelix_tnt.AT1G76880_col_a_m1$\\longleftright...  \n",
       "2  Trihelix_tnt.AT1G76880_col_a_m1$\\longleftright...  \n",
       "3  Trihelix_tnt.AT1G76880_col_a_m1$\\longleftright...  \n",
       "4  Trihelix_tnt.AT1G76880_col_a_m1$\\longleftright...  "
      ]
     },
     "execution_count": 18,
     "metadata": {},
     "output_type": "execute_result"
    }
   ],
   "source": [
    "df.head()"
   ]
  },
  {
   "cell_type": "code",
   "execution_count": 19,
   "metadata": {},
   "outputs": [],
   "source": [
    "df = df[df['motif1']!=df['motif2']]"
   ]
  },
  {
   "cell_type": "code",
   "execution_count": 20,
   "metadata": {},
   "outputs": [
    {
     "data": {
      "text/plain": [
       "(1378, 15)"
      ]
     },
     "execution_count": 20,
     "metadata": {},
     "output_type": "execute_result"
    }
   ],
   "source": [
    "df = df.reset_index()\n",
    "df.shape"
   ]
  },
  {
   "cell_type": "code",
   "execution_count": 21,
   "metadata": {},
   "outputs": [
    {
     "name": "stderr",
     "output_type": "stream",
     "text": [
      "/s/jawar/h/nobackup/fahad/miniconda3/lib/python3.7/site-packages/ipykernel_launcher.py:10: SettingWithCopyWarning: \n",
      "A value is trying to be set on a copy of a slice from a DataFrame\n",
      "\n",
      "See the caveats in the documentation: http://pandas.pydata.org/pandas-docs/stable/user_guide/indexing.html#returning-a-view-versus-a-copy\n",
      "  # Remove the CWD from sys.path while we load stuff.\n",
      "/s/jawar/h/nobackup/fahad/miniconda3/lib/python3.7/site-packages/ipykernel_launcher.py:12: SettingWithCopyWarning: \n",
      "A value is trying to be set on a copy of a slice from a DataFrame\n",
      "\n",
      "See the caveats in the documentation: http://pandas.pydata.org/pandas-docs/stable/user_guide/indexing.html#returning-a-view-versus-a-copy\n",
      "  if sys.path[0] == '':\n"
     ]
    }
   ],
   "source": [
    "all_interactions_dict = []\n",
    "for i in range(df.shape[0]):\n",
    "    TF1 = df['motif1'][i]\n",
    "    TF2 = df['motif2'][i]\n",
    "    TF_intr = TF1+r'$\\longleftrightarrow$'+TF2\n",
    "    TF_intr_rev = TF2+r'$\\longleftrightarrow$'+TF1\n",
    "    if TF_intr not in all_interactions_dict and TF_intr_rev not in all_interactions_dict:\n",
    "        all_interactions_dict.append(TF_intr)\n",
    "    elif TF_intr in all_interactions_dict:\n",
    "        df['TF_interaction'][i] = TF_intr\n",
    "    elif TF_intr_rev in all_interactions_dict:\n",
    "        df['TF_interaction'][i] = TF_intr_rev"
   ]
  },
  {
   "cell_type": "markdown",
   "metadata": {},
   "source": [
    "### Distribution of mean distance of interaction"
   ]
  },
  {
   "cell_type": "code",
   "execution_count": 22,
   "metadata": {},
   "outputs": [
    {
     "data": {
      "text/plain": [
       "<matplotlib.axes._subplots.AxesSubplot at 0x7f1bb409e1d0>"
      ]
     },
     "execution_count": 22,
     "metadata": {},
     "output_type": "execute_result"
    },
    {
     "data": {
      "image/png": "[encoded data removed]",
      "text/plain": [
       "<Figure size 1296x576 with 1 Axes>"
      ]
     },
     "metadata": {
      "needs_background": "light"
     },
     "output_type": "display_data"
    }
   ],
   "source": [
    "df['mean_distance'].hist(bins=25, figsize=(18,8))"
   ]
  },
  {
   "cell_type": "code",
   "execution_count": 23,
   "metadata": {},
   "outputs": [
    {
     "data": {
      "text/plain": [
       "(152.3425253991292, 138.0)"
      ]
     },
     "execution_count": 23,
     "metadata": {},
     "output_type": "execute_result"
    }
   ],
   "source": [
    "df['mean_distance'].mean(),df['mean_distance'].median()"
   ]
  },
  {
   "cell_type": "markdown",
   "metadata": {},
   "source": [
    "### Most Frequent TF Family Interactions"
   ]
  },
  {
   "cell_type": "code",
   "execution_count": 24,
   "metadata": {},
   "outputs": [],
   "source": [
    "df['TF_A_Family'] = df['motif1'].apply(lambda x: x.split('_')[0])\n",
    "df['TF_B_Family'] = df['motif2'].apply(lambda x: x.split('_')[0])"
   ]
  },
  {
   "cell_type": "code",
   "execution_count": 25,
   "metadata": {},
   "outputs": [
    {
     "data": {
      "text/html": [
       "<div>\n",
       "<style scoped>\n",
       "    .dataframe tbody tr th:only-of-type {\n",
       "        vertical-align: middle;\n",
       "    }\n",
       "\n",
       "    .dataframe tbody tr th {\n",
       "        vertical-align: top;\n",
       "    }\n",
       "\n",
       "    .dataframe thead th {\n",
       "        text-align: right;\n",
       "    }\n",
       "</style>\n",
       "<table border=\"1\" class=\"dataframe\">\n",
       "  <thead>\n",
       "    <tr style=\"text-align: right;\">\n",
       "      <th></th>\n",
       "      <th>level_0</th>\n",
       "      <th>index</th>\n",
       "      <th>filter_interaction</th>\n",
       "      <th>example_no</th>\n",
       "      <th>motif1</th>\n",
       "      <th>motif1_qval</th>\n",
       "      <th>motif2</th>\n",
       "      <th>motif2_qval</th>\n",
       "      <th>mean_distance</th>\n",
       "      <th>mean_distance_bg</th>\n",
       "      <th>num_obs</th>\n",
       "      <th>num_obs_bg</th>\n",
       "      <th>pval</th>\n",
       "      <th>adjusted_pval</th>\n",
       "      <th>TF_interaction</th>\n",
       "      <th>TF_A_Family</th>\n",
       "      <th>TF_B_Family</th>\n",
       "    </tr>\n",
       "  </thead>\n",
       "  <tbody>\n",
       "    <tr>\n",
       "      <td>0</td>\n",
       "      <td>0</td>\n",
       "      <td>1</td>\n",
       "      <td>filter0&lt;--&gt;filter9</td>\n",
       "      <td>8</td>\n",
       "      <td>Trihelix_tnt.AT1G76880_col_a_m1</td>\n",
       "      <td>0.000651</td>\n",
       "      <td>MYB_tnt.MYB51_col_a_m1</td>\n",
       "      <td>0.004521</td>\n",
       "      <td>216.0</td>\n",
       "      <td>90.0</td>\n",
       "      <td>3171.0</td>\n",
       "      <td>4207.0</td>\n",
       "      <td>4.378854e-56</td>\n",
       "      <td>8.588613e-56</td>\n",
       "      <td>Trihelix_tnt.AT1G76880_col_a_m1$\\longleftright...</td>\n",
       "      <td>Trihelix</td>\n",
       "      <td>MYB</td>\n",
       "    </tr>\n",
       "    <tr>\n",
       "      <td>1</td>\n",
       "      <td>1</td>\n",
       "      <td>3</td>\n",
       "      <td>filter0&lt;--&gt;filter13</td>\n",
       "      <td>12</td>\n",
       "      <td>Trihelix_tnt.AT1G76880_col_a_m1</td>\n",
       "      <td>0.000651</td>\n",
       "      <td>G2like_tnt.AT2G40260_colamp_a_m1</td>\n",
       "      <td>0.005267</td>\n",
       "      <td>132.0</td>\n",
       "      <td>174.0</td>\n",
       "      <td>4527.0</td>\n",
       "      <td>6147.0</td>\n",
       "      <td>9.012392e-03</td>\n",
       "      <td>9.045785e-03</td>\n",
       "      <td>Trihelix_tnt.AT1G76880_col_a_m1$\\longleftright...</td>\n",
       "      <td>Trihelix</td>\n",
       "      <td>G2like</td>\n",
       "    </tr>\n",
       "    <tr>\n",
       "      <td>2</td>\n",
       "      <td>2</td>\n",
       "      <td>5</td>\n",
       "      <td>filter0&lt;--&gt;filter15</td>\n",
       "      <td>14</td>\n",
       "      <td>Trihelix_tnt.AT1G76880_col_a_m1</td>\n",
       "      <td>0.000651</td>\n",
       "      <td>WRKY_tnt.WRKY7_colamp_a_m1</td>\n",
       "      <td>0.000399</td>\n",
       "      <td>6.0</td>\n",
       "      <td>108.0</td>\n",
       "      <td>5715.0</td>\n",
       "      <td>6349.0</td>\n",
       "      <td>1.542976e-63</td>\n",
       "      <td>3.549264e-63</td>\n",
       "      <td>Trihelix_tnt.AT1G76880_col_a_m1$\\longleftright...</td>\n",
       "      <td>Trihelix</td>\n",
       "      <td>WRKY</td>\n",
       "    </tr>\n",
       "    <tr>\n",
       "      <td>3</td>\n",
       "      <td>3</td>\n",
       "      <td>6</td>\n",
       "      <td>filter0&lt;--&gt;filter18</td>\n",
       "      <td>17</td>\n",
       "      <td>Trihelix_tnt.AT1G76880_col_a_m1</td>\n",
       "      <td>0.000651</td>\n",
       "      <td>C2C2dof_tnt.AT1G69570_colamp_a_m1</td>\n",
       "      <td>0.001660</td>\n",
       "      <td>6.0</td>\n",
       "      <td>6.0</td>\n",
       "      <td>4963.0</td>\n",
       "      <td>6403.0</td>\n",
       "      <td>4.722691e-35</td>\n",
       "      <td>6.296491e-35</td>\n",
       "      <td>Trihelix_tnt.AT1G76880_col_a_m1$\\longleftright...</td>\n",
       "      <td>Trihelix</td>\n",
       "      <td>C2C2dof</td>\n",
       "    </tr>\n",
       "    <tr>\n",
       "      <td>4</td>\n",
       "      <td>4</td>\n",
       "      <td>7</td>\n",
       "      <td>filter0&lt;--&gt;filter20</td>\n",
       "      <td>19</td>\n",
       "      <td>Trihelix_tnt.AT1G76880_col_a_m1</td>\n",
       "      <td>0.000651</td>\n",
       "      <td>G2like_tnt.AT2G40260_colamp_a_m1</td>\n",
       "      <td>0.009442</td>\n",
       "      <td>114.0</td>\n",
       "      <td>30.0</td>\n",
       "      <td>5974.0</td>\n",
       "      <td>7357.0</td>\n",
       "      <td>1.219896e-17</td>\n",
       "      <td>1.311985e-17</td>\n",
       "      <td>Trihelix_tnt.AT1G76880_col_a_m1$\\longleftright...</td>\n",
       "      <td>Trihelix</td>\n",
       "      <td>G2like</td>\n",
       "    </tr>\n",
       "    <tr>\n",
       "      <td>5</td>\n",
       "      <td>5</td>\n",
       "      <td>12</td>\n",
       "      <td>filter0&lt;--&gt;filter32</td>\n",
       "      <td>31</td>\n",
       "      <td>Trihelix_tnt.AT1G76880_col_a_m1</td>\n",
       "      <td>0.000651</td>\n",
       "      <td>MYB_tnt.MYB39_colamp_a_m1</td>\n",
       "      <td>0.006642</td>\n",
       "      <td>294.0</td>\n",
       "      <td>120.0</td>\n",
       "      <td>1097.0</td>\n",
       "      <td>2209.0</td>\n",
       "      <td>3.582209e-21</td>\n",
       "      <td>3.987182e-21</td>\n",
       "      <td>Trihelix_tnt.AT1G76880_col_a_m1$\\longleftright...</td>\n",
       "      <td>Trihelix</td>\n",
       "      <td>MYB</td>\n",
       "    </tr>\n",
       "    <tr>\n",
       "      <td>6</td>\n",
       "      <td>6</td>\n",
       "      <td>14</td>\n",
       "      <td>filter0&lt;--&gt;filter34</td>\n",
       "      <td>33</td>\n",
       "      <td>Trihelix_tnt.AT1G76880_col_a_m1</td>\n",
       "      <td>0.000651</td>\n",
       "      <td>WRKY_tnt.WRKY31_col_a_m1</td>\n",
       "      <td>0.009805</td>\n",
       "      <td>186.0</td>\n",
       "      <td>222.0</td>\n",
       "      <td>2869.0</td>\n",
       "      <td>3539.0</td>\n",
       "      <td>1.003540e-41</td>\n",
       "      <td>1.494811e-41</td>\n",
       "      <td>Trihelix_tnt.AT1G76880_col_a_m1$\\longleftright...</td>\n",
       "      <td>Trihelix</td>\n",
       "      <td>WRKY</td>\n",
       "    </tr>\n",
       "    <tr>\n",
       "      <td>7</td>\n",
       "      <td>7</td>\n",
       "      <td>15</td>\n",
       "      <td>filter0&lt;--&gt;filter36</td>\n",
       "      <td>35</td>\n",
       "      <td>Trihelix_tnt.AT1G76880_col_a_m1</td>\n",
       "      <td>0.000651</td>\n",
       "      <td>G2like_tnt.AT2G40260_colamp_a_m1</td>\n",
       "      <td>0.001142</td>\n",
       "      <td>6.0</td>\n",
       "      <td>258.0</td>\n",
       "      <td>5546.0</td>\n",
       "      <td>6574.0</td>\n",
       "      <td>4.741705e-34</td>\n",
       "      <td>6.218128e-34</td>\n",
       "      <td>Trihelix_tnt.AT1G76880_col_a_m1$\\longleftright...</td>\n",
       "      <td>Trihelix</td>\n",
       "      <td>G2like</td>\n",
       "    </tr>\n",
       "    <tr>\n",
       "      <td>8</td>\n",
       "      <td>8</td>\n",
       "      <td>16</td>\n",
       "      <td>filter0&lt;--&gt;filter37</td>\n",
       "      <td>36</td>\n",
       "      <td>Trihelix_tnt.AT1G76880_col_a_m1</td>\n",
       "      <td>0.000651</td>\n",
       "      <td>AP2EREBP_tnt.At1g77640_col_a_m1</td>\n",
       "      <td>0.001130</td>\n",
       "      <td>264.0</td>\n",
       "      <td>348.0</td>\n",
       "      <td>2379.0</td>\n",
       "      <td>2801.0</td>\n",
       "      <td>1.246158e-52</td>\n",
       "      <td>2.274052e-52</td>\n",
       "      <td>Trihelix_tnt.AT1G76880_col_a_m1$\\longleftright...</td>\n",
       "      <td>Trihelix</td>\n",
       "      <td>AP2EREBP</td>\n",
       "    </tr>\n",
       "    <tr>\n",
       "      <td>9</td>\n",
       "      <td>9</td>\n",
       "      <td>19</td>\n",
       "      <td>filter0&lt;--&gt;filter41</td>\n",
       "      <td>40</td>\n",
       "      <td>Trihelix_tnt.AT1G76880_col_a_m1</td>\n",
       "      <td>0.000651</td>\n",
       "      <td>G2like_tnt.AT2G40260_colamp_a_m1</td>\n",
       "      <td>0.000004</td>\n",
       "      <td>144.0</td>\n",
       "      <td>246.0</td>\n",
       "      <td>5294.0</td>\n",
       "      <td>6842.0</td>\n",
       "      <td>1.501095e-24</td>\n",
       "      <td>1.736601e-24</td>\n",
       "      <td>Trihelix_tnt.AT1G76880_col_a_m1$\\longleftright...</td>\n",
       "      <td>Trihelix</td>\n",
       "      <td>G2like</td>\n",
       "    </tr>\n",
       "  </tbody>\n",
       "</table>\n",
       "</div>"
      ],
      "text/plain": [
       "   level_0  index   filter_interaction  example_no  \\\n",
       "0        0      1   filter0<-->filter9           8   \n",
       "1        1      3  filter0<-->filter13          12   \n",
       "2        2      5  filter0<-->filter15          14   \n",
       "3        3      6  filter0<-->filter18          17   \n",
       "4        4      7  filter0<-->filter20          19   \n",
       "5        5     12  filter0<-->filter32          31   \n",
       "6        6     14  filter0<-->filter34          33   \n",
       "7        7     15  filter0<-->filter36          35   \n",
       "8        8     16  filter0<-->filter37          36   \n",
       "9        9     19  filter0<-->filter41          40   \n",
       "\n",
       "                            motif1  motif1_qval  \\\n",
       "0  Trihelix_tnt.AT1G76880_col_a_m1     0.000651   \n",
       "1  Trihelix_tnt.AT1G76880_col_a_m1     0.000651   \n",
       "2  Trihelix_tnt.AT1G76880_col_a_m1     0.000651   \n",
       "3  Trihelix_tnt.AT1G76880_col_a_m1     0.000651   \n",
       "4  Trihelix_tnt.AT1G76880_col_a_m1     0.000651   \n",
       "5  Trihelix_tnt.AT1G76880_col_a_m1     0.000651   \n",
       "6  Trihelix_tnt.AT1G76880_col_a_m1     0.000651   \n",
       "7  Trihelix_tnt.AT1G76880_col_a_m1     0.000651   \n",
       "8  Trihelix_tnt.AT1G76880_col_a_m1     0.000651   \n",
       "9  Trihelix_tnt.AT1G76880_col_a_m1     0.000651   \n",
       "\n",
       "                              motif2  motif2_qval  mean_distance  \\\n",
       "0             MYB_tnt.MYB51_col_a_m1     0.004521          216.0   \n",
       "1   G2like_tnt.AT2G40260_colamp_a_m1     0.005267          132.0   \n",
       "2         WRKY_tnt.WRKY7_colamp_a_m1     0.000399            6.0   \n",
       "3  C2C2dof_tnt.AT1G69570_colamp_a_m1     0.001660            6.0   \n",
       "4   G2like_tnt.AT2G40260_colamp_a_m1     0.009442          114.0   \n",
       "5          MYB_tnt.MYB39_colamp_a_m1     0.006642          294.0   \n",
       "6           WRKY_tnt.WRKY31_col_a_m1     0.009805          186.0   \n",
       "7   G2like_tnt.AT2G40260_colamp_a_m1     0.001142            6.0   \n",
       "8    AP2EREBP_tnt.At1g77640_col_a_m1     0.001130          264.0   \n",
       "9   G2like_tnt.AT2G40260_colamp_a_m1     0.000004          144.0   \n",
       "\n",
       "   mean_distance_bg  num_obs  num_obs_bg          pval  adjusted_pval  \\\n",
       "0              90.0   3171.0      4207.0  4.378854e-56   8.588613e-56   \n",
       "1             174.0   4527.0      6147.0  9.012392e-03   9.045785e-03   \n",
       "2             108.0   5715.0      6349.0  1.542976e-63   3.549264e-63   \n",
       "3               6.0   4963.0      6403.0  4.722691e-35   6.296491e-35   \n",
       "4              30.0   5974.0      7357.0  1.219896e-17   1.311985e-17   \n",
       "5             120.0   1097.0      2209.0  3.582209e-21   3.987182e-21   \n",
       "6             222.0   2869.0      3539.0  1.003540e-41   1.494811e-41   \n",
       "7             258.0   5546.0      6574.0  4.741705e-34   6.218128e-34   \n",
       "8             348.0   2379.0      2801.0  1.246158e-52   2.274052e-52   \n",
       "9             246.0   5294.0      6842.0  1.501095e-24   1.736601e-24   \n",
       "\n",
       "                                      TF_interaction TF_A_Family TF_B_Family  \n",
       "0  Trihelix_tnt.AT1G76880_col_a_m1$\\longleftright...    Trihelix         MYB  \n",
       "1  Trihelix_tnt.AT1G76880_col_a_m1$\\longleftright...    Trihelix      G2like  \n",
       "2  Trihelix_tnt.AT1G76880_col_a_m1$\\longleftright...    Trihelix        WRKY  \n",
       "3  Trihelix_tnt.AT1G76880_col_a_m1$\\longleftright...    Trihelix     C2C2dof  \n",
       "4  Trihelix_tnt.AT1G76880_col_a_m1$\\longleftright...    Trihelix      G2like  \n",
       "5  Trihelix_tnt.AT1G76880_col_a_m1$\\longleftright...    Trihelix         MYB  \n",
       "6  Trihelix_tnt.AT1G76880_col_a_m1$\\longleftright...    Trihelix        WRKY  \n",
       "7  Trihelix_tnt.AT1G76880_col_a_m1$\\longleftright...    Trihelix      G2like  \n",
       "8  Trihelix_tnt.AT1G76880_col_a_m1$\\longleftright...    Trihelix    AP2EREBP  \n",
       "9  Trihelix_tnt.AT1G76880_col_a_m1$\\longleftright...    Trihelix      G2like  "
      ]
     },
     "execution_count": 25,
     "metadata": {},
     "output_type": "execute_result"
    }
   ],
   "source": [
    "df.head(10)"
   ]
  },
  {
   "cell_type": "code",
   "execution_count": 26,
   "metadata": {},
   "outputs": [],
   "source": [
    "df['Family_Interaction'] = df.apply(lambda x: x['TF_A_Family']+r'$\\longleftrightarrow$'+x['TF_B_Family'],axis=1)"
   ]
  },
  {
   "cell_type": "code",
   "execution_count": 27,
   "metadata": {},
   "outputs": [
    {
     "name": "stderr",
     "output_type": "stream",
     "text": [
      "/s/jawar/h/nobackup/fahad/miniconda3/lib/python3.7/site-packages/ipykernel_launcher.py:10: SettingWithCopyWarning: \n",
      "A value is trying to be set on a copy of a slice from a DataFrame\n",
      "\n",
      "See the caveats in the documentation: http://pandas.pydata.org/pandas-docs/stable/user_guide/indexing.html#returning-a-view-versus-a-copy\n",
      "  # Remove the CWD from sys.path while we load stuff.\n",
      "/s/jawar/h/nobackup/fahad/miniconda3/lib/python3.7/site-packages/ipykernel_launcher.py:12: SettingWithCopyWarning: \n",
      "A value is trying to be set on a copy of a slice from a DataFrame\n",
      "\n",
      "See the caveats in the documentation: http://pandas.pydata.org/pandas-docs/stable/user_guide/indexing.html#returning-a-view-versus-a-copy\n",
      "  if sys.path[0] == '':\n"
     ]
    }
   ],
   "source": [
    "all_interactions_dict = []\n",
    "for i in range(df.shape[0]):\n",
    "    TF1 = df['TF_A_Family'][i]\n",
    "    TF2 = df['TF_B_Family'][i]\n",
    "    TF_intr = TF1+r'$\\longleftrightarrow$'+TF2\n",
    "    TF_intr_rev = TF2+r'$\\longleftrightarrow$'+TF1\n",
    "    if TF_intr not in all_interactions_dict and TF_intr_rev not in all_interactions_dict:\n",
    "        all_interactions_dict.append(TF_intr)\n",
    "    elif TF_intr in all_interactions_dict:\n",
    "        df['Family_Interaction'][i] = TF_intr\n",
    "    elif TF_intr_rev in all_interactions_dict:\n",
    "        df['Family_Interaction'][i] = TF_intr_rev"
   ]
  },
  {
   "cell_type": "code",
   "execution_count": 28,
   "metadata": {},
   "outputs": [
    {
     "data": {
      "text/html": [
       "<div>\n",
       "<style scoped>\n",
       "    .dataframe tbody tr th:only-of-type {\n",
       "        vertical-align: middle;\n",
       "    }\n",
       "\n",
       "    .dataframe tbody tr th {\n",
       "        vertical-align: top;\n",
       "    }\n",
       "\n",
       "    .dataframe thead th {\n",
       "        text-align: right;\n",
       "    }\n",
       "</style>\n",
       "<table border=\"1\" class=\"dataframe\">\n",
       "  <thead>\n",
       "    <tr style=\"text-align: right;\">\n",
       "      <th></th>\n",
       "      <th>level_0</th>\n",
       "      <th>index</th>\n",
       "      <th>filter_interaction</th>\n",
       "      <th>example_no</th>\n",
       "      <th>motif1</th>\n",
       "      <th>motif1_qval</th>\n",
       "      <th>motif2</th>\n",
       "      <th>motif2_qval</th>\n",
       "      <th>mean_distance</th>\n",
       "      <th>mean_distance_bg</th>\n",
       "      <th>num_obs</th>\n",
       "      <th>num_obs_bg</th>\n",
       "      <th>pval</th>\n",
       "      <th>adjusted_pval</th>\n",
       "      <th>TF_interaction</th>\n",
       "      <th>TF_A_Family</th>\n",
       "      <th>TF_B_Family</th>\n",
       "      <th>Family_Interaction</th>\n",
       "    </tr>\n",
       "  </thead>\n",
       "  <tbody>\n",
       "    <tr>\n",
       "      <td>0</td>\n",
       "      <td>0</td>\n",
       "      <td>1</td>\n",
       "      <td>filter0&lt;--&gt;filter9</td>\n",
       "      <td>8</td>\n",
       "      <td>Trihelix_tnt.AT1G76880_col_a_m1</td>\n",
       "      <td>0.000651</td>\n",
       "      <td>MYB_tnt.MYB51_col_a_m1</td>\n",
       "      <td>0.004521</td>\n",
       "      <td>216.0</td>\n",
       "      <td>90.0</td>\n",
       "      <td>3171.0</td>\n",
       "      <td>4207.0</td>\n",
       "      <td>4.378854e-56</td>\n",
       "      <td>8.588613e-56</td>\n",
       "      <td>Trihelix_tnt.AT1G76880_col_a_m1$\\longleftright...</td>\n",
       "      <td>Trihelix</td>\n",
       "      <td>MYB</td>\n",
       "      <td>Trihelix$\\longleftrightarrow$MYB</td>\n",
       "    </tr>\n",
       "    <tr>\n",
       "      <td>1</td>\n",
       "      <td>1</td>\n",
       "      <td>3</td>\n",
       "      <td>filter0&lt;--&gt;filter13</td>\n",
       "      <td>12</td>\n",
       "      <td>Trihelix_tnt.AT1G76880_col_a_m1</td>\n",
       "      <td>0.000651</td>\n",
       "      <td>G2like_tnt.AT2G40260_colamp_a_m1</td>\n",
       "      <td>0.005267</td>\n",
       "      <td>132.0</td>\n",
       "      <td>174.0</td>\n",
       "      <td>4527.0</td>\n",
       "      <td>6147.0</td>\n",
       "      <td>9.012392e-03</td>\n",
       "      <td>9.045785e-03</td>\n",
       "      <td>Trihelix_tnt.AT1G76880_col_a_m1$\\longleftright...</td>\n",
       "      <td>Trihelix</td>\n",
       "      <td>G2like</td>\n",
       "      <td>Trihelix$\\longleftrightarrow$G2like</td>\n",
       "    </tr>\n",
       "    <tr>\n",
       "      <td>2</td>\n",
       "      <td>2</td>\n",
       "      <td>5</td>\n",
       "      <td>filter0&lt;--&gt;filter15</td>\n",
       "      <td>14</td>\n",
       "      <td>Trihelix_tnt.AT1G76880_col_a_m1</td>\n",
       "      <td>0.000651</td>\n",
       "      <td>WRKY_tnt.WRKY7_colamp_a_m1</td>\n",
       "      <td>0.000399</td>\n",
       "      <td>6.0</td>\n",
       "      <td>108.0</td>\n",
       "      <td>5715.0</td>\n",
       "      <td>6349.0</td>\n",
       "      <td>1.542976e-63</td>\n",
       "      <td>3.549264e-63</td>\n",
       "      <td>Trihelix_tnt.AT1G76880_col_a_m1$\\longleftright...</td>\n",
       "      <td>Trihelix</td>\n",
       "      <td>WRKY</td>\n",
       "      <td>Trihelix$\\longleftrightarrow$WRKY</td>\n",
       "    </tr>\n",
       "    <tr>\n",
       "      <td>3</td>\n",
       "      <td>3</td>\n",
       "      <td>6</td>\n",
       "      <td>filter0&lt;--&gt;filter18</td>\n",
       "      <td>17</td>\n",
       "      <td>Trihelix_tnt.AT1G76880_col_a_m1</td>\n",
       "      <td>0.000651</td>\n",
       "      <td>C2C2dof_tnt.AT1G69570_colamp_a_m1</td>\n",
       "      <td>0.001660</td>\n",
       "      <td>6.0</td>\n",
       "      <td>6.0</td>\n",
       "      <td>4963.0</td>\n",
       "      <td>6403.0</td>\n",
       "      <td>4.722691e-35</td>\n",
       "      <td>6.296491e-35</td>\n",
       "      <td>Trihelix_tnt.AT1G76880_col_a_m1$\\longleftright...</td>\n",
       "      <td>Trihelix</td>\n",
       "      <td>C2C2dof</td>\n",
       "      <td>Trihelix$\\longleftrightarrow$C2C2dof</td>\n",
       "    </tr>\n",
       "    <tr>\n",
       "      <td>4</td>\n",
       "      <td>4</td>\n",
       "      <td>7</td>\n",
       "      <td>filter0&lt;--&gt;filter20</td>\n",
       "      <td>19</td>\n",
       "      <td>Trihelix_tnt.AT1G76880_col_a_m1</td>\n",
       "      <td>0.000651</td>\n",
       "      <td>G2like_tnt.AT2G40260_colamp_a_m1</td>\n",
       "      <td>0.009442</td>\n",
       "      <td>114.0</td>\n",
       "      <td>30.0</td>\n",
       "      <td>5974.0</td>\n",
       "      <td>7357.0</td>\n",
       "      <td>1.219896e-17</td>\n",
       "      <td>1.311985e-17</td>\n",
       "      <td>Trihelix_tnt.AT1G76880_col_a_m1$\\longleftright...</td>\n",
       "      <td>Trihelix</td>\n",
       "      <td>G2like</td>\n",
       "      <td>Trihelix$\\longleftrightarrow$G2like</td>\n",
       "    </tr>\n",
       "  </tbody>\n",
       "</table>\n",
       "</div>"
      ],
      "text/plain": [
       "   level_0  index   filter_interaction  example_no  \\\n",
       "0        0      1   filter0<-->filter9           8   \n",
       "1        1      3  filter0<-->filter13          12   \n",
       "2        2      5  filter0<-->filter15          14   \n",
       "3        3      6  filter0<-->filter18          17   \n",
       "4        4      7  filter0<-->filter20          19   \n",
       "\n",
       "                            motif1  motif1_qval  \\\n",
       "0  Trihelix_tnt.AT1G76880_col_a_m1     0.000651   \n",
       "1  Trihelix_tnt.AT1G76880_col_a_m1     0.000651   \n",
       "2  Trihelix_tnt.AT1G76880_col_a_m1     0.000651   \n",
       "3  Trihelix_tnt.AT1G76880_col_a_m1     0.000651   \n",
       "4  Trihelix_tnt.AT1G76880_col_a_m1     0.000651   \n",
       "\n",
       "                              motif2  motif2_qval  mean_distance  \\\n",
       "0             MYB_tnt.MYB51_col_a_m1     0.004521          216.0   \n",
       "1   G2like_tnt.AT2G40260_colamp_a_m1     0.005267          132.0   \n",
       "2         WRKY_tnt.WRKY7_colamp_a_m1     0.000399            6.0   \n",
       "3  C2C2dof_tnt.AT1G69570_colamp_a_m1     0.001660            6.0   \n",
       "4   G2like_tnt.AT2G40260_colamp_a_m1     0.009442          114.0   \n",
       "\n",
       "   mean_distance_bg  num_obs  num_obs_bg          pval  adjusted_pval  \\\n",
       "0              90.0   3171.0      4207.0  4.378854e-56   8.588613e-56   \n",
       "1             174.0   4527.0      6147.0  9.012392e-03   9.045785e-03   \n",
       "2             108.0   5715.0      6349.0  1.542976e-63   3.549264e-63   \n",
       "3               6.0   4963.0      6403.0  4.722691e-35   6.296491e-35   \n",
       "4              30.0   5974.0      7357.0  1.219896e-17   1.311985e-17   \n",
       "\n",
       "                                      TF_interaction TF_A_Family TF_B_Family  \\\n",
       "0  Trihelix_tnt.AT1G76880_col_a_m1$\\longleftright...    Trihelix         MYB   \n",
       "1  Trihelix_tnt.AT1G76880_col_a_m1$\\longleftright...    Trihelix      G2like   \n",
       "2  Trihelix_tnt.AT1G76880_col_a_m1$\\longleftright...    Trihelix        WRKY   \n",
       "3  Trihelix_tnt.AT1G76880_col_a_m1$\\longleftright...    Trihelix     C2C2dof   \n",
       "4  Trihelix_tnt.AT1G76880_col_a_m1$\\longleftright...    Trihelix      G2like   \n",
       "\n",
       "                     Family_Interaction  \n",
       "0      Trihelix$\\longleftrightarrow$MYB  \n",
       "1   Trihelix$\\longleftrightarrow$G2like  \n",
       "2     Trihelix$\\longleftrightarrow$WRKY  \n",
       "3  Trihelix$\\longleftrightarrow$C2C2dof  \n",
       "4   Trihelix$\\longleftrightarrow$G2like  "
      ]
     },
     "execution_count": 28,
     "metadata": {},
     "output_type": "execute_result"
    }
   ],
   "source": [
    "df.head()"
   ]
  },
  {
   "cell_type": "code",
   "execution_count": 29,
   "metadata": {},
   "outputs": [
    {
     "data": {
      "text/plain": [
       "(1378, 18)"
      ]
     },
     "execution_count": 29,
     "metadata": {},
     "output_type": "execute_result"
    }
   ],
   "source": [
    "df.shape"
   ]
  },
  {
   "cell_type": "code",
   "execution_count": 30,
   "metadata": {},
   "outputs": [
    {
     "data": {
      "image/png": "[encoded data removed]",
      "text/plain": [
       "<Figure size 1296x432 with 1 Axes>"
      ]
     },
     "metadata": {
      "needs_background": "light"
     },
     "output_type": "display_data"
    }
   ],
   "source": [
    "ax = df['Family_Interaction'].value_counts()[:30].plot(kind='bar',color='slateblue',figsize=(18,6),fontsize=12)\n",
    "ax.set_xlabel(\"TF family interaction\",fontsize=16)\n",
    "ax.set_ylabel(\"# of occurences\",fontsize=16)\n",
    "ax.xaxis.set_tick_params(rotation=90)\n",
    "ax.set_title('Top interacting families of transcription factors',fontsize=18)\n",
    "plt.savefig('Family_interactions_Arabidopsis.pdf',bbox_inches='tight')"
   ]
  },
  {
   "cell_type": "code",
   "execution_count": 31,
   "metadata": {},
   "outputs": [
    {
     "data": {
      "image/png": "[encoded data removed]",
      "text/plain": [
       "<Figure size 1296x360 with 2 Axes>"
      ]
     },
     "metadata": {
      "needs_background": "light"
     },
     "output_type": "display_data"
    }
   ],
   "source": [
    "fig, axes = plt.subplots(1, 2)\n",
    "#ax1 = df['TF_interaction'].value_counts()[:20].plot(kind='bar',color='salmon',figsize=(18,5),fontsize=12,ax=axes[0])\n",
    "#ax1.set_xlabel(\"motif interaction\",fontsize=16)\n",
    "#ax1.set_ylabel(\"# of occurences\",fontsize=16)\n",
    "#ax1.xaxis.set_tick_params(rotation=90)\n",
    "#ax1.set_title('Most frequent interactions',fontsize=16)\n",
    "ax1 = df['Family_Interaction'].value_counts()[:15].plot(kind='bar',color='slateblue',figsize=(18,6),fontsize=14,ax=axes[0])\n",
    "ax1.set_xlabel(\"TF family interaction\",fontsize=19)\n",
    "ax1.set_ylabel(\"# of occurences\",fontsize=19)\n",
    "ax1.xaxis.set_tick_params(rotation=90)\n",
    "#ax1.set_title('Top interacting families of transcription factors',fontsize=18)\n",
    "\n",
    "\n",
    "ax2 = df['mean_distance'].plot(kind='hist',bins=30, figsize=(18,5),color='darkkhaki',fontsize=14,ax=axes[1])\n",
    "ax2.set_xlabel(\"interaction distance\",fontsize=19)\n",
    "ax2.set_ylabel(\"frequency\",fontsize=19)\n",
    "ax2.xaxis.set_tick_params(rotation=0)\n",
    "#ax2.set_title('Distribution of motif interaction distances',fontsize=18)\n",
    "\n",
    "ax1.text(0.5,-0.79, \"(a)\", size=23, ha=\"center\", \n",
    "         transform=ax1.transAxes)\n",
    "ax2.text(0.5,-0.79, \"(b)\", size=23, ha=\"center\", \n",
    "         transform=ax2.transAxes)\n",
    "#df_list[count].plot(ax=axes[1,1])\n",
    "plt.savefig('Main_Arabidopsis.pdf',bbox_inches='tight')"
   ]
  },
  {
   "cell_type": "code",
   "execution_count": 54,
   "metadata": {},
   "outputs": [
    {
     "data": {
      "text/plain": [
       "(230, 3.0)"
      ]
     },
     "execution_count": 54,
     "metadata": {},
     "output_type": "execute_result"
    }
   ],
   "source": [
    "len(df['TF_interaction'].value_counts()),np.median(df['TF_interaction'].value_counts())"
   ]
  }
 ],
 "metadata": {
  "kernelspec": {
   "display_name": "Python 3",
   "language": "python",
   "name": "python3"
  },
  "language_info": {
   "codemirror_mode": {
    "name": "ipython",
    "version": 3
   },
   "file_extension": ".py",
   "mimetype": "text/x-python",
   "name": "python",
   "nbconvert_exporter": "python",
   "pygments_lexer": "ipython3",
   "version": "3.7.3"
  }
 },
 "nbformat": 4,
 "nbformat_minor": 2
}
