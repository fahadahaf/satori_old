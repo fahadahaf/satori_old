{
 "cells": [
  {
   "cell_type": "code",
   "execution_count": 1,
   "metadata": {},
   "outputs": [],
   "source": [
    "import numpy as np\n",
    "import pandas as pd\n",
    "import pickle\n",
    "import matplotlib.pyplot as plt"
   ]
  },
  {
   "cell_type": "markdown",
   "metadata": {},
   "source": [
    "### Load the interactions summary from Human Promoter Analysis"
   ]
  },
  {
   "cell_type": "code",
   "execution_count": 2,
   "metadata": {},
   "outputs": [],
   "source": [
    "#df = pd.read_csv('Arabidopsis_GenomeWide_Analysis_euclidean_v8/Interactions_Results/interactions_summary_attnLimit-0.12.txt',sep='\\t')\n",
    "\n",
    "# new method 1000 examples\n",
    "run = 2\n",
    "numEx = 5000\n",
    "df = pd.read_csv('Arabidopsis_GenomeWide_Analysis_euclidean_v8/Interactions_Results_v9_run'+str(run)+'_'+str(numEx)+'/interactions_summary_attnLimit-0.12.txt',sep='\\t')"
   ]
  },
  {
   "cell_type": "code",
   "execution_count": 3,
   "metadata": {},
   "outputs": [
    {
     "data": {
      "text/plain": [
       "(5901, 12)"
      ]
     },
     "execution_count": 3,
     "metadata": {},
     "output_type": "execute_result"
    }
   ],
   "source": [
    "df.shape"
   ]
  },
  {
   "cell_type": "code",
   "execution_count": 4,
   "metadata": {},
   "outputs": [
    {
     "data": {
      "text/html": [
       "<div>\n",
       "<style scoped>\n",
       "    .dataframe tbody tr th:only-of-type {\n",
       "        vertical-align: middle;\n",
       "    }\n",
       "\n",
       "    .dataframe tbody tr th {\n",
       "        vertical-align: top;\n",
       "    }\n",
       "\n",
       "    .dataframe thead th {\n",
       "        text-align: right;\n",
       "    }\n",
       "</style>\n",
       "<table border=\"1\" class=\"dataframe\">\n",
       "  <thead>\n",
       "    <tr style=\"text-align: right;\">\n",
       "      <th></th>\n",
       "      <th>filter_interaction</th>\n",
       "      <th>example_no</th>\n",
       "      <th>motif1</th>\n",
       "      <th>motif1_qval</th>\n",
       "      <th>motif2</th>\n",
       "      <th>motif2_qval</th>\n",
       "      <th>mean_distance</th>\n",
       "      <th>mean_distance_bg</th>\n",
       "      <th>num_obs</th>\n",
       "      <th>num_obs_bg</th>\n",
       "      <th>pval</th>\n",
       "      <th>adjusted_pval</th>\n",
       "    </tr>\n",
       "  </thead>\n",
       "  <tbody>\n",
       "    <tr>\n",
       "      <td>0</td>\n",
       "      <td>filter0&lt;--&gt;filter3</td>\n",
       "      <td>2</td>\n",
       "      <td>Trihelix_tnt.AT1G76880_col_a_m1</td>\n",
       "      <td>0.000651</td>\n",
       "      <td>C2H2_tnt.AtIDD11_col_a_m1</td>\n",
       "      <td>0.016772</td>\n",
       "      <td>18.0</td>\n",
       "      <td>180.0</td>\n",
       "      <td>1669.0</td>\n",
       "      <td>1652.0</td>\n",
       "      <td>8.488437e-66</td>\n",
       "      <td>2.297252e-65</td>\n",
       "    </tr>\n",
       "    <tr>\n",
       "      <td>1</td>\n",
       "      <td>filter0&lt;--&gt;filter9</td>\n",
       "      <td>8</td>\n",
       "      <td>Trihelix_tnt.AT1G76880_col_a_m1</td>\n",
       "      <td>0.000651</td>\n",
       "      <td>MYB_tnt.MYB51_col_a_m1</td>\n",
       "      <td>0.004521</td>\n",
       "      <td>216.0</td>\n",
       "      <td>18.0</td>\n",
       "      <td>1794.0</td>\n",
       "      <td>2300.0</td>\n",
       "      <td>9.085282e-65</td>\n",
       "      <td>2.406406e-64</td>\n",
       "    </tr>\n",
       "    <tr>\n",
       "      <td>2</td>\n",
       "      <td>filter0&lt;--&gt;filter10</td>\n",
       "      <td>9</td>\n",
       "      <td>Trihelix_tnt.AT1G76880_col_a_m1</td>\n",
       "      <td>0.000651</td>\n",
       "      <td>C2C2dof_tnt.OBP1_col_a_m1</td>\n",
       "      <td>0.012554</td>\n",
       "      <td>204.0</td>\n",
       "      <td>204.0</td>\n",
       "      <td>2275.0</td>\n",
       "      <td>2258.0</td>\n",
       "      <td>7.636664e-125</td>\n",
       "      <td>5.327582e-124</td>\n",
       "    </tr>\n",
       "    <tr>\n",
       "      <td>3</td>\n",
       "      <td>filter0&lt;--&gt;filter13</td>\n",
       "      <td>12</td>\n",
       "      <td>Trihelix_tnt.AT1G76880_col_a_m1</td>\n",
       "      <td>0.000651</td>\n",
       "      <td>G2like_tnt.AT2G40260_colamp_a_m1</td>\n",
       "      <td>0.005267</td>\n",
       "      <td>6.0</td>\n",
       "      <td>60.0</td>\n",
       "      <td>2536.0</td>\n",
       "      <td>3405.0</td>\n",
       "      <td>2.009452e-169</td>\n",
       "      <td>2.177760e-168</td>\n",
       "    </tr>\n",
       "    <tr>\n",
       "      <td>4</td>\n",
       "      <td>filter0&lt;--&gt;filter14</td>\n",
       "      <td>13</td>\n",
       "      <td>Trihelix_tnt.AT1G76880_col_a_m1</td>\n",
       "      <td>0.000651</td>\n",
       "      <td>HB_tnt.ATHB40_col_a_m1</td>\n",
       "      <td>0.028770</td>\n",
       "      <td>12.0</td>\n",
       "      <td>126.0</td>\n",
       "      <td>2070.0</td>\n",
       "      <td>2750.0</td>\n",
       "      <td>3.486621e-272</td>\n",
       "      <td>7.929786e-271</td>\n",
       "    </tr>\n",
       "  </tbody>\n",
       "</table>\n",
       "</div>"
      ],
      "text/plain": [
       "    filter_interaction  example_no                           motif1  \\\n",
       "0   filter0<-->filter3           2  Trihelix_tnt.AT1G76880_col_a_m1   \n",
       "1   filter0<-->filter9           8  Trihelix_tnt.AT1G76880_col_a_m1   \n",
       "2  filter0<-->filter10           9  Trihelix_tnt.AT1G76880_col_a_m1   \n",
       "3  filter0<-->filter13          12  Trihelix_tnt.AT1G76880_col_a_m1   \n",
       "4  filter0<-->filter14          13  Trihelix_tnt.AT1G76880_col_a_m1   \n",
       "\n",
       "   motif1_qval                            motif2  motif2_qval  mean_distance  \\\n",
       "0     0.000651         C2H2_tnt.AtIDD11_col_a_m1     0.016772           18.0   \n",
       "1     0.000651            MYB_tnt.MYB51_col_a_m1     0.004521          216.0   \n",
       "2     0.000651         C2C2dof_tnt.OBP1_col_a_m1     0.012554          204.0   \n",
       "3     0.000651  G2like_tnt.AT2G40260_colamp_a_m1     0.005267            6.0   \n",
       "4     0.000651            HB_tnt.ATHB40_col_a_m1     0.028770           12.0   \n",
       "\n",
       "   mean_distance_bg  num_obs  num_obs_bg           pval  adjusted_pval  \n",
       "0             180.0   1669.0      1652.0   8.488437e-66   2.297252e-65  \n",
       "1              18.0   1794.0      2300.0   9.085282e-65   2.406406e-64  \n",
       "2             204.0   2275.0      2258.0  7.636664e-125  5.327582e-124  \n",
       "3              60.0   2536.0      3405.0  2.009452e-169  2.177760e-168  \n",
       "4             126.0   2070.0      2750.0  3.486621e-272  7.929786e-271  "
      ]
     },
     "execution_count": 4,
     "metadata": {},
     "output_type": "execute_result"
    }
   ],
   "source": [
    "df.head()"
   ]
  },
  {
   "cell_type": "markdown",
   "metadata": {},
   "source": [
    "##### keep significant interactions"
   ]
  },
  {
   "cell_type": "code",
   "execution_count": 5,
   "metadata": {},
   "outputs": [],
   "source": [
    "df = df[df['adjusted_pval']<0.05]"
   ]
  },
  {
   "cell_type": "code",
   "execution_count": 6,
   "metadata": {},
   "outputs": [
    {
     "data": {
      "text/plain": [
       "(5901, 12)"
      ]
     },
     "execution_count": 6,
     "metadata": {},
     "output_type": "execute_result"
    }
   ],
   "source": [
    "df.shape"
   ]
  },
  {
   "cell_type": "code",
   "execution_count": 7,
   "metadata": {},
   "outputs": [],
   "source": [
    "#df = df[(df['motif1_qval'] < 0.01) & (df['motif2_qval']<0.01)]"
   ]
  },
  {
   "cell_type": "code",
   "execution_count": 8,
   "metadata": {},
   "outputs": [
    {
     "data": {
      "text/plain": [
       "(5901, 12)"
      ]
     },
     "execution_count": 8,
     "metadata": {},
     "output_type": "execute_result"
    }
   ],
   "source": [
    "df.shape"
   ]
  },
  {
   "cell_type": "markdown",
   "metadata": {},
   "source": [
    "### Get TF-TF interactions"
   ]
  },
  {
   "cell_type": "code",
   "execution_count": 9,
   "metadata": {},
   "outputs": [],
   "source": [
    "df['TF_interaction'] = df.apply(lambda x: x['motif1']+r'$\\longleftrightarrow$'+x['motif2'], axis=1)"
   ]
  },
  {
   "cell_type": "code",
   "execution_count": 10,
   "metadata": {},
   "outputs": [
    {
     "data": {
      "text/html": [
       "<div>\n",
       "<style scoped>\n",
       "    .dataframe tbody tr th:only-of-type {\n",
       "        vertical-align: middle;\n",
       "    }\n",
       "\n",
       "    .dataframe tbody tr th {\n",
       "        vertical-align: top;\n",
       "    }\n",
       "\n",
       "    .dataframe thead th {\n",
       "        text-align: right;\n",
       "    }\n",
       "</style>\n",
       "<table border=\"1\" class=\"dataframe\">\n",
       "  <thead>\n",
       "    <tr style=\"text-align: right;\">\n",
       "      <th></th>\n",
       "      <th>filter_interaction</th>\n",
       "      <th>example_no</th>\n",
       "      <th>motif1</th>\n",
       "      <th>motif1_qval</th>\n",
       "      <th>motif2</th>\n",
       "      <th>motif2_qval</th>\n",
       "      <th>mean_distance</th>\n",
       "      <th>mean_distance_bg</th>\n",
       "      <th>num_obs</th>\n",
       "      <th>num_obs_bg</th>\n",
       "      <th>pval</th>\n",
       "      <th>adjusted_pval</th>\n",
       "      <th>TF_interaction</th>\n",
       "    </tr>\n",
       "  </thead>\n",
       "  <tbody>\n",
       "    <tr>\n",
       "      <td>0</td>\n",
       "      <td>filter0&lt;--&gt;filter3</td>\n",
       "      <td>2</td>\n",
       "      <td>Trihelix_tnt.AT1G76880_col_a_m1</td>\n",
       "      <td>0.000651</td>\n",
       "      <td>C2H2_tnt.AtIDD11_col_a_m1</td>\n",
       "      <td>0.016772</td>\n",
       "      <td>18.0</td>\n",
       "      <td>180.0</td>\n",
       "      <td>1669.0</td>\n",
       "      <td>1652.0</td>\n",
       "      <td>8.488437e-66</td>\n",
       "      <td>2.297252e-65</td>\n",
       "      <td>Trihelix_tnt.AT1G76880_col_a_m1$\\longleftright...</td>\n",
       "    </tr>\n",
       "    <tr>\n",
       "      <td>1</td>\n",
       "      <td>filter0&lt;--&gt;filter9</td>\n",
       "      <td>8</td>\n",
       "      <td>Trihelix_tnt.AT1G76880_col_a_m1</td>\n",
       "      <td>0.000651</td>\n",
       "      <td>MYB_tnt.MYB51_col_a_m1</td>\n",
       "      <td>0.004521</td>\n",
       "      <td>216.0</td>\n",
       "      <td>18.0</td>\n",
       "      <td>1794.0</td>\n",
       "      <td>2300.0</td>\n",
       "      <td>9.085282e-65</td>\n",
       "      <td>2.406406e-64</td>\n",
       "      <td>Trihelix_tnt.AT1G76880_col_a_m1$\\longleftright...</td>\n",
       "    </tr>\n",
       "    <tr>\n",
       "      <td>2</td>\n",
       "      <td>filter0&lt;--&gt;filter10</td>\n",
       "      <td>9</td>\n",
       "      <td>Trihelix_tnt.AT1G76880_col_a_m1</td>\n",
       "      <td>0.000651</td>\n",
       "      <td>C2C2dof_tnt.OBP1_col_a_m1</td>\n",
       "      <td>0.012554</td>\n",
       "      <td>204.0</td>\n",
       "      <td>204.0</td>\n",
       "      <td>2275.0</td>\n",
       "      <td>2258.0</td>\n",
       "      <td>7.636664e-125</td>\n",
       "      <td>5.327582e-124</td>\n",
       "      <td>Trihelix_tnt.AT1G76880_col_a_m1$\\longleftright...</td>\n",
       "    </tr>\n",
       "    <tr>\n",
       "      <td>3</td>\n",
       "      <td>filter0&lt;--&gt;filter13</td>\n",
       "      <td>12</td>\n",
       "      <td>Trihelix_tnt.AT1G76880_col_a_m1</td>\n",
       "      <td>0.000651</td>\n",
       "      <td>G2like_tnt.AT2G40260_colamp_a_m1</td>\n",
       "      <td>0.005267</td>\n",
       "      <td>6.0</td>\n",
       "      <td>60.0</td>\n",
       "      <td>2536.0</td>\n",
       "      <td>3405.0</td>\n",
       "      <td>2.009452e-169</td>\n",
       "      <td>2.177760e-168</td>\n",
       "      <td>Trihelix_tnt.AT1G76880_col_a_m1$\\longleftright...</td>\n",
       "    </tr>\n",
       "    <tr>\n",
       "      <td>4</td>\n",
       "      <td>filter0&lt;--&gt;filter14</td>\n",
       "      <td>13</td>\n",
       "      <td>Trihelix_tnt.AT1G76880_col_a_m1</td>\n",
       "      <td>0.000651</td>\n",
       "      <td>HB_tnt.ATHB40_col_a_m1</td>\n",
       "      <td>0.028770</td>\n",
       "      <td>12.0</td>\n",
       "      <td>126.0</td>\n",
       "      <td>2070.0</td>\n",
       "      <td>2750.0</td>\n",
       "      <td>3.486621e-272</td>\n",
       "      <td>7.929786e-271</td>\n",
       "      <td>Trihelix_tnt.AT1G76880_col_a_m1$\\longleftright...</td>\n",
       "    </tr>\n",
       "  </tbody>\n",
       "</table>\n",
       "</div>"
      ],
      "text/plain": [
       "    filter_interaction  example_no                           motif1  \\\n",
       "0   filter0<-->filter3           2  Trihelix_tnt.AT1G76880_col_a_m1   \n",
       "1   filter0<-->filter9           8  Trihelix_tnt.AT1G76880_col_a_m1   \n",
       "2  filter0<-->filter10           9  Trihelix_tnt.AT1G76880_col_a_m1   \n",
       "3  filter0<-->filter13          12  Trihelix_tnt.AT1G76880_col_a_m1   \n",
       "4  filter0<-->filter14          13  Trihelix_tnt.AT1G76880_col_a_m1   \n",
       "\n",
       "   motif1_qval                            motif2  motif2_qval  mean_distance  \\\n",
       "0     0.000651         C2H2_tnt.AtIDD11_col_a_m1     0.016772           18.0   \n",
       "1     0.000651            MYB_tnt.MYB51_col_a_m1     0.004521          216.0   \n",
       "2     0.000651         C2C2dof_tnt.OBP1_col_a_m1     0.012554          204.0   \n",
       "3     0.000651  G2like_tnt.AT2G40260_colamp_a_m1     0.005267            6.0   \n",
       "4     0.000651            HB_tnt.ATHB40_col_a_m1     0.028770           12.0   \n",
       "\n",
       "   mean_distance_bg  num_obs  num_obs_bg           pval  adjusted_pval  \\\n",
       "0             180.0   1669.0      1652.0   8.488437e-66   2.297252e-65   \n",
       "1              18.0   1794.0      2300.0   9.085282e-65   2.406406e-64   \n",
       "2             204.0   2275.0      2258.0  7.636664e-125  5.327582e-124   \n",
       "3              60.0   2536.0      3405.0  2.009452e-169  2.177760e-168   \n",
       "4             126.0   2070.0      2750.0  3.486621e-272  7.929786e-271   \n",
       "\n",
       "                                      TF_interaction  \n",
       "0  Trihelix_tnt.AT1G76880_col_a_m1$\\longleftright...  \n",
       "1  Trihelix_tnt.AT1G76880_col_a_m1$\\longleftright...  \n",
       "2  Trihelix_tnt.AT1G76880_col_a_m1$\\longleftright...  \n",
       "3  Trihelix_tnt.AT1G76880_col_a_m1$\\longleftright...  \n",
       "4  Trihelix_tnt.AT1G76880_col_a_m1$\\longleftright...  "
      ]
     },
     "execution_count": 10,
     "metadata": {},
     "output_type": "execute_result"
    }
   ],
   "source": [
    "df.head()"
   ]
  },
  {
   "cell_type": "code",
   "execution_count": 11,
   "metadata": {},
   "outputs": [],
   "source": [
    "df = df[df['motif1']!=df['motif2']]"
   ]
  },
  {
   "cell_type": "code",
   "execution_count": 12,
   "metadata": {},
   "outputs": [
    {
     "data": {
      "text/plain": [
       "(5527, 14)"
      ]
     },
     "execution_count": 12,
     "metadata": {},
     "output_type": "execute_result"
    }
   ],
   "source": [
    "df = df.reset_index()\n",
    "df.shape"
   ]
  },
  {
   "cell_type": "code",
   "execution_count": 13,
   "metadata": {},
   "outputs": [
    {
     "name": "stderr",
     "output_type": "stream",
     "text": [
      "/s/jawar/h/nobackup/fahad/miniconda3/lib/python3.7/site-packages/ipykernel_launcher.py:10: SettingWithCopyWarning: \n",
      "A value is trying to be set on a copy of a slice from a DataFrame\n",
      "\n",
      "See the caveats in the documentation: http://pandas.pydata.org/pandas-docs/stable/user_guide/indexing.html#returning-a-view-versus-a-copy\n",
      "  # Remove the CWD from sys.path while we load stuff.\n",
      "/s/jawar/h/nobackup/fahad/miniconda3/lib/python3.7/site-packages/ipykernel_launcher.py:12: SettingWithCopyWarning: \n",
      "A value is trying to be set on a copy of a slice from a DataFrame\n",
      "\n",
      "See the caveats in the documentation: http://pandas.pydata.org/pandas-docs/stable/user_guide/indexing.html#returning-a-view-versus-a-copy\n",
      "  if sys.path[0] == '':\n"
     ]
    }
   ],
   "source": [
    "all_interactions_dict = []\n",
    "for i in range(df.shape[0]):\n",
    "    TF1 = df['motif1'][i]\n",
    "    TF2 = df['motif2'][i]\n",
    "    TF_intr = TF1+r'$\\longleftrightarrow$'+TF2\n",
    "    TF_intr_rev = TF2+r'$\\longleftrightarrow$'+TF1\n",
    "    if TF_intr not in all_interactions_dict and TF_intr_rev not in all_interactions_dict:\n",
    "        all_interactions_dict.append(TF_intr)\n",
    "    elif TF_intr in all_interactions_dict:\n",
    "        df['TF_interaction'][i] = TF_intr\n",
    "    elif TF_intr_rev in all_interactions_dict:\n",
    "        df['TF_interaction'][i] = TF_intr_rev"
   ]
  },
  {
   "cell_type": "markdown",
   "metadata": {},
   "source": [
    "### Distribution of mean distance of interaction"
   ]
  },
  {
   "cell_type": "code",
   "execution_count": 14,
   "metadata": {},
   "outputs": [
    {
     "data": {
      "text/plain": [
       "<matplotlib.axes._subplots.AxesSubplot at 0x7f2959b87d30>"
      ]
     },
     "execution_count": 14,
     "metadata": {},
     "output_type": "execute_result"
    },
    {
     "data": {
      "image/png": "[encoded data removed]",
      "text/plain": [
       "<Figure size 1296x576 with 1 Axes>"
      ]
     },
     "metadata": {
      "needs_background": "light"
     },
     "output_type": "display_data"
    }
   ],
   "source": [
    "df['mean_distance'].hist(bins=25, figsize=(18,8))"
   ]
  },
  {
   "cell_type": "code",
   "execution_count": 15,
   "metadata": {},
   "outputs": [
    {
     "data": {
      "text/plain": [
       "(151.98769676135336, 138.0)"
      ]
     },
     "execution_count": 15,
     "metadata": {},
     "output_type": "execute_result"
    }
   ],
   "source": [
    "df['mean_distance'].mean(),df['mean_distance'].median()"
   ]
  },
  {
   "cell_type": "markdown",
   "metadata": {},
   "source": [
    "### Most Frequent TF Family Interactions"
   ]
  },
  {
   "cell_type": "code",
   "execution_count": 16,
   "metadata": {},
   "outputs": [],
   "source": [
    "df['TF_A_Family'] = df['motif1'].apply(lambda x: x.split('_')[0])\n",
    "df['TF_B_Family'] = df['motif2'].apply(lambda x: x.split('_')[0])"
   ]
  },
  {
   "cell_type": "code",
   "execution_count": 17,
   "metadata": {},
   "outputs": [
    {
     "data": {
      "text/html": [
       "<div>\n",
       "<style scoped>\n",
       "    .dataframe tbody tr th:only-of-type {\n",
       "        vertical-align: middle;\n",
       "    }\n",
       "\n",
       "    .dataframe tbody tr th {\n",
       "        vertical-align: top;\n",
       "    }\n",
       "\n",
       "    .dataframe thead th {\n",
       "        text-align: right;\n",
       "    }\n",
       "</style>\n",
       "<table border=\"1\" class=\"dataframe\">\n",
       "  <thead>\n",
       "    <tr style=\"text-align: right;\">\n",
       "      <th></th>\n",
       "      <th>index</th>\n",
       "      <th>filter_interaction</th>\n",
       "      <th>example_no</th>\n",
       "      <th>motif1</th>\n",
       "      <th>motif1_qval</th>\n",
       "      <th>motif2</th>\n",
       "      <th>motif2_qval</th>\n",
       "      <th>mean_distance</th>\n",
       "      <th>mean_distance_bg</th>\n",
       "      <th>num_obs</th>\n",
       "      <th>num_obs_bg</th>\n",
       "      <th>pval</th>\n",
       "      <th>adjusted_pval</th>\n",
       "      <th>TF_interaction</th>\n",
       "      <th>TF_A_Family</th>\n",
       "      <th>TF_B_Family</th>\n",
       "    </tr>\n",
       "  </thead>\n",
       "  <tbody>\n",
       "    <tr>\n",
       "      <td>0</td>\n",
       "      <td>0</td>\n",
       "      <td>filter0&lt;--&gt;filter3</td>\n",
       "      <td>2</td>\n",
       "      <td>Trihelix_tnt.AT1G76880_col_a_m1</td>\n",
       "      <td>0.000651</td>\n",
       "      <td>C2H2_tnt.AtIDD11_col_a_m1</td>\n",
       "      <td>0.016772</td>\n",
       "      <td>18.0</td>\n",
       "      <td>180.0</td>\n",
       "      <td>1669.0</td>\n",
       "      <td>1652.0</td>\n",
       "      <td>8.488437e-66</td>\n",
       "      <td>2.297252e-65</td>\n",
       "      <td>Trihelix_tnt.AT1G76880_col_a_m1$\\longleftright...</td>\n",
       "      <td>Trihelix</td>\n",
       "      <td>C2H2</td>\n",
       "    </tr>\n",
       "    <tr>\n",
       "      <td>1</td>\n",
       "      <td>1</td>\n",
       "      <td>filter0&lt;--&gt;filter9</td>\n",
       "      <td>8</td>\n",
       "      <td>Trihelix_tnt.AT1G76880_col_a_m1</td>\n",
       "      <td>0.000651</td>\n",
       "      <td>MYB_tnt.MYB51_col_a_m1</td>\n",
       "      <td>0.004521</td>\n",
       "      <td>216.0</td>\n",
       "      <td>18.0</td>\n",
       "      <td>1794.0</td>\n",
       "      <td>2300.0</td>\n",
       "      <td>9.085282e-65</td>\n",
       "      <td>2.406406e-64</td>\n",
       "      <td>Trihelix_tnt.AT1G76880_col_a_m1$\\longleftright...</td>\n",
       "      <td>Trihelix</td>\n",
       "      <td>MYB</td>\n",
       "    </tr>\n",
       "    <tr>\n",
       "      <td>2</td>\n",
       "      <td>2</td>\n",
       "      <td>filter0&lt;--&gt;filter10</td>\n",
       "      <td>9</td>\n",
       "      <td>Trihelix_tnt.AT1G76880_col_a_m1</td>\n",
       "      <td>0.000651</td>\n",
       "      <td>C2C2dof_tnt.OBP1_col_a_m1</td>\n",
       "      <td>0.012554</td>\n",
       "      <td>204.0</td>\n",
       "      <td>204.0</td>\n",
       "      <td>2275.0</td>\n",
       "      <td>2258.0</td>\n",
       "      <td>7.636664e-125</td>\n",
       "      <td>5.327582e-124</td>\n",
       "      <td>Trihelix_tnt.AT1G76880_col_a_m1$\\longleftright...</td>\n",
       "      <td>Trihelix</td>\n",
       "      <td>C2C2dof</td>\n",
       "    </tr>\n",
       "    <tr>\n",
       "      <td>3</td>\n",
       "      <td>3</td>\n",
       "      <td>filter0&lt;--&gt;filter13</td>\n",
       "      <td>12</td>\n",
       "      <td>Trihelix_tnt.AT1G76880_col_a_m1</td>\n",
       "      <td>0.000651</td>\n",
       "      <td>G2like_tnt.AT2G40260_colamp_a_m1</td>\n",
       "      <td>0.005267</td>\n",
       "      <td>6.0</td>\n",
       "      <td>60.0</td>\n",
       "      <td>2536.0</td>\n",
       "      <td>3405.0</td>\n",
       "      <td>2.009452e-169</td>\n",
       "      <td>2.177760e-168</td>\n",
       "      <td>Trihelix_tnt.AT1G76880_col_a_m1$\\longleftright...</td>\n",
       "      <td>Trihelix</td>\n",
       "      <td>G2like</td>\n",
       "    </tr>\n",
       "    <tr>\n",
       "      <td>4</td>\n",
       "      <td>4</td>\n",
       "      <td>filter0&lt;--&gt;filter14</td>\n",
       "      <td>13</td>\n",
       "      <td>Trihelix_tnt.AT1G76880_col_a_m1</td>\n",
       "      <td>0.000651</td>\n",
       "      <td>HB_tnt.ATHB40_col_a_m1</td>\n",
       "      <td>0.028770</td>\n",
       "      <td>12.0</td>\n",
       "      <td>126.0</td>\n",
       "      <td>2070.0</td>\n",
       "      <td>2750.0</td>\n",
       "      <td>3.486621e-272</td>\n",
       "      <td>7.929786e-271</td>\n",
       "      <td>Trihelix_tnt.AT1G76880_col_a_m1$\\longleftright...</td>\n",
       "      <td>Trihelix</td>\n",
       "      <td>HB</td>\n",
       "    </tr>\n",
       "    <tr>\n",
       "      <td>5</td>\n",
       "      <td>5</td>\n",
       "      <td>filter0&lt;--&gt;filter15</td>\n",
       "      <td>14</td>\n",
       "      <td>Trihelix_tnt.AT1G76880_col_a_m1</td>\n",
       "      <td>0.000651</td>\n",
       "      <td>WRKY_tnt.WRKY7_colamp_a_m1</td>\n",
       "      <td>0.000399</td>\n",
       "      <td>90.0</td>\n",
       "      <td>120.0</td>\n",
       "      <td>3241.0</td>\n",
       "      <td>3492.0</td>\n",
       "      <td>2.910253e-308</td>\n",
       "      <td>8.860309e-307</td>\n",
       "      <td>Trihelix_tnt.AT1G76880_col_a_m1$\\longleftright...</td>\n",
       "      <td>Trihelix</td>\n",
       "      <td>WRKY</td>\n",
       "    </tr>\n",
       "    <tr>\n",
       "      <td>6</td>\n",
       "      <td>6</td>\n",
       "      <td>filter0&lt;--&gt;filter18</td>\n",
       "      <td>17</td>\n",
       "      <td>Trihelix_tnt.AT1G76880_col_a_m1</td>\n",
       "      <td>0.000651</td>\n",
       "      <td>C2C2dof_tnt.AT1G69570_colamp_a_m1</td>\n",
       "      <td>0.001660</td>\n",
       "      <td>12.0</td>\n",
       "      <td>6.0</td>\n",
       "      <td>2867.0</td>\n",
       "      <td>3504.0</td>\n",
       "      <td>0.000000e+00</td>\n",
       "      <td>0.000000e+00</td>\n",
       "      <td>Trihelix_tnt.AT1G76880_col_a_m1$\\longleftright...</td>\n",
       "      <td>Trihelix</td>\n",
       "      <td>C2C2dof</td>\n",
       "    </tr>\n",
       "    <tr>\n",
       "      <td>7</td>\n",
       "      <td>7</td>\n",
       "      <td>filter0&lt;--&gt;filter20</td>\n",
       "      <td>19</td>\n",
       "      <td>Trihelix_tnt.AT1G76880_col_a_m1</td>\n",
       "      <td>0.000651</td>\n",
       "      <td>G2like_tnt.AT2G40260_colamp_a_m1</td>\n",
       "      <td>0.009442</td>\n",
       "      <td>30.0</td>\n",
       "      <td>234.0</td>\n",
       "      <td>3334.0</td>\n",
       "      <td>4077.0</td>\n",
       "      <td>1.320068e-291</td>\n",
       "      <td>3.462917e-290</td>\n",
       "      <td>Trihelix_tnt.AT1G76880_col_a_m1$\\longleftright...</td>\n",
       "      <td>Trihelix</td>\n",
       "      <td>G2like</td>\n",
       "    </tr>\n",
       "    <tr>\n",
       "      <td>8</td>\n",
       "      <td>8</td>\n",
       "      <td>filter0&lt;--&gt;filter23</td>\n",
       "      <td>22</td>\n",
       "      <td>Trihelix_tnt.AT1G76880_col_a_m1</td>\n",
       "      <td>0.000651</td>\n",
       "      <td>GRF_tnt.AtGRF6_col_a_m1</td>\n",
       "      <td>0.038239</td>\n",
       "      <td>90.0</td>\n",
       "      <td>222.0</td>\n",
       "      <td>1825.0</td>\n",
       "      <td>1797.0</td>\n",
       "      <td>3.226615e-92</td>\n",
       "      <td>1.430648e-91</td>\n",
       "      <td>Trihelix_tnt.AT1G76880_col_a_m1$\\longleftright...</td>\n",
       "      <td>Trihelix</td>\n",
       "      <td>GRF</td>\n",
       "    </tr>\n",
       "    <tr>\n",
       "      <td>9</td>\n",
       "      <td>9</td>\n",
       "      <td>filter0&lt;--&gt;filter24</td>\n",
       "      <td>23</td>\n",
       "      <td>Trihelix_tnt.AT1G76880_col_a_m1</td>\n",
       "      <td>0.000651</td>\n",
       "      <td>C2H2_tnt.AtIDD11_col_a_m1</td>\n",
       "      <td>0.031325</td>\n",
       "      <td>66.0</td>\n",
       "      <td>372.0</td>\n",
       "      <td>3086.0</td>\n",
       "      <td>3818.0</td>\n",
       "      <td>6.555940e-299</td>\n",
       "      <td>1.827456e-297</td>\n",
       "      <td>Trihelix_tnt.AT1G76880_col_a_m1$\\longleftright...</td>\n",
       "      <td>Trihelix</td>\n",
       "      <td>C2H2</td>\n",
       "    </tr>\n",
       "  </tbody>\n",
       "</table>\n",
       "</div>"
      ],
      "text/plain": [
       "   index   filter_interaction  example_no                           motif1  \\\n",
       "0      0   filter0<-->filter3           2  Trihelix_tnt.AT1G76880_col_a_m1   \n",
       "1      1   filter0<-->filter9           8  Trihelix_tnt.AT1G76880_col_a_m1   \n",
       "2      2  filter0<-->filter10           9  Trihelix_tnt.AT1G76880_col_a_m1   \n",
       "3      3  filter0<-->filter13          12  Trihelix_tnt.AT1G76880_col_a_m1   \n",
       "4      4  filter0<-->filter14          13  Trihelix_tnt.AT1G76880_col_a_m1   \n",
       "5      5  filter0<-->filter15          14  Trihelix_tnt.AT1G76880_col_a_m1   \n",
       "6      6  filter0<-->filter18          17  Trihelix_tnt.AT1G76880_col_a_m1   \n",
       "7      7  filter0<-->filter20          19  Trihelix_tnt.AT1G76880_col_a_m1   \n",
       "8      8  filter0<-->filter23          22  Trihelix_tnt.AT1G76880_col_a_m1   \n",
       "9      9  filter0<-->filter24          23  Trihelix_tnt.AT1G76880_col_a_m1   \n",
       "\n",
       "   motif1_qval                             motif2  motif2_qval  mean_distance  \\\n",
       "0     0.000651          C2H2_tnt.AtIDD11_col_a_m1     0.016772           18.0   \n",
       "1     0.000651             MYB_tnt.MYB51_col_a_m1     0.004521          216.0   \n",
       "2     0.000651          C2C2dof_tnt.OBP1_col_a_m1     0.012554          204.0   \n",
       "3     0.000651   G2like_tnt.AT2G40260_colamp_a_m1     0.005267            6.0   \n",
       "4     0.000651             HB_tnt.ATHB40_col_a_m1     0.028770           12.0   \n",
       "5     0.000651         WRKY_tnt.WRKY7_colamp_a_m1     0.000399           90.0   \n",
       "6     0.000651  C2C2dof_tnt.AT1G69570_colamp_a_m1     0.001660           12.0   \n",
       "7     0.000651   G2like_tnt.AT2G40260_colamp_a_m1     0.009442           30.0   \n",
       "8     0.000651            GRF_tnt.AtGRF6_col_a_m1     0.038239           90.0   \n",
       "9     0.000651          C2H2_tnt.AtIDD11_col_a_m1     0.031325           66.0   \n",
       "\n",
       "   mean_distance_bg  num_obs  num_obs_bg           pval  adjusted_pval  \\\n",
       "0             180.0   1669.0      1652.0   8.488437e-66   2.297252e-65   \n",
       "1              18.0   1794.0      2300.0   9.085282e-65   2.406406e-64   \n",
       "2             204.0   2275.0      2258.0  7.636664e-125  5.327582e-124   \n",
       "3              60.0   2536.0      3405.0  2.009452e-169  2.177760e-168   \n",
       "4             126.0   2070.0      2750.0  3.486621e-272  7.929786e-271   \n",
       "5             120.0   3241.0      3492.0  2.910253e-308  8.860309e-307   \n",
       "6               6.0   2867.0      3504.0   0.000000e+00   0.000000e+00   \n",
       "7             234.0   3334.0      4077.0  1.320068e-291  3.462917e-290   \n",
       "8             222.0   1825.0      1797.0   3.226615e-92   1.430648e-91   \n",
       "9             372.0   3086.0      3818.0  6.555940e-299  1.827456e-297   \n",
       "\n",
       "                                      TF_interaction TF_A_Family TF_B_Family  \n",
       "0  Trihelix_tnt.AT1G76880_col_a_m1$\\longleftright...    Trihelix        C2H2  \n",
       "1  Trihelix_tnt.AT1G76880_col_a_m1$\\longleftright...    Trihelix         MYB  \n",
       "2  Trihelix_tnt.AT1G76880_col_a_m1$\\longleftright...    Trihelix     C2C2dof  \n",
       "3  Trihelix_tnt.AT1G76880_col_a_m1$\\longleftright...    Trihelix      G2like  \n",
       "4  Trihelix_tnt.AT1G76880_col_a_m1$\\longleftright...    Trihelix          HB  \n",
       "5  Trihelix_tnt.AT1G76880_col_a_m1$\\longleftright...    Trihelix        WRKY  \n",
       "6  Trihelix_tnt.AT1G76880_col_a_m1$\\longleftright...    Trihelix     C2C2dof  \n",
       "7  Trihelix_tnt.AT1G76880_col_a_m1$\\longleftright...    Trihelix      G2like  \n",
       "8  Trihelix_tnt.AT1G76880_col_a_m1$\\longleftright...    Trihelix         GRF  \n",
       "9  Trihelix_tnt.AT1G76880_col_a_m1$\\longleftright...    Trihelix        C2H2  "
      ]
     },
     "execution_count": 17,
     "metadata": {},
     "output_type": "execute_result"
    }
   ],
   "source": [
    "df.head(10)"
   ]
  },
  {
   "cell_type": "code",
   "execution_count": 18,
   "metadata": {},
   "outputs": [],
   "source": [
    "df['Family_Interaction'] = df.apply(lambda x: x['TF_A_Family']+r'$\\longleftrightarrow$'+x['TF_B_Family'],axis=1)"
   ]
  },
  {
   "cell_type": "code",
   "execution_count": 19,
   "metadata": {},
   "outputs": [
    {
     "name": "stderr",
     "output_type": "stream",
     "text": [
      "/s/jawar/h/nobackup/fahad/miniconda3/lib/python3.7/site-packages/ipykernel_launcher.py:10: SettingWithCopyWarning: \n",
      "A value is trying to be set on a copy of a slice from a DataFrame\n",
      "\n",
      "See the caveats in the documentation: http://pandas.pydata.org/pandas-docs/stable/user_guide/indexing.html#returning-a-view-versus-a-copy\n",
      "  # Remove the CWD from sys.path while we load stuff.\n",
      "/s/jawar/h/nobackup/fahad/miniconda3/lib/python3.7/site-packages/ipykernel_launcher.py:12: SettingWithCopyWarning: \n",
      "A value is trying to be set on a copy of a slice from a DataFrame\n",
      "\n",
      "See the caveats in the documentation: http://pandas.pydata.org/pandas-docs/stable/user_guide/indexing.html#returning-a-view-versus-a-copy\n",
      "  if sys.path[0] == '':\n"
     ]
    }
   ],
   "source": [
    "all_interactions_dict = []\n",
    "for i in range(df.shape[0]):\n",
    "    TF1 = df['TF_A_Family'][i]\n",
    "    TF2 = df['TF_B_Family'][i]\n",
    "    TF_intr = TF1+r'$\\longleftrightarrow$'+TF2\n",
    "    TF_intr_rev = TF2+r'$\\longleftrightarrow$'+TF1\n",
    "    if TF_intr not in all_interactions_dict and TF_intr_rev not in all_interactions_dict:\n",
    "        all_interactions_dict.append(TF_intr)\n",
    "    elif TF_intr in all_interactions_dict:\n",
    "        df['Family_Interaction'][i] = TF_intr\n",
    "    elif TF_intr_rev in all_interactions_dict:\n",
    "        df['Family_Interaction'][i] = TF_intr_rev"
   ]
  },
  {
   "cell_type": "code",
   "execution_count": 20,
   "metadata": {},
   "outputs": [
    {
     "data": {
      "text/html": [
       "<div>\n",
       "<style scoped>\n",
       "    .dataframe tbody tr th:only-of-type {\n",
       "        vertical-align: middle;\n",
       "    }\n",
       "\n",
       "    .dataframe tbody tr th {\n",
       "        vertical-align: top;\n",
       "    }\n",
       "\n",
       "    .dataframe thead th {\n",
       "        text-align: right;\n",
       "    }\n",
       "</style>\n",
       "<table border=\"1\" class=\"dataframe\">\n",
       "  <thead>\n",
       "    <tr style=\"text-align: right;\">\n",
       "      <th></th>\n",
       "      <th>index</th>\n",
       "      <th>filter_interaction</th>\n",
       "      <th>example_no</th>\n",
       "      <th>motif1</th>\n",
       "      <th>motif1_qval</th>\n",
       "      <th>motif2</th>\n",
       "      <th>motif2_qval</th>\n",
       "      <th>mean_distance</th>\n",
       "      <th>mean_distance_bg</th>\n",
       "      <th>num_obs</th>\n",
       "      <th>num_obs_bg</th>\n",
       "      <th>pval</th>\n",
       "      <th>adjusted_pval</th>\n",
       "      <th>TF_interaction</th>\n",
       "      <th>TF_A_Family</th>\n",
       "      <th>TF_B_Family</th>\n",
       "      <th>Family_Interaction</th>\n",
       "    </tr>\n",
       "  </thead>\n",
       "  <tbody>\n",
       "    <tr>\n",
       "      <td>0</td>\n",
       "      <td>0</td>\n",
       "      <td>filter0&lt;--&gt;filter3</td>\n",
       "      <td>2</td>\n",
       "      <td>Trihelix_tnt.AT1G76880_col_a_m1</td>\n",
       "      <td>0.000651</td>\n",
       "      <td>C2H2_tnt.AtIDD11_col_a_m1</td>\n",
       "      <td>0.016772</td>\n",
       "      <td>18.0</td>\n",
       "      <td>180.0</td>\n",
       "      <td>1669.0</td>\n",
       "      <td>1652.0</td>\n",
       "      <td>8.488437e-66</td>\n",
       "      <td>2.297252e-65</td>\n",
       "      <td>Trihelix_tnt.AT1G76880_col_a_m1$\\longleftright...</td>\n",
       "      <td>Trihelix</td>\n",
       "      <td>C2H2</td>\n",
       "      <td>Trihelix$\\longleftrightarrow$C2H2</td>\n",
       "    </tr>\n",
       "    <tr>\n",
       "      <td>1</td>\n",
       "      <td>1</td>\n",
       "      <td>filter0&lt;--&gt;filter9</td>\n",
       "      <td>8</td>\n",
       "      <td>Trihelix_tnt.AT1G76880_col_a_m1</td>\n",
       "      <td>0.000651</td>\n",
       "      <td>MYB_tnt.MYB51_col_a_m1</td>\n",
       "      <td>0.004521</td>\n",
       "      <td>216.0</td>\n",
       "      <td>18.0</td>\n",
       "      <td>1794.0</td>\n",
       "      <td>2300.0</td>\n",
       "      <td>9.085282e-65</td>\n",
       "      <td>2.406406e-64</td>\n",
       "      <td>Trihelix_tnt.AT1G76880_col_a_m1$\\longleftright...</td>\n",
       "      <td>Trihelix</td>\n",
       "      <td>MYB</td>\n",
       "      <td>Trihelix$\\longleftrightarrow$MYB</td>\n",
       "    </tr>\n",
       "    <tr>\n",
       "      <td>2</td>\n",
       "      <td>2</td>\n",
       "      <td>filter0&lt;--&gt;filter10</td>\n",
       "      <td>9</td>\n",
       "      <td>Trihelix_tnt.AT1G76880_col_a_m1</td>\n",
       "      <td>0.000651</td>\n",
       "      <td>C2C2dof_tnt.OBP1_col_a_m1</td>\n",
       "      <td>0.012554</td>\n",
       "      <td>204.0</td>\n",
       "      <td>204.0</td>\n",
       "      <td>2275.0</td>\n",
       "      <td>2258.0</td>\n",
       "      <td>7.636664e-125</td>\n",
       "      <td>5.327582e-124</td>\n",
       "      <td>Trihelix_tnt.AT1G76880_col_a_m1$\\longleftright...</td>\n",
       "      <td>Trihelix</td>\n",
       "      <td>C2C2dof</td>\n",
       "      <td>Trihelix$\\longleftrightarrow$C2C2dof</td>\n",
       "    </tr>\n",
       "    <tr>\n",
       "      <td>3</td>\n",
       "      <td>3</td>\n",
       "      <td>filter0&lt;--&gt;filter13</td>\n",
       "      <td>12</td>\n",
       "      <td>Trihelix_tnt.AT1G76880_col_a_m1</td>\n",
       "      <td>0.000651</td>\n",
       "      <td>G2like_tnt.AT2G40260_colamp_a_m1</td>\n",
       "      <td>0.005267</td>\n",
       "      <td>6.0</td>\n",
       "      <td>60.0</td>\n",
       "      <td>2536.0</td>\n",
       "      <td>3405.0</td>\n",
       "      <td>2.009452e-169</td>\n",
       "      <td>2.177760e-168</td>\n",
       "      <td>Trihelix_tnt.AT1G76880_col_a_m1$\\longleftright...</td>\n",
       "      <td>Trihelix</td>\n",
       "      <td>G2like</td>\n",
       "      <td>Trihelix$\\longleftrightarrow$G2like</td>\n",
       "    </tr>\n",
       "    <tr>\n",
       "      <td>4</td>\n",
       "      <td>4</td>\n",
       "      <td>filter0&lt;--&gt;filter14</td>\n",
       "      <td>13</td>\n",
       "      <td>Trihelix_tnt.AT1G76880_col_a_m1</td>\n",
       "      <td>0.000651</td>\n",
       "      <td>HB_tnt.ATHB40_col_a_m1</td>\n",
       "      <td>0.028770</td>\n",
       "      <td>12.0</td>\n",
       "      <td>126.0</td>\n",
       "      <td>2070.0</td>\n",
       "      <td>2750.0</td>\n",
       "      <td>3.486621e-272</td>\n",
       "      <td>7.929786e-271</td>\n",
       "      <td>Trihelix_tnt.AT1G76880_col_a_m1$\\longleftright...</td>\n",
       "      <td>Trihelix</td>\n",
       "      <td>HB</td>\n",
       "      <td>Trihelix$\\longleftrightarrow$HB</td>\n",
       "    </tr>\n",
       "  </tbody>\n",
       "</table>\n",
       "</div>"
      ],
      "text/plain": [
       "   index   filter_interaction  example_no                           motif1  \\\n",
       "0      0   filter0<-->filter3           2  Trihelix_tnt.AT1G76880_col_a_m1   \n",
       "1      1   filter0<-->filter9           8  Trihelix_tnt.AT1G76880_col_a_m1   \n",
       "2      2  filter0<-->filter10           9  Trihelix_tnt.AT1G76880_col_a_m1   \n",
       "3      3  filter0<-->filter13          12  Trihelix_tnt.AT1G76880_col_a_m1   \n",
       "4      4  filter0<-->filter14          13  Trihelix_tnt.AT1G76880_col_a_m1   \n",
       "\n",
       "   motif1_qval                            motif2  motif2_qval  mean_distance  \\\n",
       "0     0.000651         C2H2_tnt.AtIDD11_col_a_m1     0.016772           18.0   \n",
       "1     0.000651            MYB_tnt.MYB51_col_a_m1     0.004521          216.0   \n",
       "2     0.000651         C2C2dof_tnt.OBP1_col_a_m1     0.012554          204.0   \n",
       "3     0.000651  G2like_tnt.AT2G40260_colamp_a_m1     0.005267            6.0   \n",
       "4     0.000651            HB_tnt.ATHB40_col_a_m1     0.028770           12.0   \n",
       "\n",
       "   mean_distance_bg  num_obs  num_obs_bg           pval  adjusted_pval  \\\n",
       "0             180.0   1669.0      1652.0   8.488437e-66   2.297252e-65   \n",
       "1              18.0   1794.0      2300.0   9.085282e-65   2.406406e-64   \n",
       "2             204.0   2275.0      2258.0  7.636664e-125  5.327582e-124   \n",
       "3              60.0   2536.0      3405.0  2.009452e-169  2.177760e-168   \n",
       "4             126.0   2070.0      2750.0  3.486621e-272  7.929786e-271   \n",
       "\n",
       "                                      TF_interaction TF_A_Family TF_B_Family  \\\n",
       "0  Trihelix_tnt.AT1G76880_col_a_m1$\\longleftright...    Trihelix        C2H2   \n",
       "1  Trihelix_tnt.AT1G76880_col_a_m1$\\longleftright...    Trihelix         MYB   \n",
       "2  Trihelix_tnt.AT1G76880_col_a_m1$\\longleftright...    Trihelix     C2C2dof   \n",
       "3  Trihelix_tnt.AT1G76880_col_a_m1$\\longleftright...    Trihelix      G2like   \n",
       "4  Trihelix_tnt.AT1G76880_col_a_m1$\\longleftright...    Trihelix          HB   \n",
       "\n",
       "                     Family_Interaction  \n",
       "0     Trihelix$\\longleftrightarrow$C2H2  \n",
       "1      Trihelix$\\longleftrightarrow$MYB  \n",
       "2  Trihelix$\\longleftrightarrow$C2C2dof  \n",
       "3   Trihelix$\\longleftrightarrow$G2like  \n",
       "4       Trihelix$\\longleftrightarrow$HB  "
      ]
     },
     "execution_count": 20,
     "metadata": {},
     "output_type": "execute_result"
    }
   ],
   "source": [
    "df.head()"
   ]
  },
  {
   "cell_type": "code",
   "execution_count": 21,
   "metadata": {},
   "outputs": [
    {
     "data": {
      "text/plain": [
       "(5527, 17)"
      ]
     },
     "execution_count": 21,
     "metadata": {},
     "output_type": "execute_result"
    }
   ],
   "source": [
    "df.shape"
   ]
  },
  {
   "cell_type": "code",
   "execution_count": 22,
   "metadata": {},
   "outputs": [
    {
     "data": {
      "image/png": "[encoded data removed]",
      "text/plain": [
       "<Figure size 1296x432 with 1 Axes>"
      ]
     },
     "metadata": {
      "needs_background": "light"
     },
     "output_type": "display_data"
    }
   ],
   "source": [
    "ax = df['Family_Interaction'].value_counts()[:30].plot(kind='bar',color='slateblue',figsize=(18,6),fontsize=12)\n",
    "ax.set_xlabel(\"TF family interaction\",fontsize=16)\n",
    "ax.set_ylabel(\"# of occurences\",fontsize=16)\n",
    "ax.xaxis.set_tick_params(rotation=90)\n",
    "ax.set_title('Top interacting families of transcription factors',fontsize=18)\n",
    "plt.savefig('Family_interactions_Arabidopsis.pdf',bbox_inches='tight')"
   ]
  },
  {
   "cell_type": "code",
   "execution_count": 23,
   "metadata": {},
   "outputs": [
    {
     "data": {
      "image/png": "[encoded data removed]",
      "text/plain": [
       "<Figure size 1296x360 with 2 Axes>"
      ]
     },
     "metadata": {
      "needs_background": "light"
     },
     "output_type": "display_data"
    }
   ],
   "source": [
    "fig, axes = plt.subplots(1, 2)\n",
    "#ax1 = df['TF_interaction'].value_counts()[:20].plot(kind='bar',color='salmon',figsize=(18,5),fontsize=12,ax=axes[0])\n",
    "#ax1.set_xlabel(\"motif interaction\",fontsize=16)\n",
    "#ax1.set_ylabel(\"# of occurences\",fontsize=16)\n",
    "#ax1.xaxis.set_tick_params(rotation=90)\n",
    "#ax1.set_title('Most frequent interactions',fontsize=16)\n",
    "ax1 = df['Family_Interaction'].value_counts()[:15].plot(kind='bar',color='slateblue',figsize=(18,6),fontsize=14,ax=axes[0])\n",
    "ax1.set_xlabel(\"TF family interaction\",fontsize=19)\n",
    "ax1.set_ylabel(\"# of occurences\",fontsize=19)\n",
    "ax1.xaxis.set_tick_params(rotation=90)\n",
    "#ax1.set_title('Top interacting families of transcription factors',fontsize=18)\n",
    "\n",
    "\n",
    "ax2 = df['mean_distance'].plot(kind='hist',bins=30, figsize=(18,5),color='darkkhaki',fontsize=14,ax=axes[1])\n",
    "ax2.set_xlabel(\"interaction distance\",fontsize=19)\n",
    "ax2.set_ylabel(\"frequency\",fontsize=19)\n",
    "ax2.xaxis.set_tick_params(rotation=0)\n",
    "#ax2.set_title('Distribution of motif interaction distances',fontsize=18)\n",
    "\n",
    "ax1.text(0.5,-0.79, \"(a)\", size=23, ha=\"center\", \n",
    "         transform=ax1.transAxes)\n",
    "ax2.text(0.5,-0.79, \"(b)\", size=23, ha=\"center\", \n",
    "         transform=ax2.transAxes)\n",
    "#df_list[count].plot(ax=axes[1,1])\n",
    "plt.savefig('Main_Arabidopsis.pdf',bbox_inches='tight')"
   ]
  },
  {
   "cell_type": "code",
   "execution_count": 24,
   "metadata": {},
   "outputs": [
    {
     "data": {
      "text/plain": [
       "(557, 3.0)"
      ]
     },
     "execution_count": 24,
     "metadata": {},
     "output_type": "execute_result"
    }
   ],
   "source": [
    "len(df['TF_interaction'].value_counts()),np.median(df['TF_interaction'].value_counts())"
   ]
  },
  {
   "cell_type": "code",
   "execution_count": 25,
   "metadata": {},
   "outputs": [],
   "source": [
    "df['motifsOnlyInt'] = df['motif1']+':'+df['motif2']\n",
    "df['familyOnlyInt'] = df['TF_A_Family']+':'+df['TF_B_Family']\n",
    "df.to_csv('Attn_Arabidoposis_Final.txt',sep='\\t')"
   ]
  },
  {
   "cell_type": "code",
   "execution_count": 26,
   "metadata": {},
   "outputs": [],
   "source": [
    "#!ls -ll Attn_Arabidopsis_Final.txt"
   ]
  },
  {
   "cell_type": "code",
   "execution_count": 27,
   "metadata": {},
   "outputs": [],
   "source": [
    "dfx = df[['filter_interaction','TF_interaction','Family_Interaction','adjusted_pval']].sort_values(by='adjusted_pval').drop_duplicates('TF_interaction')\n",
    "dfx.to_csv('ATTN_TF_unique_interactions_Arabidopsis.csv',index=None)\n"
   ]
  },
  {
   "cell_type": "code",
   "execution_count": null,
   "metadata": {},
   "outputs": [],
   "source": []
  }
 ],
 "metadata": {
  "kernelspec": {
   "display_name": "Python 3",
   "language": "python",
   "name": "python3"
  },
  "language_info": {
   "codemirror_mode": {
    "name": "ipython",
    "version": 3
   },
   "file_extension": ".py",
   "mimetype": "text/x-python",
   "name": "python",
   "nbconvert_exporter": "python",
   "pygments_lexer": "ipython3",
   "version": "3.7.3"
  }
 },
 "nbformat": 4,
 "nbformat_minor": 2
}
