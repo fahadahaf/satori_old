{
 "cells": [
  {
   "cell_type": "code",
   "execution_count": 37,
   "metadata": {},
   "outputs": [],
   "source": [
    "import numpy as np\n",
    "import pandas as pd\n",
    "import matplotlib.pyplot as plt\n",
    "import matplotlib.patches as mpatches"
   ]
  },
  {
   "cell_type": "code",
   "execution_count": 38,
   "metadata": {},
   "outputs": [],
   "source": [
    "DFIM = pd.read_csv('DFIM_Arabidoposis_Final.txt',sep='\\t')\n",
    "ATTN = pd.read_csv('Attn_Arabidoposis_Final.txt',sep='\\t')"
   ]
  },
  {
   "cell_type": "markdown",
   "metadata": {},
   "source": [
    "### Individual TF Analysis"
   ]
  },
  {
   "cell_type": "code",
   "execution_count": 39,
   "metadata": {},
   "outputs": [
    {
     "data": {
      "text/html": [
       "<div>\n",
       "<style scoped>\n",
       "    .dataframe tbody tr th:only-of-type {\n",
       "        vertical-align: middle;\n",
       "    }\n",
       "\n",
       "    .dataframe tbody tr th {\n",
       "        vertical-align: top;\n",
       "    }\n",
       "\n",
       "    .dataframe thead th {\n",
       "        text-align: right;\n",
       "    }\n",
       "</style>\n",
       "<table border=\"1\" class=\"dataframe\">\n",
       "  <thead>\n",
       "    <tr style=\"text-align: right;\">\n",
       "      <th></th>\n",
       "      <th>Unnamed: 0</th>\n",
       "      <th>index</th>\n",
       "      <th>filter_interaction</th>\n",
       "      <th>example_no</th>\n",
       "      <th>motif1</th>\n",
       "      <th>motif1_qval</th>\n",
       "      <th>motif2</th>\n",
       "      <th>motif2_qval</th>\n",
       "      <th>mean_distance</th>\n",
       "      <th>mean_distance_bg</th>\n",
       "      <th>num_obs</th>\n",
       "      <th>num_obs_bg</th>\n",
       "      <th>pval</th>\n",
       "      <th>adjusted_pval</th>\n",
       "      <th>TF_interaction</th>\n",
       "      <th>TF_A_Family</th>\n",
       "      <th>TF_B_Family</th>\n",
       "      <th>Family_Interaction</th>\n",
       "      <th>motifsOnlyInt</th>\n",
       "      <th>familyOnlyInt</th>\n",
       "    </tr>\n",
       "  </thead>\n",
       "  <tbody>\n",
       "    <tr>\n",
       "      <td>0</td>\n",
       "      <td>0</td>\n",
       "      <td>2</td>\n",
       "      <td>filter0&lt;--&gt;filter5</td>\n",
       "      <td>4</td>\n",
       "      <td>AP2EREBP_tnt.DEAR5_col_a_m1</td>\n",
       "      <td>0.02189</td>\n",
       "      <td>G2like_tnt.AT2G40260_colamp_a_m1</td>\n",
       "      <td>0.007078</td>\n",
       "      <td>182.0</td>\n",
       "      <td>112.0</td>\n",
       "      <td>1214.0</td>\n",
       "      <td>1397.0</td>\n",
       "      <td>0.004998</td>\n",
       "      <td>0.015859</td>\n",
       "      <td>AP2EREBP_tnt.DEAR5_col_a_m1$\\longleftrightarro...</td>\n",
       "      <td>AP2EREBP</td>\n",
       "      <td>G2like</td>\n",
       "      <td>AP2EREBP$\\longleftrightarrow$G2like</td>\n",
       "      <td>AP2EREBP_tnt.DEAR5_col_a_m1:G2like_tnt.AT2G402...</td>\n",
       "      <td>AP2EREBP:G2like</td>\n",
       "    </tr>\n",
       "    <tr>\n",
       "      <td>1</td>\n",
       "      <td>1</td>\n",
       "      <td>3</td>\n",
       "      <td>filter0&lt;--&gt;filter6</td>\n",
       "      <td>5</td>\n",
       "      <td>AP2EREBP_tnt.DEAR5_col_a_m1</td>\n",
       "      <td>0.02189</td>\n",
       "      <td>MYB_tnt.MYB51_col_a_m1</td>\n",
       "      <td>0.008758</td>\n",
       "      <td>75.0</td>\n",
       "      <td>67.0</td>\n",
       "      <td>1368.0</td>\n",
       "      <td>817.0</td>\n",
       "      <td>0.000064</td>\n",
       "      <td>0.000337</td>\n",
       "      <td>AP2EREBP_tnt.DEAR5_col_a_m1$\\longleftrightarro...</td>\n",
       "      <td>AP2EREBP</td>\n",
       "      <td>MYB</td>\n",
       "      <td>AP2EREBP$\\longleftrightarrow$MYB</td>\n",
       "      <td>AP2EREBP_tnt.DEAR5_col_a_m1:MYB_tnt.MYB51_col_...</td>\n",
       "      <td>AP2EREBP:MYB</td>\n",
       "    </tr>\n",
       "    <tr>\n",
       "      <td>2</td>\n",
       "      <td>2</td>\n",
       "      <td>4</td>\n",
       "      <td>filter0&lt;--&gt;filter8</td>\n",
       "      <td>7</td>\n",
       "      <td>AP2EREBP_tnt.DEAR5_col_a_m1</td>\n",
       "      <td>0.02189</td>\n",
       "      <td>Trihelix_tnt.AT2G33550_col_a_m1</td>\n",
       "      <td>0.007580</td>\n",
       "      <td>148.0</td>\n",
       "      <td>41.0</td>\n",
       "      <td>1134.0</td>\n",
       "      <td>869.0</td>\n",
       "      <td>0.000005</td>\n",
       "      <td>0.000034</td>\n",
       "      <td>AP2EREBP_tnt.DEAR5_col_a_m1$\\longleftrightarro...</td>\n",
       "      <td>AP2EREBP</td>\n",
       "      <td>Trihelix</td>\n",
       "      <td>AP2EREBP$\\longleftrightarrow$Trihelix</td>\n",
       "      <td>AP2EREBP_tnt.DEAR5_col_a_m1:Trihelix_tnt.AT2G3...</td>\n",
       "      <td>AP2EREBP:Trihelix</td>\n",
       "    </tr>\n",
       "    <tr>\n",
       "      <td>3</td>\n",
       "      <td>3</td>\n",
       "      <td>7</td>\n",
       "      <td>filter0&lt;--&gt;filter13</td>\n",
       "      <td>12</td>\n",
       "      <td>AP2EREBP_tnt.DEAR5_col_a_m1</td>\n",
       "      <td>0.02189</td>\n",
       "      <td>WRKY_tnt.WRKY6_col_a_m1</td>\n",
       "      <td>0.042814</td>\n",
       "      <td>197.0</td>\n",
       "      <td>421.0</td>\n",
       "      <td>1394.0</td>\n",
       "      <td>1277.0</td>\n",
       "      <td>0.000457</td>\n",
       "      <td>0.001935</td>\n",
       "      <td>AP2EREBP_tnt.DEAR5_col_a_m1$\\longleftrightarro...</td>\n",
       "      <td>AP2EREBP</td>\n",
       "      <td>WRKY</td>\n",
       "      <td>AP2EREBP$\\longleftrightarrow$WRKY</td>\n",
       "      <td>AP2EREBP_tnt.DEAR5_col_a_m1:WRKY_tnt.WRKY6_col...</td>\n",
       "      <td>AP2EREBP:WRKY</td>\n",
       "    </tr>\n",
       "    <tr>\n",
       "      <td>4</td>\n",
       "      <td>4</td>\n",
       "      <td>13</td>\n",
       "      <td>filter0&lt;--&gt;filter21</td>\n",
       "      <td>20</td>\n",
       "      <td>AP2EREBP_tnt.DEAR5_col_a_m1</td>\n",
       "      <td>0.02189</td>\n",
       "      <td>Trihelix_tnt.AT1G76880_col_a_m1</td>\n",
       "      <td>0.000441</td>\n",
       "      <td>77.0</td>\n",
       "      <td>268.0</td>\n",
       "      <td>1568.0</td>\n",
       "      <td>1489.0</td>\n",
       "      <td>0.001661</td>\n",
       "      <td>0.006054</td>\n",
       "      <td>AP2EREBP_tnt.DEAR5_col_a_m1$\\longleftrightarro...</td>\n",
       "      <td>AP2EREBP</td>\n",
       "      <td>Trihelix</td>\n",
       "      <td>AP2EREBP$\\longleftrightarrow$Trihelix</td>\n",
       "      <td>AP2EREBP_tnt.DEAR5_col_a_m1:Trihelix_tnt.AT1G7...</td>\n",
       "      <td>AP2EREBP:Trihelix</td>\n",
       "    </tr>\n",
       "  </tbody>\n",
       "</table>\n",
       "</div>"
      ],
      "text/plain": [
       "   Unnamed: 0  index   filter_interaction  example_no  \\\n",
       "0           0      2   filter0<-->filter5           4   \n",
       "1           1      3   filter0<-->filter6           5   \n",
       "2           2      4   filter0<-->filter8           7   \n",
       "3           3      7  filter0<-->filter13          12   \n",
       "4           4     13  filter0<-->filter21          20   \n",
       "\n",
       "                        motif1  motif1_qval                            motif2  \\\n",
       "0  AP2EREBP_tnt.DEAR5_col_a_m1      0.02189  G2like_tnt.AT2G40260_colamp_a_m1   \n",
       "1  AP2EREBP_tnt.DEAR5_col_a_m1      0.02189            MYB_tnt.MYB51_col_a_m1   \n",
       "2  AP2EREBP_tnt.DEAR5_col_a_m1      0.02189   Trihelix_tnt.AT2G33550_col_a_m1   \n",
       "3  AP2EREBP_tnt.DEAR5_col_a_m1      0.02189           WRKY_tnt.WRKY6_col_a_m1   \n",
       "4  AP2EREBP_tnt.DEAR5_col_a_m1      0.02189   Trihelix_tnt.AT1G76880_col_a_m1   \n",
       "\n",
       "   motif2_qval  mean_distance  mean_distance_bg  num_obs  num_obs_bg  \\\n",
       "0     0.007078          182.0             112.0   1214.0      1397.0   \n",
       "1     0.008758           75.0              67.0   1368.0       817.0   \n",
       "2     0.007580          148.0              41.0   1134.0       869.0   \n",
       "3     0.042814          197.0             421.0   1394.0      1277.0   \n",
       "4     0.000441           77.0             268.0   1568.0      1489.0   \n",
       "\n",
       "       pval  adjusted_pval                                     TF_interaction  \\\n",
       "0  0.004998       0.015859  AP2EREBP_tnt.DEAR5_col_a_m1$\\longleftrightarro...   \n",
       "1  0.000064       0.000337  AP2EREBP_tnt.DEAR5_col_a_m1$\\longleftrightarro...   \n",
       "2  0.000005       0.000034  AP2EREBP_tnt.DEAR5_col_a_m1$\\longleftrightarro...   \n",
       "3  0.000457       0.001935  AP2EREBP_tnt.DEAR5_col_a_m1$\\longleftrightarro...   \n",
       "4  0.001661       0.006054  AP2EREBP_tnt.DEAR5_col_a_m1$\\longleftrightarro...   \n",
       "\n",
       "  TF_A_Family TF_B_Family                     Family_Interaction  \\\n",
       "0    AP2EREBP      G2like    AP2EREBP$\\longleftrightarrow$G2like   \n",
       "1    AP2EREBP         MYB       AP2EREBP$\\longleftrightarrow$MYB   \n",
       "2    AP2EREBP    Trihelix  AP2EREBP$\\longleftrightarrow$Trihelix   \n",
       "3    AP2EREBP        WRKY      AP2EREBP$\\longleftrightarrow$WRKY   \n",
       "4    AP2EREBP    Trihelix  AP2EREBP$\\longleftrightarrow$Trihelix   \n",
       "\n",
       "                                       motifsOnlyInt      familyOnlyInt  \n",
       "0  AP2EREBP_tnt.DEAR5_col_a_m1:G2like_tnt.AT2G402...    AP2EREBP:G2like  \n",
       "1  AP2EREBP_tnt.DEAR5_col_a_m1:MYB_tnt.MYB51_col_...       AP2EREBP:MYB  \n",
       "2  AP2EREBP_tnt.DEAR5_col_a_m1:Trihelix_tnt.AT2G3...  AP2EREBP:Trihelix  \n",
       "3  AP2EREBP_tnt.DEAR5_col_a_m1:WRKY_tnt.WRKY6_col...      AP2EREBP:WRKY  \n",
       "4  AP2EREBP_tnt.DEAR5_col_a_m1:Trihelix_tnt.AT1G7...  AP2EREBP:Trihelix  "
      ]
     },
     "execution_count": 39,
     "metadata": {},
     "output_type": "execute_result"
    }
   ],
   "source": [
    "DFIM.head()"
   ]
  },
  {
   "cell_type": "code",
   "execution_count": null,
   "metadata": {},
   "outputs": [],
   "source": []
  },
  {
   "cell_type": "code",
   "execution_count": 40,
   "metadata": {},
   "outputs": [
    {
     "data": {
      "text/html": [
       "<div>\n",
       "<style scoped>\n",
       "    .dataframe tbody tr th:only-of-type {\n",
       "        vertical-align: middle;\n",
       "    }\n",
       "\n",
       "    .dataframe tbody tr th {\n",
       "        vertical-align: top;\n",
       "    }\n",
       "\n",
       "    .dataframe thead th {\n",
       "        text-align: right;\n",
       "    }\n",
       "</style>\n",
       "<table border=\"1\" class=\"dataframe\">\n",
       "  <thead>\n",
       "    <tr style=\"text-align: right;\">\n",
       "      <th></th>\n",
       "      <th>Unnamed: 0</th>\n",
       "      <th>index</th>\n",
       "      <th>filter_interaction</th>\n",
       "      <th>example_no</th>\n",
       "      <th>motif1</th>\n",
       "      <th>motif1_qval</th>\n",
       "      <th>motif2</th>\n",
       "      <th>motif2_qval</th>\n",
       "      <th>mean_distance</th>\n",
       "      <th>mean_distance_bg</th>\n",
       "      <th>num_obs</th>\n",
       "      <th>num_obs_bg</th>\n",
       "      <th>pval</th>\n",
       "      <th>adjusted_pval</th>\n",
       "      <th>TF_interaction</th>\n",
       "      <th>TF_A_Family</th>\n",
       "      <th>TF_B_Family</th>\n",
       "      <th>Family_Interaction</th>\n",
       "      <th>motifsOnlyInt</th>\n",
       "      <th>familyOnlyInt</th>\n",
       "    </tr>\n",
       "  </thead>\n",
       "  <tbody>\n",
       "    <tr>\n",
       "      <td>0</td>\n",
       "      <td>0</td>\n",
       "      <td>0</td>\n",
       "      <td>filter0&lt;--&gt;filter3</td>\n",
       "      <td>2</td>\n",
       "      <td>Trihelix_tnt.AT1G76880_col_a_m1</td>\n",
       "      <td>0.000651</td>\n",
       "      <td>C2H2_tnt.AtIDD11_col_a_m1</td>\n",
       "      <td>0.016772</td>\n",
       "      <td>18.0</td>\n",
       "      <td>180.0</td>\n",
       "      <td>1669.0</td>\n",
       "      <td>1652.0</td>\n",
       "      <td>8.488437e-66</td>\n",
       "      <td>2.297252e-65</td>\n",
       "      <td>Trihelix_tnt.AT1G76880_col_a_m1$\\longleftright...</td>\n",
       "      <td>Trihelix</td>\n",
       "      <td>C2H2</td>\n",
       "      <td>Trihelix$\\longleftrightarrow$C2H2</td>\n",
       "      <td>Trihelix_tnt.AT1G76880_col_a_m1:C2H2_tnt.AtIDD...</td>\n",
       "      <td>Trihelix:C2H2</td>\n",
       "    </tr>\n",
       "    <tr>\n",
       "      <td>1</td>\n",
       "      <td>1</td>\n",
       "      <td>1</td>\n",
       "      <td>filter0&lt;--&gt;filter9</td>\n",
       "      <td>8</td>\n",
       "      <td>Trihelix_tnt.AT1G76880_col_a_m1</td>\n",
       "      <td>0.000651</td>\n",
       "      <td>MYB_tnt.MYB51_col_a_m1</td>\n",
       "      <td>0.004521</td>\n",
       "      <td>216.0</td>\n",
       "      <td>18.0</td>\n",
       "      <td>1794.0</td>\n",
       "      <td>2300.0</td>\n",
       "      <td>9.085282e-65</td>\n",
       "      <td>2.406406e-64</td>\n",
       "      <td>Trihelix_tnt.AT1G76880_col_a_m1$\\longleftright...</td>\n",
       "      <td>Trihelix</td>\n",
       "      <td>MYB</td>\n",
       "      <td>Trihelix$\\longleftrightarrow$MYB</td>\n",
       "      <td>Trihelix_tnt.AT1G76880_col_a_m1:MYB_tnt.MYB51_...</td>\n",
       "      <td>Trihelix:MYB</td>\n",
       "    </tr>\n",
       "    <tr>\n",
       "      <td>2</td>\n",
       "      <td>2</td>\n",
       "      <td>2</td>\n",
       "      <td>filter0&lt;--&gt;filter10</td>\n",
       "      <td>9</td>\n",
       "      <td>Trihelix_tnt.AT1G76880_col_a_m1</td>\n",
       "      <td>0.000651</td>\n",
       "      <td>C2C2dof_tnt.OBP1_col_a_m1</td>\n",
       "      <td>0.012554</td>\n",
       "      <td>204.0</td>\n",
       "      <td>204.0</td>\n",
       "      <td>2275.0</td>\n",
       "      <td>2258.0</td>\n",
       "      <td>7.636664e-125</td>\n",
       "      <td>5.327582e-124</td>\n",
       "      <td>Trihelix_tnt.AT1G76880_col_a_m1$\\longleftright...</td>\n",
       "      <td>Trihelix</td>\n",
       "      <td>C2C2dof</td>\n",
       "      <td>Trihelix$\\longleftrightarrow$C2C2dof</td>\n",
       "      <td>Trihelix_tnt.AT1G76880_col_a_m1:C2C2dof_tnt.OB...</td>\n",
       "      <td>Trihelix:C2C2dof</td>\n",
       "    </tr>\n",
       "    <tr>\n",
       "      <td>3</td>\n",
       "      <td>3</td>\n",
       "      <td>3</td>\n",
       "      <td>filter0&lt;--&gt;filter13</td>\n",
       "      <td>12</td>\n",
       "      <td>Trihelix_tnt.AT1G76880_col_a_m1</td>\n",
       "      <td>0.000651</td>\n",
       "      <td>G2like_tnt.AT2G40260_colamp_a_m1</td>\n",
       "      <td>0.005267</td>\n",
       "      <td>6.0</td>\n",
       "      <td>60.0</td>\n",
       "      <td>2536.0</td>\n",
       "      <td>3405.0</td>\n",
       "      <td>2.009452e-169</td>\n",
       "      <td>2.177760e-168</td>\n",
       "      <td>Trihelix_tnt.AT1G76880_col_a_m1$\\longleftright...</td>\n",
       "      <td>Trihelix</td>\n",
       "      <td>G2like</td>\n",
       "      <td>Trihelix$\\longleftrightarrow$G2like</td>\n",
       "      <td>Trihelix_tnt.AT1G76880_col_a_m1:G2like_tnt.AT2...</td>\n",
       "      <td>Trihelix:G2like</td>\n",
       "    </tr>\n",
       "    <tr>\n",
       "      <td>4</td>\n",
       "      <td>4</td>\n",
       "      <td>4</td>\n",
       "      <td>filter0&lt;--&gt;filter14</td>\n",
       "      <td>13</td>\n",
       "      <td>Trihelix_tnt.AT1G76880_col_a_m1</td>\n",
       "      <td>0.000651</td>\n",
       "      <td>HB_tnt.ATHB40_col_a_m1</td>\n",
       "      <td>0.028770</td>\n",
       "      <td>12.0</td>\n",
       "      <td>126.0</td>\n",
       "      <td>2070.0</td>\n",
       "      <td>2750.0</td>\n",
       "      <td>3.486621e-272</td>\n",
       "      <td>7.929786e-271</td>\n",
       "      <td>Trihelix_tnt.AT1G76880_col_a_m1$\\longleftright...</td>\n",
       "      <td>Trihelix</td>\n",
       "      <td>HB</td>\n",
       "      <td>Trihelix$\\longleftrightarrow$HB</td>\n",
       "      <td>Trihelix_tnt.AT1G76880_col_a_m1:HB_tnt.ATHB40_...</td>\n",
       "      <td>Trihelix:HB</td>\n",
       "    </tr>\n",
       "  </tbody>\n",
       "</table>\n",
       "</div>"
      ],
      "text/plain": [
       "   Unnamed: 0  index   filter_interaction  example_no  \\\n",
       "0           0      0   filter0<-->filter3           2   \n",
       "1           1      1   filter0<-->filter9           8   \n",
       "2           2      2  filter0<-->filter10           9   \n",
       "3           3      3  filter0<-->filter13          12   \n",
       "4           4      4  filter0<-->filter14          13   \n",
       "\n",
       "                            motif1  motif1_qval  \\\n",
       "0  Trihelix_tnt.AT1G76880_col_a_m1     0.000651   \n",
       "1  Trihelix_tnt.AT1G76880_col_a_m1     0.000651   \n",
       "2  Trihelix_tnt.AT1G76880_col_a_m1     0.000651   \n",
       "3  Trihelix_tnt.AT1G76880_col_a_m1     0.000651   \n",
       "4  Trihelix_tnt.AT1G76880_col_a_m1     0.000651   \n",
       "\n",
       "                             motif2  motif2_qval  mean_distance  \\\n",
       "0         C2H2_tnt.AtIDD11_col_a_m1     0.016772           18.0   \n",
       "1            MYB_tnt.MYB51_col_a_m1     0.004521          216.0   \n",
       "2         C2C2dof_tnt.OBP1_col_a_m1     0.012554          204.0   \n",
       "3  G2like_tnt.AT2G40260_colamp_a_m1     0.005267            6.0   \n",
       "4            HB_tnt.ATHB40_col_a_m1     0.028770           12.0   \n",
       "\n",
       "   mean_distance_bg  num_obs  num_obs_bg           pval  adjusted_pval  \\\n",
       "0             180.0   1669.0      1652.0   8.488437e-66   2.297252e-65   \n",
       "1              18.0   1794.0      2300.0   9.085282e-65   2.406406e-64   \n",
       "2             204.0   2275.0      2258.0  7.636664e-125  5.327582e-124   \n",
       "3              60.0   2536.0      3405.0  2.009452e-169  2.177760e-168   \n",
       "4             126.0   2070.0      2750.0  3.486621e-272  7.929786e-271   \n",
       "\n",
       "                                      TF_interaction TF_A_Family TF_B_Family  \\\n",
       "0  Trihelix_tnt.AT1G76880_col_a_m1$\\longleftright...    Trihelix        C2H2   \n",
       "1  Trihelix_tnt.AT1G76880_col_a_m1$\\longleftright...    Trihelix         MYB   \n",
       "2  Trihelix_tnt.AT1G76880_col_a_m1$\\longleftright...    Trihelix     C2C2dof   \n",
       "3  Trihelix_tnt.AT1G76880_col_a_m1$\\longleftright...    Trihelix      G2like   \n",
       "4  Trihelix_tnt.AT1G76880_col_a_m1$\\longleftright...    Trihelix          HB   \n",
       "\n",
       "                     Family_Interaction  \\\n",
       "0     Trihelix$\\longleftrightarrow$C2H2   \n",
       "1      Trihelix$\\longleftrightarrow$MYB   \n",
       "2  Trihelix$\\longleftrightarrow$C2C2dof   \n",
       "3   Trihelix$\\longleftrightarrow$G2like   \n",
       "4       Trihelix$\\longleftrightarrow$HB   \n",
       "\n",
       "                                       motifsOnlyInt     familyOnlyInt  \n",
       "0  Trihelix_tnt.AT1G76880_col_a_m1:C2H2_tnt.AtIDD...     Trihelix:C2H2  \n",
       "1  Trihelix_tnt.AT1G76880_col_a_m1:MYB_tnt.MYB51_...      Trihelix:MYB  \n",
       "2  Trihelix_tnt.AT1G76880_col_a_m1:C2C2dof_tnt.OB...  Trihelix:C2C2dof  \n",
       "3  Trihelix_tnt.AT1G76880_col_a_m1:G2like_tnt.AT2...   Trihelix:G2like  \n",
       "4  Trihelix_tnt.AT1G76880_col_a_m1:HB_tnt.ATHB40_...       Trihelix:HB  "
      ]
     },
     "execution_count": 40,
     "metadata": {},
     "output_type": "execute_result"
    }
   ],
   "source": [
    "ATTN.head()"
   ]
  },
  {
   "cell_type": "code",
   "execution_count": null,
   "metadata": {},
   "outputs": [],
   "source": []
  },
  {
   "cell_type": "code",
   "execution_count": 41,
   "metadata": {},
   "outputs": [],
   "source": [
    "def fix_intr_name(x):\n",
    "    m1,link,m2 = x.split('$')\n",
    "    m1 = m1.split('.')[1].split('_')[0]\n",
    "    m2 = m2.split('.')[1].split('_')[0]\n",
    "    return m1+'$'+link+'$'+m2\n",
    "    \n",
    "DFIM['TF_interaction'] = DFIM['TF_interaction'].apply(fix_intr_name)\n",
    "ATTN['TF_interaction'] = ATTN['TF_interaction'].apply(fix_intr_name)"
   ]
  },
  {
   "cell_type": "code",
   "execution_count": 42,
   "metadata": {},
   "outputs": [],
   "source": [
    "DFIM_unique = DFIM['TF_interaction'].value_counts()"
   ]
  },
  {
   "cell_type": "code",
   "execution_count": 43,
   "metadata": {},
   "outputs": [],
   "source": [
    "ATTN_unique = ATTN['TF_interaction'].value_counts()"
   ]
  },
  {
   "cell_type": "code",
   "execution_count": 44,
   "metadata": {},
   "outputs": [],
   "source": [
    "intersected = set.intersection(set(DFIM_unique.keys()),set(ATTN_unique.keys()))"
   ]
  },
  {
   "cell_type": "code",
   "execution_count": 45,
   "metadata": {},
   "outputs": [
    {
     "data": {
      "text/plain": [
       "(449, 557, 111)"
      ]
     },
     "execution_count": 45,
     "metadata": {},
     "output_type": "execute_result"
    }
   ],
   "source": [
    "len(set(DFIM_unique.keys())),len(set(ATTN_unique.keys())),len(intersected)"
   ]
  },
  {
   "cell_type": "code",
   "execution_count": 46,
   "metadata": {},
   "outputs": [
    {
     "data": {
      "text/plain": [
       "MYB51$\\longleftrightarrow$AT2G40260        247\n",
       "AT2G40260$\\longleftrightarrow$AT2G20400    203\n",
       "AT2G40260$\\longleftrightarrow$MYB67        151\n",
       "AT2G40260$\\longleftrightarrow$WRKY31       133\n",
       "MYB51$\\longleftrightarrow$AT2G20400        133\n",
       "Name: TF_interaction, dtype: int64"
      ]
     },
     "execution_count": 46,
     "metadata": {},
     "output_type": "execute_result"
    }
   ],
   "source": [
    "ATTN_unique.head()"
   ]
  },
  {
   "cell_type": "code",
   "execution_count": 47,
   "metadata": {},
   "outputs": [
    {
     "data": {
      "text/plain": [
       "AT2G40260$\\longleftrightarrow$MYB51        140\n",
       "MYB51$\\longleftrightarrow$AT2G20400         94\n",
       "AT2G40260$\\longleftrightarrow$AT2G20400     74\n",
       "At4g38000$\\longleftrightarrow$MYB51         58\n",
       "MYB51$\\longleftrightarrow$AT1G76880         48\n",
       "Name: TF_interaction, dtype: int64"
      ]
     },
     "execution_count": 47,
     "metadata": {},
     "output_type": "execute_result"
    }
   ],
   "source": [
    "DFIM_unique.head()"
   ]
  },
  {
   "cell_type": "markdown",
   "metadata": {},
   "source": [
    "#### For DFIM TFs"
   ]
  },
  {
   "cell_type": "code",
   "execution_count": 48,
   "metadata": {},
   "outputs": [],
   "source": [
    "final_list = [['interaction','count','in_both']]\n",
    "for key in DFIM_unique.keys():\n",
    "    rev_key = key.split('$\\\\longleftrightarrow$')[1]+'$\\\\longleftrightarrow$'+key.split('$\\\\longleftrightarrow$')[0]\n",
    "    if key in ATTN_unique or rev_key in ATTN_unique:\n",
    "        final_list.append([key,DFIM_unique[key],'b'])\n",
    "    else:\n",
    "        final_list.append([key,DFIM_unique[key],'r'])\n",
    "final_list = np.asarray(final_list)\n",
    "df_DFIM = pd.DataFrame(final_list[1:],columns=final_list[0])   \n",
    "df_DFIM['count'] = df_DFIM['count'].apply(lambda x: int(x))"
   ]
  },
  {
   "cell_type": "code",
   "execution_count": 49,
   "metadata": {},
   "outputs": [],
   "source": [
    "#key.split('$\\\\longleftrightarrow$')"
   ]
  },
  {
   "cell_type": "code",
   "execution_count": 50,
   "metadata": {},
   "outputs": [
    {
     "data": {
      "text/html": [
       "<div>\n",
       "<style scoped>\n",
       "    .dataframe tbody tr th:only-of-type {\n",
       "        vertical-align: middle;\n",
       "    }\n",
       "\n",
       "    .dataframe tbody tr th {\n",
       "        vertical-align: top;\n",
       "    }\n",
       "\n",
       "    .dataframe thead th {\n",
       "        text-align: right;\n",
       "    }\n",
       "</style>\n",
       "<table border=\"1\" class=\"dataframe\">\n",
       "  <thead>\n",
       "    <tr style=\"text-align: right;\">\n",
       "      <th></th>\n",
       "      <th>interaction</th>\n",
       "      <th>count</th>\n",
       "      <th>in_both</th>\n",
       "    </tr>\n",
       "  </thead>\n",
       "  <tbody>\n",
       "    <tr>\n",
       "      <td>0</td>\n",
       "      <td>AT2G40260$\\longleftrightarrow$MYB51</td>\n",
       "      <td>140</td>\n",
       "      <td>b</td>\n",
       "    </tr>\n",
       "    <tr>\n",
       "      <td>1</td>\n",
       "      <td>MYB51$\\longleftrightarrow$AT2G20400</td>\n",
       "      <td>94</td>\n",
       "      <td>b</td>\n",
       "    </tr>\n",
       "    <tr>\n",
       "      <td>2</td>\n",
       "      <td>AT2G40260$\\longleftrightarrow$AT2G20400</td>\n",
       "      <td>74</td>\n",
       "      <td>b</td>\n",
       "    </tr>\n",
       "    <tr>\n",
       "      <td>3</td>\n",
       "      <td>At4g38000$\\longleftrightarrow$MYB51</td>\n",
       "      <td>58</td>\n",
       "      <td>b</td>\n",
       "    </tr>\n",
       "    <tr>\n",
       "      <td>4</td>\n",
       "      <td>MYB51$\\longleftrightarrow$AT1G76880</td>\n",
       "      <td>48</td>\n",
       "      <td>b</td>\n",
       "    </tr>\n",
       "  </tbody>\n",
       "</table>\n",
       "</div>"
      ],
      "text/plain": [
       "                               interaction  count in_both\n",
       "0      AT2G40260$\\longleftrightarrow$MYB51    140       b\n",
       "1      MYB51$\\longleftrightarrow$AT2G20400     94       b\n",
       "2  AT2G40260$\\longleftrightarrow$AT2G20400     74       b\n",
       "3      At4g38000$\\longleftrightarrow$MYB51     58       b\n",
       "4      MYB51$\\longleftrightarrow$AT1G76880     48       b"
      ]
     },
     "execution_count": 50,
     "metadata": {},
     "output_type": "execute_result"
    }
   ],
   "source": [
    "df_DFIM.head()"
   ]
  },
  {
   "cell_type": "code",
   "execution_count": 51,
   "metadata": {
    "scrolled": false
   },
   "outputs": [
    {
     "data": {
      "text/plain": [
       "<matplotlib.axes._subplots.AxesSubplot at 0x7f0bb2a1ab70>"
      ]
     },
     "execution_count": 51,
     "metadata": {},
     "output_type": "execute_result"
    },
    {
     "data": {
      "image/png": "[encoded data removed]",
      "text/plain": [
       "<Figure size 1296x432 with 1 Axes>"
      ]
     },
     "metadata": {
      "needs_background": "light"
     },
     "output_type": "display_data"
    }
   ],
   "source": [
    "df_DFIM[:30].plot(kind='bar',x='interaction',y='count',color=df_DFIM['in_both'],figsize=(18,6),legend=None, alpha=0.6)"
   ]
  },
  {
   "cell_type": "code",
   "execution_count": 52,
   "metadata": {},
   "outputs": [
    {
     "data": {
      "image/png": "[encoded data removed]",
      "text/plain": [
       "<Figure size 648x432 with 1 Axes>"
      ]
     },
     "metadata": {
      "needs_background": "light"
     },
     "output_type": "display_data"
    }
   ],
   "source": [
    "ax = df_DFIM[:15].plot(kind='bar',x='interaction',y='count',\n",
    "                       color=df_DFIM['in_both'],figsize=(9,6),\n",
    "                       legend=False,alpha=0.6,fontsize=12)\n",
    "\n",
    "ax.set_xlabel(\"TF interaction\",fontsize=16)\n",
    "ax.set_ylabel(\"# of occurences\",fontsize=16)\n",
    "\n",
    "NA = mpatches.Patch(color='b', alpha = 0.6, label='In both')\n",
    "EU = mpatches.Patch(color='r', alpha = 0.6, label='FIS only')\n",
    "plt.legend(handles=[NA,EU], loc=1,fontsize=14)\n",
    "plt.savefig('SATORI-vs-FIS_arabidopsis_indTF.pdf',bbox_inches='tight')"
   ]
  },
  {
   "cell_type": "code",
   "execution_count": null,
   "metadata": {},
   "outputs": [],
   "source": []
  },
  {
   "cell_type": "markdown",
   "metadata": {},
   "source": [
    "#### For ATTN TFs"
   ]
  },
  {
   "cell_type": "code",
   "execution_count": 53,
   "metadata": {},
   "outputs": [],
   "source": [
    "final_list = [['interaction','count','in_both']]\n",
    "for key in ATTN_unique.keys():\n",
    "    rev_key = key.split('$\\\\longleftrightarrow$')[1]+'$\\\\longleftrightarrow$'+key.split('$\\\\longleftrightarrow$')[0]\n",
    "    if key in DFIM_unique or rev_key in DFIM_unique:\n",
    "        final_list.append([key,ATTN_unique[key],'b'])\n",
    "    else:\n",
    "        final_list.append([key,ATTN_unique[key],'r'])\n",
    "final_list = np.asarray(final_list)\n",
    "df_ATTN = pd.DataFrame(final_list[1:],columns=final_list[0])   \n",
    "df_ATTN['count'] = df_ATTN['count'].apply(lambda x: int(x))"
   ]
  },
  {
   "cell_type": "code",
   "execution_count": 54,
   "metadata": {},
   "outputs": [
    {
     "data": {
      "text/html": [
       "<div>\n",
       "<style scoped>\n",
       "    .dataframe tbody tr th:only-of-type {\n",
       "        vertical-align: middle;\n",
       "    }\n",
       "\n",
       "    .dataframe tbody tr th {\n",
       "        vertical-align: top;\n",
       "    }\n",
       "\n",
       "    .dataframe thead th {\n",
       "        text-align: right;\n",
       "    }\n",
       "</style>\n",
       "<table border=\"1\" class=\"dataframe\">\n",
       "  <thead>\n",
       "    <tr style=\"text-align: right;\">\n",
       "      <th></th>\n",
       "      <th>interaction</th>\n",
       "      <th>count</th>\n",
       "      <th>in_both</th>\n",
       "    </tr>\n",
       "  </thead>\n",
       "  <tbody>\n",
       "    <tr>\n",
       "      <td>0</td>\n",
       "      <td>MYB51$\\longleftrightarrow$AT2G40260</td>\n",
       "      <td>247</td>\n",
       "      <td>b</td>\n",
       "    </tr>\n",
       "    <tr>\n",
       "      <td>1</td>\n",
       "      <td>AT2G40260$\\longleftrightarrow$AT2G20400</td>\n",
       "      <td>203</td>\n",
       "      <td>b</td>\n",
       "    </tr>\n",
       "    <tr>\n",
       "      <td>2</td>\n",
       "      <td>AT2G40260$\\longleftrightarrow$MYB67</td>\n",
       "      <td>151</td>\n",
       "      <td>b</td>\n",
       "    </tr>\n",
       "    <tr>\n",
       "      <td>3</td>\n",
       "      <td>AT2G40260$\\longleftrightarrow$WRKY31</td>\n",
       "      <td>133</td>\n",
       "      <td>b</td>\n",
       "    </tr>\n",
       "    <tr>\n",
       "      <td>4</td>\n",
       "      <td>MYB51$\\longleftrightarrow$AT2G20400</td>\n",
       "      <td>133</td>\n",
       "      <td>b</td>\n",
       "    </tr>\n",
       "  </tbody>\n",
       "</table>\n",
       "</div>"
      ],
      "text/plain": [
       "                               interaction  count in_both\n",
       "0      MYB51$\\longleftrightarrow$AT2G40260    247       b\n",
       "1  AT2G40260$\\longleftrightarrow$AT2G20400    203       b\n",
       "2      AT2G40260$\\longleftrightarrow$MYB67    151       b\n",
       "3     AT2G40260$\\longleftrightarrow$WRKY31    133       b\n",
       "4      MYB51$\\longleftrightarrow$AT2G20400    133       b"
      ]
     },
     "execution_count": 54,
     "metadata": {},
     "output_type": "execute_result"
    }
   ],
   "source": [
    "df_ATTN.head()"
   ]
  },
  {
   "cell_type": "code",
   "execution_count": 55,
   "metadata": {},
   "outputs": [
    {
     "data": {
      "text/plain": [
       "<matplotlib.axes._subplots.AxesSubplot at 0x7f0bb2038cf8>"
      ]
     },
     "execution_count": 55,
     "metadata": {},
     "output_type": "execute_result"
    },
    {
     "data": {
      "image/png": "[encoded data removed]",
      "text/plain": [
       "<Figure size 1296x432 with 1 Axes>"
      ]
     },
     "metadata": {
      "needs_background": "light"
     },
     "output_type": "display_data"
    }
   ],
   "source": [
    "df_ATTN[:30].plot(kind='bar',x='interaction',y='count',color=df_ATTN['in_both'],figsize=(18,6),legend=None, alpha=0.6)"
   ]
  },
  {
   "cell_type": "code",
   "execution_count": 56,
   "metadata": {},
   "outputs": [
    {
     "data": {
      "text/plain": [
       "3.0"
      ]
     },
     "execution_count": 56,
     "metadata": {},
     "output_type": "execute_result"
    }
   ],
   "source": [
    "df_ATTN['count'].median()"
   ]
  },
  {
   "cell_type": "code",
   "execution_count": 57,
   "metadata": {},
   "outputs": [
    {
     "data": {
      "text/plain": [
       "r    240\n",
       "b    209\n",
       "Name: in_both, dtype: int64"
      ]
     },
     "execution_count": 57,
     "metadata": {},
     "output_type": "execute_result"
    }
   ],
   "source": [
    "df_DFIM['in_both'].value_counts()"
   ]
  },
  {
   "cell_type": "code",
   "execution_count": 58,
   "metadata": {},
   "outputs": [
    {
     "data": {
      "text/plain": [
       "r    349\n",
       "b    208\n",
       "Name: in_both, dtype: int64"
      ]
     },
     "execution_count": 58,
     "metadata": {},
     "output_type": "execute_result"
    }
   ],
   "source": [
    "df_ATTN['in_both'].value_counts()"
   ]
  },
  {
   "cell_type": "markdown",
   "metadata": {},
   "source": [
    "### TF Family Analysis"
   ]
  },
  {
   "cell_type": "code",
   "execution_count": 59,
   "metadata": {},
   "outputs": [],
   "source": [
    "DFIM_unique = DFIM['Family_Interaction'].value_counts()"
   ]
  },
  {
   "cell_type": "code",
   "execution_count": 60,
   "metadata": {},
   "outputs": [],
   "source": [
    "ATTN_unique = ATTN['Family_Interaction'].value_counts()"
   ]
  },
  {
   "cell_type": "code",
   "execution_count": 61,
   "metadata": {},
   "outputs": [],
   "source": [
    "intersected = set.intersection(set(DFIM_unique.keys()),set(ATTN_unique.keys()))"
   ]
  },
  {
   "cell_type": "code",
   "execution_count": 62,
   "metadata": {},
   "outputs": [
    {
     "data": {
      "text/plain": [
       "(97, 100, 56)"
      ]
     },
     "execution_count": 62,
     "metadata": {},
     "output_type": "execute_result"
    }
   ],
   "source": [
    "len(set(DFIM_unique.keys())),len(set(ATTN_unique.keys())),len(intersected)"
   ]
  },
  {
   "cell_type": "markdown",
   "metadata": {},
   "source": [
    "#### For DFIM TFs"
   ]
  },
  {
   "cell_type": "code",
   "execution_count": 63,
   "metadata": {},
   "outputs": [],
   "source": [
    "final_list = [['interaction','count','in_both']]\n",
    "for key in DFIM_unique.keys():\n",
    "    rev_key = key.split('$\\\\longleftrightarrow$')[1]+'$\\\\longleftrightarrow$'+key.split('$\\\\longleftrightarrow$')[0]\n",
    "    if key in ATTN_unique or rev_key in ATTN_unique:\n",
    "        final_list.append([key,DFIM_unique[key],'b'])\n",
    "    else:\n",
    "        final_list.append([key,DFIM_unique[key],'r'])\n",
    "final_list = np.asarray(final_list)\n",
    "df_DFIM = pd.DataFrame(final_list[1:],columns=final_list[0])   \n",
    "df_DFIM['count'] = df_DFIM['count'].apply(lambda x: int(x))"
   ]
  },
  {
   "cell_type": "code",
   "execution_count": 64,
   "metadata": {},
   "outputs": [],
   "source": [
    "#key.split('$\\\\longleftrightarrow$')"
   ]
  },
  {
   "cell_type": "code",
   "execution_count": 65,
   "metadata": {},
   "outputs": [
    {
     "data": {
      "text/html": [
       "<div>\n",
       "<style scoped>\n",
       "    .dataframe tbody tr th:only-of-type {\n",
       "        vertical-align: middle;\n",
       "    }\n",
       "\n",
       "    .dataframe tbody tr th {\n",
       "        vertical-align: top;\n",
       "    }\n",
       "\n",
       "    .dataframe thead th {\n",
       "        text-align: right;\n",
       "    }\n",
       "</style>\n",
       "<table border=\"1\" class=\"dataframe\">\n",
       "  <thead>\n",
       "    <tr style=\"text-align: right;\">\n",
       "      <th></th>\n",
       "      <th>interaction</th>\n",
       "      <th>count</th>\n",
       "      <th>in_both</th>\n",
       "    </tr>\n",
       "  </thead>\n",
       "  <tbody>\n",
       "    <tr>\n",
       "      <td>0</td>\n",
       "      <td>G2like$\\longleftrightarrow$MYB</td>\n",
       "      <td>288</td>\n",
       "      <td>b</td>\n",
       "    </tr>\n",
       "    <tr>\n",
       "      <td>1</td>\n",
       "      <td>MYB$\\longleftrightarrow$C2C2dof</td>\n",
       "      <td>162</td>\n",
       "      <td>b</td>\n",
       "    </tr>\n",
       "    <tr>\n",
       "      <td>2</td>\n",
       "      <td>G2like$\\longleftrightarrow$C2C2dof</td>\n",
       "      <td>148</td>\n",
       "      <td>b</td>\n",
       "    </tr>\n",
       "    <tr>\n",
       "      <td>3</td>\n",
       "      <td>MYB$\\longleftrightarrow$Trihelix</td>\n",
       "      <td>87</td>\n",
       "      <td>b</td>\n",
       "    </tr>\n",
       "    <tr>\n",
       "      <td>4</td>\n",
       "      <td>AP2EREBP$\\longleftrightarrow$G2like</td>\n",
       "      <td>82</td>\n",
       "      <td>b</td>\n",
       "    </tr>\n",
       "  </tbody>\n",
       "</table>\n",
       "</div>"
      ],
      "text/plain": [
       "                           interaction  count in_both\n",
       "0       G2like$\\longleftrightarrow$MYB    288       b\n",
       "1      MYB$\\longleftrightarrow$C2C2dof    162       b\n",
       "2   G2like$\\longleftrightarrow$C2C2dof    148       b\n",
       "3     MYB$\\longleftrightarrow$Trihelix     87       b\n",
       "4  AP2EREBP$\\longleftrightarrow$G2like     82       b"
      ]
     },
     "execution_count": 65,
     "metadata": {},
     "output_type": "execute_result"
    }
   ],
   "source": [
    "df_DFIM.head()"
   ]
  },
  {
   "cell_type": "code",
   "execution_count": 66,
   "metadata": {
    "scrolled": false
   },
   "outputs": [
    {
     "data": {
      "text/plain": [
       "<matplotlib.axes._subplots.AxesSubplot at 0x7f0bb1f84390>"
      ]
     },
     "execution_count": 66,
     "metadata": {},
     "output_type": "execute_result"
    },
    {
     "data": {
      "image/png": "[encoded data removed]",
      "text/plain": [
       "<Figure size 1296x360 with 1 Axes>"
      ]
     },
     "metadata": {
      "needs_background": "light"
     },
     "output_type": "display_data"
    }
   ],
   "source": [
    "df_DFIM[:30].plot(kind='bar',x='interaction',y='count',color=df_DFIM['in_both'],figsize=(18,5),legend=None, alpha=0.6)"
   ]
  },
  {
   "cell_type": "code",
   "execution_count": 67,
   "metadata": {},
   "outputs": [
    {
     "data": {
      "image/png": "[encoded data removed]",
      "text/plain": [
       "<Figure size 648x432 with 1 Axes>"
      ]
     },
     "metadata": {
      "needs_background": "light"
     },
     "output_type": "display_data"
    }
   ],
   "source": [
    "ax = df_DFIM[:10].plot(kind='bar',x='interaction',y='count',\n",
    "                       color=df_DFIM['in_both'],figsize=(9,6),\n",
    "                       legend=False,alpha=0.6,fontsize=12)\n",
    "\n",
    "ax.set_xlabel(\"Family interaction\",fontsize=16)\n",
    "ax.set_ylabel(\"# of occurences\",fontsize=16)\n",
    "\n",
    "NA = mpatches.Patch(color='b', alpha = 0.6, label='In both')\n",
    "EU = mpatches.Patch(color='r', alpha = 0.6, label='FIS only')\n",
    "plt.legend(handles=[NA,EU], loc=1,fontsize=14)\n",
    "plt.savefig('SATORI-vs-FIS_arabidopsis_famTF.pdf',bbox_inches='tight')"
   ]
  },
  {
   "cell_type": "markdown",
   "metadata": {},
   "source": [
    "#### For ATTN TFs"
   ]
  },
  {
   "cell_type": "code",
   "execution_count": 68,
   "metadata": {},
   "outputs": [],
   "source": [
    "final_list = [['interaction','count','in_both']]\n",
    "for key in ATTN_unique.keys():\n",
    "    rev_key = key.split('$\\\\longleftrightarrow$')[1]+'$\\\\longleftrightarrow$'+key.split('$\\\\longleftrightarrow$')[0]\n",
    "    if key in DFIM_unique or rev_key in DFIM_unique:\n",
    "        final_list.append([key,ATTN_unique[key],'b'])\n",
    "    else:\n",
    "        final_list.append([key,ATTN_unique[key],'r'])\n",
    "final_list = np.asarray(final_list)\n",
    "df_ATTN = pd.DataFrame(final_list[1:],columns=final_list[0])   \n",
    "df_ATTN['count'] = df_ATTN['count'].apply(lambda x: int(x))"
   ]
  },
  {
   "cell_type": "code",
   "execution_count": 69,
   "metadata": {},
   "outputs": [
    {
     "data": {
      "text/html": [
       "<div>\n",
       "<style scoped>\n",
       "    .dataframe tbody tr th:only-of-type {\n",
       "        vertical-align: middle;\n",
       "    }\n",
       "\n",
       "    .dataframe tbody tr th {\n",
       "        vertical-align: top;\n",
       "    }\n",
       "\n",
       "    .dataframe thead th {\n",
       "        text-align: right;\n",
       "    }\n",
       "</style>\n",
       "<table border=\"1\" class=\"dataframe\">\n",
       "  <thead>\n",
       "    <tr style=\"text-align: right;\">\n",
       "      <th></th>\n",
       "      <th>interaction</th>\n",
       "      <th>count</th>\n",
       "      <th>in_both</th>\n",
       "    </tr>\n",
       "  </thead>\n",
       "  <tbody>\n",
       "    <tr>\n",
       "      <td>0</td>\n",
       "      <td>MYB$\\longleftrightarrow$G2like</td>\n",
       "      <td>747</td>\n",
       "      <td>b</td>\n",
       "    </tr>\n",
       "    <tr>\n",
       "      <td>1</td>\n",
       "      <td>C2C2dof$\\longleftrightarrow$G2like</td>\n",
       "      <td>387</td>\n",
       "      <td>b</td>\n",
       "    </tr>\n",
       "    <tr>\n",
       "      <td>2</td>\n",
       "      <td>MYB$\\longleftrightarrow$C2C2dof</td>\n",
       "      <td>329</td>\n",
       "      <td>b</td>\n",
       "    </tr>\n",
       "    <tr>\n",
       "      <td>3</td>\n",
       "      <td>G2like$\\longleftrightarrow$WRKY</td>\n",
       "      <td>296</td>\n",
       "      <td>b</td>\n",
       "    </tr>\n",
       "    <tr>\n",
       "      <td>4</td>\n",
       "      <td>MYB$\\longleftrightarrow$WRKY</td>\n",
       "      <td>251</td>\n",
       "      <td>b</td>\n",
       "    </tr>\n",
       "  </tbody>\n",
       "</table>\n",
       "</div>"
      ],
      "text/plain": [
       "                          interaction  count in_both\n",
       "0      MYB$\\longleftrightarrow$G2like    747       b\n",
       "1  C2C2dof$\\longleftrightarrow$G2like    387       b\n",
       "2     MYB$\\longleftrightarrow$C2C2dof    329       b\n",
       "3     G2like$\\longleftrightarrow$WRKY    296       b\n",
       "4        MYB$\\longleftrightarrow$WRKY    251       b"
      ]
     },
     "execution_count": 69,
     "metadata": {},
     "output_type": "execute_result"
    }
   ],
   "source": [
    "df_ATTN.head()"
   ]
  },
  {
   "cell_type": "code",
   "execution_count": 70,
   "metadata": {},
   "outputs": [
    {
     "data": {
      "text/plain": [
       "<matplotlib.axes._subplots.AxesSubplot at 0x7f0bb1f520b8>"
      ]
     },
     "execution_count": 70,
     "metadata": {},
     "output_type": "execute_result"
    },
    {
     "data": {
      "image/png": "[encoded data removed]",
      "text/plain": [
       "<Figure size 1296x432 with 1 Axes>"
      ]
     },
     "metadata": {
      "needs_background": "light"
     },
     "output_type": "display_data"
    }
   ],
   "source": [
    "df_ATTN[:30].plot(kind='bar',x='interaction',y='count',color=df_ATTN['in_both'],figsize=(18,6),legend=None, alpha=0.6)"
   ]
  },
  {
   "cell_type": "code",
   "execution_count": 71,
   "metadata": {},
   "outputs": [
    {
     "data": {
      "text/plain": [
       "b    84\n",
       "r    13\n",
       "Name: in_both, dtype: int64"
      ]
     },
     "execution_count": 71,
     "metadata": {},
     "output_type": "execute_result"
    }
   ],
   "source": [
    "df_DFIM['in_both'].value_counts()"
   ]
  },
  {
   "cell_type": "code",
   "execution_count": 72,
   "metadata": {},
   "outputs": [
    {
     "data": {
      "text/plain": [
       "b    84\n",
       "r    16\n",
       "Name: in_both, dtype: int64"
      ]
     },
     "execution_count": 72,
     "metadata": {},
     "output_type": "execute_result"
    }
   ],
   "source": [
    "df_ATTN['in_both'].value_counts()"
   ]
  },
  {
   "cell_type": "code",
   "execution_count": null,
   "metadata": {},
   "outputs": [],
   "source": []
  }
 ],
 "metadata": {
  "kernelspec": {
   "display_name": "Python 3",
   "language": "python",
   "name": "python3"
  },
  "language_info": {
   "codemirror_mode": {
    "name": "ipython",
    "version": 3
   },
   "file_extension": ".py",
   "mimetype": "text/x-python",
   "name": "python",
   "nbconvert_exporter": "python",
   "pygments_lexer": "ipython3",
   "version": "3.7.3"
  }
 },
 "nbformat": 4,
 "nbformat_minor": 2
}
