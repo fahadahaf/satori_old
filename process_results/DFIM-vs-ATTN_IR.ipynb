{
 "cells": [
  {
   "cell_type": "code",
   "execution_count": 154,
   "metadata": {},
   "outputs": [],
   "source": [
    "import numpy as np\n",
    "import pandas as pd\n",
    "import matplotlib.pyplot as plt\n",
    "import matplotlib.patches as mpatches"
   ]
  },
  {
   "cell_type": "code",
   "execution_count": 155,
   "metadata": {},
   "outputs": [],
   "source": [
    "DFIM = pd.read_csv('DFIM_IR_Final.txt',sep='\\t')\n",
    "ATTN = pd.read_csv('ATTN_IR_Final.txt',sep='\\t')"
   ]
  },
  {
   "cell_type": "markdown",
   "metadata": {},
   "source": [
    "### Individual TF Analysis"
   ]
  },
  {
   "cell_type": "code",
   "execution_count": 156,
   "metadata": {},
   "outputs": [
    {
     "data": {
      "text/html": [
       "<div>\n",
       "<style scoped>\n",
       "    .dataframe tbody tr th:only-of-type {\n",
       "        vertical-align: middle;\n",
       "    }\n",
       "\n",
       "    .dataframe tbody tr th {\n",
       "        vertical-align: top;\n",
       "    }\n",
       "\n",
       "    .dataframe thead th {\n",
       "        text-align: right;\n",
       "    }\n",
       "</style>\n",
       "<table border=\"1\" class=\"dataframe\">\n",
       "  <thead>\n",
       "    <tr style=\"text-align: right;\">\n",
       "      <th></th>\n",
       "      <th>Unnamed: 0</th>\n",
       "      <th>index</th>\n",
       "      <th>filter_interaction</th>\n",
       "      <th>example_no</th>\n",
       "      <th>motif1</th>\n",
       "      <th>motif1_qval</th>\n",
       "      <th>motif2</th>\n",
       "      <th>motif2_qval</th>\n",
       "      <th>mean_distance</th>\n",
       "      <th>mean_distance_bg</th>\n",
       "      <th>...</th>\n",
       "      <th>pval</th>\n",
       "      <th>adjusted_pval</th>\n",
       "      <th>TF1</th>\n",
       "      <th>TF2</th>\n",
       "      <th>TF_interaction</th>\n",
       "      <th>TF1_Family</th>\n",
       "      <th>TF2_Family</th>\n",
       "      <th>Family_Interaction</th>\n",
       "      <th>motifsOnlyInt</th>\n",
       "      <th>familyOnlyInt</th>\n",
       "    </tr>\n",
       "  </thead>\n",
       "  <tbody>\n",
       "    <tr>\n",
       "      <td>0</td>\n",
       "      <td>0</td>\n",
       "      <td>1530</td>\n",
       "      <td>filter60&lt;--&gt;filter175</td>\n",
       "      <td>10284</td>\n",
       "      <td>M6547_1.02</td>\n",
       "      <td>0.008735</td>\n",
       "      <td>M4459_1.02</td>\n",
       "      <td>0.002356</td>\n",
       "      <td>224.0</td>\n",
       "      <td>166.0</td>\n",
       "      <td>...</td>\n",
       "      <td>2.398641e-28</td>\n",
       "      <td>1.609822e-26</td>\n",
       "      <td>ZFX</td>\n",
       "      <td>EGR1</td>\n",
       "      <td>ZFX$\\longleftrightarrow$EGR1</td>\n",
       "      <td>C2H2 ZF</td>\n",
       "      <td>C2H2 ZF</td>\n",
       "      <td>C2H2 ZF$\\longleftrightarrow$C2H2 ZF</td>\n",
       "      <td>M6547_1.02:M4459_1.02</td>\n",
       "      <td>C2H2 ZF:C2H2 ZF</td>\n",
       "    </tr>\n",
       "    <tr>\n",
       "      <td>1</td>\n",
       "      <td>1</td>\n",
       "      <td>706</td>\n",
       "      <td>filter24&lt;--&gt;filter175</td>\n",
       "      <td>4650</td>\n",
       "      <td>M4604_1.02</td>\n",
       "      <td>0.000801</td>\n",
       "      <td>M4459_1.02</td>\n",
       "      <td>0.002356</td>\n",
       "      <td>301.0</td>\n",
       "      <td>77.0</td>\n",
       "      <td>...</td>\n",
       "      <td>6.116077e-19</td>\n",
       "      <td>4.067845e-18</td>\n",
       "      <td>ZNF263</td>\n",
       "      <td>EGR1</td>\n",
       "      <td>ZNF263$\\longleftrightarrow$EGR1</td>\n",
       "      <td>C2H2 ZF</td>\n",
       "      <td>C2H2 ZF</td>\n",
       "      <td>C2H2 ZF$\\longleftrightarrow$C2H2 ZF</td>\n",
       "      <td>M4604_1.02:M4459_1.02</td>\n",
       "      <td>C2H2 ZF:C2H2 ZF</td>\n",
       "    </tr>\n",
       "    <tr>\n",
       "      <td>2</td>\n",
       "      <td>2</td>\n",
       "      <td>1527</td>\n",
       "      <td>filter60&lt;--&gt;filter158</td>\n",
       "      <td>10267</td>\n",
       "      <td>M6547_1.02</td>\n",
       "      <td>0.008735</td>\n",
       "      <td>M4459_1.02</td>\n",
       "      <td>0.000001</td>\n",
       "      <td>518.0</td>\n",
       "      <td>19.0</td>\n",
       "      <td>...</td>\n",
       "      <td>9.608552e-26</td>\n",
       "      <td>3.089018e-24</td>\n",
       "      <td>ZFX</td>\n",
       "      <td>EGR1</td>\n",
       "      <td>ZFX$\\longleftrightarrow$EGR1</td>\n",
       "      <td>C2H2 ZF</td>\n",
       "      <td>C2H2 ZF</td>\n",
       "      <td>C2H2 ZF$\\longleftrightarrow$C2H2 ZF</td>\n",
       "      <td>M6547_1.02:M4459_1.02</td>\n",
       "      <td>C2H2 ZF:C2H2 ZF</td>\n",
       "    </tr>\n",
       "    <tr>\n",
       "      <td>3</td>\n",
       "      <td>3</td>\n",
       "      <td>670</td>\n",
       "      <td>filter24&lt;--&gt;filter60</td>\n",
       "      <td>4535</td>\n",
       "      <td>M4604_1.02</td>\n",
       "      <td>0.000801</td>\n",
       "      <td>M6547_1.02</td>\n",
       "      <td>0.008735</td>\n",
       "      <td>9.0</td>\n",
       "      <td>10.0</td>\n",
       "      <td>...</td>\n",
       "      <td>2.530757e-30</td>\n",
       "      <td>3.147629e-28</td>\n",
       "      <td>ZNF263</td>\n",
       "      <td>ZFX</td>\n",
       "      <td>ZNF263$\\longleftrightarrow$ZFX</td>\n",
       "      <td>C2H2 ZF</td>\n",
       "      <td>C2H2 ZF</td>\n",
       "      <td>C2H2 ZF$\\longleftrightarrow$C2H2 ZF</td>\n",
       "      <td>M4604_1.02:M6547_1.02</td>\n",
       "      <td>C2H2 ZF:C2H2 ZF</td>\n",
       "    </tr>\n",
       "    <tr>\n",
       "      <td>4</td>\n",
       "      <td>4</td>\n",
       "      <td>703</td>\n",
       "      <td>filter24&lt;--&gt;filter158</td>\n",
       "      <td>4633</td>\n",
       "      <td>M4604_1.02</td>\n",
       "      <td>0.000801</td>\n",
       "      <td>M4459_1.02</td>\n",
       "      <td>0.000001</td>\n",
       "      <td>10.0</td>\n",
       "      <td>31.0</td>\n",
       "      <td>...</td>\n",
       "      <td>1.502937e-23</td>\n",
       "      <td>2.810979e-22</td>\n",
       "      <td>ZNF263</td>\n",
       "      <td>EGR1</td>\n",
       "      <td>ZNF263$\\longleftrightarrow$EGR1</td>\n",
       "      <td>C2H2 ZF</td>\n",
       "      <td>C2H2 ZF</td>\n",
       "      <td>C2H2 ZF$\\longleftrightarrow$C2H2 ZF</td>\n",
       "      <td>M4604_1.02:M4459_1.02</td>\n",
       "      <td>C2H2 ZF:C2H2 ZF</td>\n",
       "    </tr>\n",
       "  </tbody>\n",
       "</table>\n",
       "<p>5 rows × 22 columns</p>\n",
       "</div>"
      ],
      "text/plain": [
       "   Unnamed: 0  index     filter_interaction  example_no      motif1  \\\n",
       "0           0   1530  filter60<-->filter175       10284  M6547_1.02   \n",
       "1           1    706  filter24<-->filter175        4650  M4604_1.02   \n",
       "2           2   1527  filter60<-->filter158       10267  M6547_1.02   \n",
       "3           3    670   filter24<-->filter60        4535  M4604_1.02   \n",
       "4           4    703  filter24<-->filter158        4633  M4604_1.02   \n",
       "\n",
       "   motif1_qval      motif2  motif2_qval  mean_distance  mean_distance_bg  ...  \\\n",
       "0     0.008735  M4459_1.02     0.002356          224.0             166.0  ...   \n",
       "1     0.000801  M4459_1.02     0.002356          301.0              77.0  ...   \n",
       "2     0.008735  M4459_1.02     0.000001          518.0              19.0  ...   \n",
       "3     0.000801  M6547_1.02     0.008735            9.0              10.0  ...   \n",
       "4     0.000801  M4459_1.02     0.000001           10.0              31.0  ...   \n",
       "\n",
       "           pval  adjusted_pval     TF1   TF2                   TF_interaction  \\\n",
       "0  2.398641e-28   1.609822e-26     ZFX  EGR1     ZFX$\\longleftrightarrow$EGR1   \n",
       "1  6.116077e-19   4.067845e-18  ZNF263  EGR1  ZNF263$\\longleftrightarrow$EGR1   \n",
       "2  9.608552e-26   3.089018e-24     ZFX  EGR1     ZFX$\\longleftrightarrow$EGR1   \n",
       "3  2.530757e-30   3.147629e-28  ZNF263   ZFX   ZNF263$\\longleftrightarrow$ZFX   \n",
       "4  1.502937e-23   2.810979e-22  ZNF263  EGR1  ZNF263$\\longleftrightarrow$EGR1   \n",
       "\n",
       "  TF1_Family TF2_Family                   Family_Interaction  \\\n",
       "0    C2H2 ZF    C2H2 ZF  C2H2 ZF$\\longleftrightarrow$C2H2 ZF   \n",
       "1    C2H2 ZF    C2H2 ZF  C2H2 ZF$\\longleftrightarrow$C2H2 ZF   \n",
       "2    C2H2 ZF    C2H2 ZF  C2H2 ZF$\\longleftrightarrow$C2H2 ZF   \n",
       "3    C2H2 ZF    C2H2 ZF  C2H2 ZF$\\longleftrightarrow$C2H2 ZF   \n",
       "4    C2H2 ZF    C2H2 ZF  C2H2 ZF$\\longleftrightarrow$C2H2 ZF   \n",
       "\n",
       "           motifsOnlyInt    familyOnlyInt  \n",
       "0  M6547_1.02:M4459_1.02  C2H2 ZF:C2H2 ZF  \n",
       "1  M4604_1.02:M4459_1.02  C2H2 ZF:C2H2 ZF  \n",
       "2  M6547_1.02:M4459_1.02  C2H2 ZF:C2H2 ZF  \n",
       "3  M4604_1.02:M6547_1.02  C2H2 ZF:C2H2 ZF  \n",
       "4  M4604_1.02:M4459_1.02  C2H2 ZF:C2H2 ZF  \n",
       "\n",
       "[5 rows x 22 columns]"
      ]
     },
     "execution_count": 156,
     "metadata": {},
     "output_type": "execute_result"
    }
   ],
   "source": [
    "DFIM.head()"
   ]
  },
  {
   "cell_type": "code",
   "execution_count": 157,
   "metadata": {},
   "outputs": [
    {
     "data": {
      "text/html": [
       "<div>\n",
       "<style scoped>\n",
       "    .dataframe tbody tr th:only-of-type {\n",
       "        vertical-align: middle;\n",
       "    }\n",
       "\n",
       "    .dataframe tbody tr th {\n",
       "        vertical-align: top;\n",
       "    }\n",
       "\n",
       "    .dataframe thead th {\n",
       "        text-align: right;\n",
       "    }\n",
       "</style>\n",
       "<table border=\"1\" class=\"dataframe\">\n",
       "  <thead>\n",
       "    <tr style=\"text-align: right;\">\n",
       "      <th></th>\n",
       "      <th>Unnamed: 0</th>\n",
       "      <th>index</th>\n",
       "      <th>filter_interaction</th>\n",
       "      <th>example_no</th>\n",
       "      <th>motif1</th>\n",
       "      <th>motif1_qval</th>\n",
       "      <th>motif2</th>\n",
       "      <th>motif2_qval</th>\n",
       "      <th>mean_distance</th>\n",
       "      <th>mean_distance_bg</th>\n",
       "      <th>...</th>\n",
       "      <th>pval</th>\n",
       "      <th>adjusted_pval</th>\n",
       "      <th>TF1</th>\n",
       "      <th>TF2</th>\n",
       "      <th>TF_interaction</th>\n",
       "      <th>TF1_Family</th>\n",
       "      <th>TF2_Family</th>\n",
       "      <th>Family_Interaction</th>\n",
       "      <th>motifsOnlyInt</th>\n",
       "      <th>familyOnlyInt</th>\n",
       "    </tr>\n",
       "  </thead>\n",
       "  <tbody>\n",
       "  </tbody>\n",
       "</table>\n",
       "<p>0 rows × 22 columns</p>\n",
       "</div>"
      ],
      "text/plain": [
       "Empty DataFrame\n",
       "Columns: [Unnamed: 0, index, filter_interaction, example_no, motif1, motif1_qval, motif2, motif2_qval, mean_distance, mean_distance_bg, num_obs, num_obs_bg, pval, adjusted_pval, TF1, TF2, TF_interaction, TF1_Family, TF2_Family, Family_Interaction, motifsOnlyInt, familyOnlyInt]\n",
       "Index: []\n",
       "\n",
       "[0 rows x 22 columns]"
      ]
     },
     "execution_count": 157,
     "metadata": {},
     "output_type": "execute_result"
    }
   ],
   "source": [
    "#Exact TAL-GATA interactions 13 vs 18 in our ATTN model\n",
    "DFIM[(DFIM['familyOnlyInt'].str.contains('GATA')) & (DFIM['familyOnlyInt'].str.contains('bHLH'))]"
   ]
  },
  {
   "cell_type": "code",
   "execution_count": 158,
   "metadata": {},
   "outputs": [],
   "source": [
    "#DFIM[DFIM['']]"
   ]
  },
  {
   "cell_type": "code",
   "execution_count": 159,
   "metadata": {},
   "outputs": [
    {
     "data": {
      "text/html": [
       "<div>\n",
       "<style scoped>\n",
       "    .dataframe tbody tr th:only-of-type {\n",
       "        vertical-align: middle;\n",
       "    }\n",
       "\n",
       "    .dataframe tbody tr th {\n",
       "        vertical-align: top;\n",
       "    }\n",
       "\n",
       "    .dataframe thead th {\n",
       "        text-align: right;\n",
       "    }\n",
       "</style>\n",
       "<table border=\"1\" class=\"dataframe\">\n",
       "  <thead>\n",
       "    <tr style=\"text-align: right;\">\n",
       "      <th></th>\n",
       "      <th>Unnamed: 0</th>\n",
       "      <th>index</th>\n",
       "      <th>filter_interaction</th>\n",
       "      <th>example_no</th>\n",
       "      <th>motif1</th>\n",
       "      <th>motif1_qval</th>\n",
       "      <th>motif2</th>\n",
       "      <th>motif2_qval</th>\n",
       "      <th>mean_distance</th>\n",
       "      <th>mean_distance_bg</th>\n",
       "      <th>...</th>\n",
       "      <th>pval</th>\n",
       "      <th>adjusted_pval</th>\n",
       "      <th>TF1</th>\n",
       "      <th>TF2</th>\n",
       "      <th>TF_interaction</th>\n",
       "      <th>TF1_Family</th>\n",
       "      <th>TF2_Family</th>\n",
       "      <th>Family_Interaction</th>\n",
       "      <th>motifsOnlyInt</th>\n",
       "      <th>familyOnlyInt</th>\n",
       "    </tr>\n",
       "  </thead>\n",
       "  <tbody>\n",
       "    <tr>\n",
       "      <td>0</td>\n",
       "      <td>0</td>\n",
       "      <td>514</td>\n",
       "      <td>filter27&lt;--&gt;filter35</td>\n",
       "      <td>5029</td>\n",
       "      <td>M0609_1.02</td>\n",
       "      <td>0.012142</td>\n",
       "      <td>M4459_1.02</td>\n",
       "      <td>0.000013</td>\n",
       "      <td>156.0</td>\n",
       "      <td>348.0</td>\n",
       "      <td>...</td>\n",
       "      <td>1.034545e-27</td>\n",
       "      <td>9.803547e-25</td>\n",
       "      <td>DNMT1</td>\n",
       "      <td>EGR1</td>\n",
       "      <td>DNMT1$\\longleftrightarrow$EGR1</td>\n",
       "      <td>CxxC</td>\n",
       "      <td>C2H2 ZF</td>\n",
       "      <td>CxxC$\\longleftrightarrow$C2H2 ZF</td>\n",
       "      <td>M0609_1.02:M4459_1.02</td>\n",
       "      <td>CxxC:C2H2 ZF</td>\n",
       "    </tr>\n",
       "    <tr>\n",
       "      <td>1</td>\n",
       "      <td>1</td>\n",
       "      <td>782</td>\n",
       "      <td>filter35&lt;--&gt;filter39</td>\n",
       "      <td>6373</td>\n",
       "      <td>M4459_1.02</td>\n",
       "      <td>0.000013</td>\n",
       "      <td>M4604_1.02</td>\n",
       "      <td>0.000596</td>\n",
       "      <td>6.0</td>\n",
       "      <td>12.0</td>\n",
       "      <td>...</td>\n",
       "      <td>2.916165e-20</td>\n",
       "      <td>3.917818e-18</td>\n",
       "      <td>EGR1</td>\n",
       "      <td>ZNF263</td>\n",
       "      <td>EGR1$\\longleftrightarrow$ZNF263</td>\n",
       "      <td>C2H2 ZF</td>\n",
       "      <td>C2H2 ZF</td>\n",
       "      <td>C2H2 ZF$\\longleftrightarrow$C2H2 ZF</td>\n",
       "      <td>M4459_1.02:M4604_1.02</td>\n",
       "      <td>C2H2 ZF:C2H2 ZF</td>\n",
       "    </tr>\n",
       "    <tr>\n",
       "      <td>2</td>\n",
       "      <td>2</td>\n",
       "      <td>525</td>\n",
       "      <td>filter27&lt;--&gt;filter55</td>\n",
       "      <td>5049</td>\n",
       "      <td>M0609_1.02</td>\n",
       "      <td>0.012142</td>\n",
       "      <td>M4459_1.02</td>\n",
       "      <td>0.000014</td>\n",
       "      <td>150.0</td>\n",
       "      <td>114.0</td>\n",
       "      <td>...</td>\n",
       "      <td>2.605547e-31</td>\n",
       "      <td>7.407199e-28</td>\n",
       "      <td>DNMT1</td>\n",
       "      <td>EGR1</td>\n",
       "      <td>DNMT1$\\longleftrightarrow$EGR1</td>\n",
       "      <td>CxxC</td>\n",
       "      <td>C2H2 ZF</td>\n",
       "      <td>CxxC$\\longleftrightarrow$C2H2 ZF</td>\n",
       "      <td>M0609_1.02:M4459_1.02</td>\n",
       "      <td>CxxC:C2H2 ZF</td>\n",
       "    </tr>\n",
       "    <tr>\n",
       "      <td>3</td>\n",
       "      <td>3</td>\n",
       "      <td>516</td>\n",
       "      <td>filter27&lt;--&gt;filter39</td>\n",
       "      <td>5033</td>\n",
       "      <td>M0609_1.02</td>\n",
       "      <td>0.012142</td>\n",
       "      <td>M4604_1.02</td>\n",
       "      <td>0.000596</td>\n",
       "      <td>48.0</td>\n",
       "      <td>18.0</td>\n",
       "      <td>...</td>\n",
       "      <td>1.207681e-10</td>\n",
       "      <td>1.732722e-09</td>\n",
       "      <td>DNMT1</td>\n",
       "      <td>ZNF263</td>\n",
       "      <td>DNMT1$\\longleftrightarrow$ZNF263</td>\n",
       "      <td>CxxC</td>\n",
       "      <td>C2H2 ZF</td>\n",
       "      <td>CxxC$\\longleftrightarrow$C2H2 ZF</td>\n",
       "      <td>M0609_1.02:M4604_1.02</td>\n",
       "      <td>CxxC:C2H2 ZF</td>\n",
       "    </tr>\n",
       "    <tr>\n",
       "      <td>4</td>\n",
       "      <td>4</td>\n",
       "      <td>918</td>\n",
       "      <td>filter39&lt;--&gt;filter55</td>\n",
       "      <td>7035</td>\n",
       "      <td>M4604_1.02</td>\n",
       "      <td>0.000596</td>\n",
       "      <td>M4459_1.02</td>\n",
       "      <td>0.000014</td>\n",
       "      <td>504.0</td>\n",
       "      <td>78.0</td>\n",
       "      <td>...</td>\n",
       "      <td>7.187193e-24</td>\n",
       "      <td>2.270240e-21</td>\n",
       "      <td>ZNF263</td>\n",
       "      <td>EGR1</td>\n",
       "      <td>EGR1$\\longleftrightarrow$ZNF263</td>\n",
       "      <td>C2H2 ZF</td>\n",
       "      <td>C2H2 ZF</td>\n",
       "      <td>C2H2 ZF$\\longleftrightarrow$C2H2 ZF</td>\n",
       "      <td>M4604_1.02:M4459_1.02</td>\n",
       "      <td>C2H2 ZF:C2H2 ZF</td>\n",
       "    </tr>\n",
       "  </tbody>\n",
       "</table>\n",
       "<p>5 rows × 22 columns</p>\n",
       "</div>"
      ],
      "text/plain": [
       "   Unnamed: 0  index    filter_interaction  example_no      motif1  \\\n",
       "0           0    514  filter27<-->filter35        5029  M0609_1.02   \n",
       "1           1    782  filter35<-->filter39        6373  M4459_1.02   \n",
       "2           2    525  filter27<-->filter55        5049  M0609_1.02   \n",
       "3           3    516  filter27<-->filter39        5033  M0609_1.02   \n",
       "4           4    918  filter39<-->filter55        7035  M4604_1.02   \n",
       "\n",
       "   motif1_qval      motif2  motif2_qval  mean_distance  mean_distance_bg  ...  \\\n",
       "0     0.012142  M4459_1.02     0.000013          156.0             348.0  ...   \n",
       "1     0.000013  M4604_1.02     0.000596            6.0              12.0  ...   \n",
       "2     0.012142  M4459_1.02     0.000014          150.0             114.0  ...   \n",
       "3     0.012142  M4604_1.02     0.000596           48.0              18.0  ...   \n",
       "4     0.000596  M4459_1.02     0.000014          504.0              78.0  ...   \n",
       "\n",
       "           pval  adjusted_pval     TF1     TF2  \\\n",
       "0  1.034545e-27   9.803547e-25   DNMT1    EGR1   \n",
       "1  2.916165e-20   3.917818e-18    EGR1  ZNF263   \n",
       "2  2.605547e-31   7.407199e-28   DNMT1    EGR1   \n",
       "3  1.207681e-10   1.732722e-09   DNMT1  ZNF263   \n",
       "4  7.187193e-24   2.270240e-21  ZNF263    EGR1   \n",
       "\n",
       "                     TF_interaction TF1_Family TF2_Family  \\\n",
       "0    DNMT1$\\longleftrightarrow$EGR1       CxxC    C2H2 ZF   \n",
       "1   EGR1$\\longleftrightarrow$ZNF263    C2H2 ZF    C2H2 ZF   \n",
       "2    DNMT1$\\longleftrightarrow$EGR1       CxxC    C2H2 ZF   \n",
       "3  DNMT1$\\longleftrightarrow$ZNF263       CxxC    C2H2 ZF   \n",
       "4   EGR1$\\longleftrightarrow$ZNF263    C2H2 ZF    C2H2 ZF   \n",
       "\n",
       "                    Family_Interaction          motifsOnlyInt    familyOnlyInt  \n",
       "0     CxxC$\\longleftrightarrow$C2H2 ZF  M0609_1.02:M4459_1.02     CxxC:C2H2 ZF  \n",
       "1  C2H2 ZF$\\longleftrightarrow$C2H2 ZF  M4459_1.02:M4604_1.02  C2H2 ZF:C2H2 ZF  \n",
       "2     CxxC$\\longleftrightarrow$C2H2 ZF  M0609_1.02:M4459_1.02     CxxC:C2H2 ZF  \n",
       "3     CxxC$\\longleftrightarrow$C2H2 ZF  M0609_1.02:M4604_1.02     CxxC:C2H2 ZF  \n",
       "4  C2H2 ZF$\\longleftrightarrow$C2H2 ZF  M4604_1.02:M4459_1.02  C2H2 ZF:C2H2 ZF  \n",
       "\n",
       "[5 rows x 22 columns]"
      ]
     },
     "execution_count": 159,
     "metadata": {},
     "output_type": "execute_result"
    }
   ],
   "source": [
    "ATTN.head()"
   ]
  },
  {
   "cell_type": "code",
   "execution_count": 160,
   "metadata": {},
   "outputs": [
    {
     "data": {
      "text/html": [
       "<div>\n",
       "<style scoped>\n",
       "    .dataframe tbody tr th:only-of-type {\n",
       "        vertical-align: middle;\n",
       "    }\n",
       "\n",
       "    .dataframe tbody tr th {\n",
       "        vertical-align: top;\n",
       "    }\n",
       "\n",
       "    .dataframe thead th {\n",
       "        text-align: right;\n",
       "    }\n",
       "</style>\n",
       "<table border=\"1\" class=\"dataframe\">\n",
       "  <thead>\n",
       "    <tr style=\"text-align: right;\">\n",
       "      <th></th>\n",
       "      <th>Unnamed: 0</th>\n",
       "      <th>index</th>\n",
       "      <th>filter_interaction</th>\n",
       "      <th>example_no</th>\n",
       "      <th>motif1</th>\n",
       "      <th>motif1_qval</th>\n",
       "      <th>motif2</th>\n",
       "      <th>motif2_qval</th>\n",
       "      <th>mean_distance</th>\n",
       "      <th>mean_distance_bg</th>\n",
       "      <th>...</th>\n",
       "      <th>pval</th>\n",
       "      <th>adjusted_pval</th>\n",
       "      <th>TF1</th>\n",
       "      <th>TF2</th>\n",
       "      <th>TF_interaction</th>\n",
       "      <th>TF1_Family</th>\n",
       "      <th>TF2_Family</th>\n",
       "      <th>Family_Interaction</th>\n",
       "      <th>motifsOnlyInt</th>\n",
       "      <th>familyOnlyInt</th>\n",
       "    </tr>\n",
       "  </thead>\n",
       "  <tbody>\n",
       "  </tbody>\n",
       "</table>\n",
       "<p>0 rows × 22 columns</p>\n",
       "</div>"
      ],
      "text/plain": [
       "Empty DataFrame\n",
       "Columns: [Unnamed: 0, index, filter_interaction, example_no, motif1, motif1_qval, motif2, motif2_qval, mean_distance, mean_distance_bg, num_obs, num_obs_bg, pval, adjusted_pval, TF1, TF2, TF_interaction, TF1_Family, TF2_Family, Family_Interaction, motifsOnlyInt, familyOnlyInt]\n",
       "Index: []\n",
       "\n",
       "[0 rows x 22 columns]"
      ]
     },
     "execution_count": 160,
     "metadata": {},
     "output_type": "execute_result"
    }
   ],
   "source": [
    "#Exact TAL-GATA interactions 13 vs 18 in our ATTN model\n",
    "ATTN[(ATTN['familyOnlyInt'].str.contains('GATA')) & (ATTN['familyOnlyInt'].str.contains('bHLH'))]"
   ]
  },
  {
   "cell_type": "code",
   "execution_count": 161,
   "metadata": {},
   "outputs": [],
   "source": [
    "DFIM_unique = DFIM['TF_interaction'].value_counts()"
   ]
  },
  {
   "cell_type": "code",
   "execution_count": 162,
   "metadata": {},
   "outputs": [],
   "source": [
    "ATTN_unique = ATTN['TF_interaction'].value_counts()"
   ]
  },
  {
   "cell_type": "code",
   "execution_count": 163,
   "metadata": {},
   "outputs": [],
   "source": [
    "intersected = set.intersection(set(DFIM_unique.keys()),set(ATTN_unique.keys()))"
   ]
  },
  {
   "cell_type": "code",
   "execution_count": 164,
   "metadata": {},
   "outputs": [
    {
     "data": {
      "text/plain": [
       "(253, 241, 50)"
      ]
     },
     "execution_count": 164,
     "metadata": {},
     "output_type": "execute_result"
    }
   ],
   "source": [
    "len(set(DFIM_unique.keys())),len(set(ATTN_unique.keys())),len(intersected)"
   ]
  },
  {
   "cell_type": "markdown",
   "metadata": {},
   "source": [
    "#### For DFIM TFs"
   ]
  },
  {
   "cell_type": "code",
   "execution_count": 165,
   "metadata": {},
   "outputs": [],
   "source": [
    "final_list = [['interaction','count','in_both']]\n",
    "for key in DFIM_unique.keys():\n",
    "    rev_key = key.split('$\\\\longleftrightarrow$')[1]+'$\\\\longleftrightarrow$'+key.split('$\\\\longleftrightarrow$')[0]\n",
    "    if key in ATTN_unique or rev_key in ATTN_unique:\n",
    "        final_list.append([key,DFIM_unique[key],'b'])\n",
    "    else:\n",
    "        final_list.append([key,DFIM_unique[key],'r'])\n",
    "final_list = np.asarray(final_list)\n",
    "df_DFIM = pd.DataFrame(final_list[1:],columns=final_list[0])   \n",
    "df_DFIM['count'] = df_DFIM['count'].apply(lambda x: int(x))"
   ]
  },
  {
   "cell_type": "code",
   "execution_count": 166,
   "metadata": {},
   "outputs": [],
   "source": [
    "#key.split('$\\\\longleftrightarrow$')"
   ]
  },
  {
   "cell_type": "code",
   "execution_count": 167,
   "metadata": {},
   "outputs": [
    {
     "data": {
      "text/html": [
       "<div>\n",
       "<style scoped>\n",
       "    .dataframe tbody tr th:only-of-type {\n",
       "        vertical-align: middle;\n",
       "    }\n",
       "\n",
       "    .dataframe tbody tr th {\n",
       "        vertical-align: top;\n",
       "    }\n",
       "\n",
       "    .dataframe thead th {\n",
       "        text-align: right;\n",
       "    }\n",
       "</style>\n",
       "<table border=\"1\" class=\"dataframe\">\n",
       "  <thead>\n",
       "    <tr style=\"text-align: right;\">\n",
       "      <th></th>\n",
       "      <th>interaction</th>\n",
       "      <th>count</th>\n",
       "      <th>in_both</th>\n",
       "    </tr>\n",
       "  </thead>\n",
       "  <tbody>\n",
       "    <tr>\n",
       "      <td>0</td>\n",
       "      <td>ZNF263$\\longleftrightarrow$EGR1</td>\n",
       "      <td>120</td>\n",
       "      <td>b</td>\n",
       "    </tr>\n",
       "    <tr>\n",
       "      <td>1</td>\n",
       "      <td>SP7$\\longleftrightarrow$EGR1</td>\n",
       "      <td>84</td>\n",
       "      <td>b</td>\n",
       "    </tr>\n",
       "    <tr>\n",
       "      <td>2</td>\n",
       "      <td>SP7$\\longleftrightarrow$ZNF263</td>\n",
       "      <td>70</td>\n",
       "      <td>b</td>\n",
       "    </tr>\n",
       "    <tr>\n",
       "      <td>3</td>\n",
       "      <td>HHEX$\\longleftrightarrow$EGR1</td>\n",
       "      <td>60</td>\n",
       "      <td>b</td>\n",
       "    </tr>\n",
       "    <tr>\n",
       "      <td>4</td>\n",
       "      <td>ZFX$\\longleftrightarrow$EGR1</td>\n",
       "      <td>60</td>\n",
       "      <td>b</td>\n",
       "    </tr>\n",
       "  </tbody>\n",
       "</table>\n",
       "</div>"
      ],
      "text/plain": [
       "                       interaction  count in_both\n",
       "0  ZNF263$\\longleftrightarrow$EGR1    120       b\n",
       "1     SP7$\\longleftrightarrow$EGR1     84       b\n",
       "2   SP7$\\longleftrightarrow$ZNF263     70       b\n",
       "3    HHEX$\\longleftrightarrow$EGR1     60       b\n",
       "4     ZFX$\\longleftrightarrow$EGR1     60       b"
      ]
     },
     "execution_count": 167,
     "metadata": {},
     "output_type": "execute_result"
    }
   ],
   "source": [
    "df_DFIM.head()"
   ]
  },
  {
   "cell_type": "code",
   "execution_count": 168,
   "metadata": {
    "scrolled": false
   },
   "outputs": [
    {
     "data": {
      "text/plain": [
       "<matplotlib.axes._subplots.AxesSubplot at 0x7fcecb396978>"
      ]
     },
     "execution_count": 168,
     "metadata": {},
     "output_type": "execute_result"
    },
    {
     "data": {
      "image/png": "[encoded data removed]",
      "text/plain": [
       "<Figure size 1296x432 with 1 Axes>"
      ]
     },
     "metadata": {
      "needs_background": "light"
     },
     "output_type": "display_data"
    }
   ],
   "source": [
    "df_DFIM[:30].plot(kind='bar',x='interaction',y='count',color=df_DFIM['in_both'],figsize=(18,6),legend=None,alpha=0.6)"
   ]
  },
  {
   "cell_type": "code",
   "execution_count": 169,
   "metadata": {},
   "outputs": [
    {
     "data": {
      "image/png": "[encoded data removed]",
      "text/plain": [
       "<Figure size 648x432 with 1 Axes>"
      ]
     },
     "metadata": {
      "needs_background": "light"
     },
     "output_type": "display_data"
    }
   ],
   "source": [
    "ax = df_DFIM[:15].plot(kind='bar',x='interaction',y='count',\n",
    "                       color=df_DFIM['in_both'],figsize=(9,6),\n",
    "                       legend=False,alpha=0.6,fontsize=12)\n",
    "\n",
    "ax.set_xlabel(\"TF interaction\",fontsize=16)\n",
    "ax.set_ylabel(\"# of occurences\",fontsize=16)\n",
    "\n",
    "NA = mpatches.Patch(color='b', alpha = 0.6, label='In both')\n",
    "EU = mpatches.Patch(color='r', alpha = 0.6, label='FIS only')\n",
    "plt.legend(handles=[NA,EU], loc=1,fontsize=14)\n",
    "plt.savefig('SATORI-vs-FIS_IR_indTF.pdf',bbox_inches='tight')"
   ]
  },
  {
   "cell_type": "markdown",
   "metadata": {},
   "source": [
    "#### For ATTN TFs"
   ]
  },
  {
   "cell_type": "code",
   "execution_count": 170,
   "metadata": {},
   "outputs": [],
   "source": [
    "final_list = [['interaction','count','in_both']]\n",
    "for key in ATTN_unique.keys():\n",
    "    rev_key = key.split('$\\\\longleftrightarrow$')[1]+'$\\\\longleftrightarrow$'+key.split('$\\\\longleftrightarrow$')[0]\n",
    "    if key in DFIM_unique or rev_key in DFIM_unique:\n",
    "        final_list.append([key,ATTN_unique[key],'b'])\n",
    "    else:\n",
    "        final_list.append([key,ATTN_unique[key],'r'])\n",
    "final_list = np.asarray(final_list)\n",
    "df_ATTN = pd.DataFrame(final_list[1:],columns=final_list[0])   \n",
    "df_ATTN['count'] = df_ATTN['count'].apply(lambda x: int(x))"
   ]
  },
  {
   "cell_type": "code",
   "execution_count": 171,
   "metadata": {},
   "outputs": [
    {
     "data": {
      "text/html": [
       "<div>\n",
       "<style scoped>\n",
       "    .dataframe tbody tr th:only-of-type {\n",
       "        vertical-align: middle;\n",
       "    }\n",
       "\n",
       "    .dataframe tbody tr th {\n",
       "        vertical-align: top;\n",
       "    }\n",
       "\n",
       "    .dataframe thead th {\n",
       "        text-align: right;\n",
       "    }\n",
       "</style>\n",
       "<table border=\"1\" class=\"dataframe\">\n",
       "  <thead>\n",
       "    <tr style=\"text-align: right;\">\n",
       "      <th></th>\n",
       "      <th>interaction</th>\n",
       "      <th>count</th>\n",
       "      <th>in_both</th>\n",
       "    </tr>\n",
       "  </thead>\n",
       "  <tbody>\n",
       "    <tr>\n",
       "      <td>0</td>\n",
       "      <td>EGR1$\\longleftrightarrow$ZFX</td>\n",
       "      <td>123</td>\n",
       "      <td>b</td>\n",
       "    </tr>\n",
       "    <tr>\n",
       "      <td>1</td>\n",
       "      <td>EGR1$\\longleftrightarrow$ZNF263</td>\n",
       "      <td>111</td>\n",
       "      <td>b</td>\n",
       "    </tr>\n",
       "    <tr>\n",
       "      <td>2</td>\n",
       "      <td>ZNF263$\\longleftrightarrow$ZFX</td>\n",
       "      <td>90</td>\n",
       "      <td>b</td>\n",
       "    </tr>\n",
       "    <tr>\n",
       "      <td>3</td>\n",
       "      <td>DNMT1$\\longleftrightarrow$EGR1</td>\n",
       "      <td>68</td>\n",
       "      <td>b</td>\n",
       "    </tr>\n",
       "    <tr>\n",
       "      <td>4</td>\n",
       "      <td>DNMT1$\\longleftrightarrow$ZNF263</td>\n",
       "      <td>55</td>\n",
       "      <td>b</td>\n",
       "    </tr>\n",
       "  </tbody>\n",
       "</table>\n",
       "</div>"
      ],
      "text/plain": [
       "                        interaction  count in_both\n",
       "0      EGR1$\\longleftrightarrow$ZFX    123       b\n",
       "1   EGR1$\\longleftrightarrow$ZNF263    111       b\n",
       "2    ZNF263$\\longleftrightarrow$ZFX     90       b\n",
       "3    DNMT1$\\longleftrightarrow$EGR1     68       b\n",
       "4  DNMT1$\\longleftrightarrow$ZNF263     55       b"
      ]
     },
     "execution_count": 171,
     "metadata": {},
     "output_type": "execute_result"
    }
   ],
   "source": [
    "df_ATTN.head()"
   ]
  },
  {
   "cell_type": "code",
   "execution_count": 172,
   "metadata": {},
   "outputs": [
    {
     "data": {
      "text/plain": [
       "<matplotlib.axes._subplots.AxesSubplot at 0x7fceca3637b8>"
      ]
     },
     "execution_count": 172,
     "metadata": {},
     "output_type": "execute_result"
    },
    {
     "data": {
      "image/png": "[encoded data removed]",
      "text/plain": [
       "<Figure size 1296x432 with 1 Axes>"
      ]
     },
     "metadata": {
      "needs_background": "light"
     },
     "output_type": "display_data"
    }
   ],
   "source": [
    "df_ATTN[:30].plot(kind='bar',x='interaction',y='count',color=df_ATTN['in_both'],figsize=(18,6),legend=None,alpha=0.6)"
   ]
  },
  {
   "cell_type": "code",
   "execution_count": 173,
   "metadata": {},
   "outputs": [
    {
     "data": {
      "text/plain": [
       "2.0"
      ]
     },
     "execution_count": 173,
     "metadata": {},
     "output_type": "execute_result"
    }
   ],
   "source": [
    "df_ATTN['count'].median()"
   ]
  },
  {
   "cell_type": "code",
   "execution_count": 174,
   "metadata": {},
   "outputs": [
    {
     "data": {
      "text/plain": [
       "r    151\n",
       "b    102\n",
       "Name: in_both, dtype: int64"
      ]
     },
     "execution_count": 174,
     "metadata": {},
     "output_type": "execute_result"
    }
   ],
   "source": [
    "df_DFIM['in_both'].value_counts()"
   ]
  },
  {
   "cell_type": "code",
   "execution_count": 175,
   "metadata": {},
   "outputs": [
    {
     "data": {
      "text/plain": [
       "r    139\n",
       "b    102\n",
       "Name: in_both, dtype: int64"
      ]
     },
     "execution_count": 175,
     "metadata": {},
     "output_type": "execute_result"
    }
   ],
   "source": [
    "df_ATTN['in_both'].value_counts()"
   ]
  },
  {
   "cell_type": "markdown",
   "metadata": {},
   "source": [
    "### TF Family Analysis"
   ]
  },
  {
   "cell_type": "code",
   "execution_count": 176,
   "metadata": {},
   "outputs": [],
   "source": [
    "DFIM_unique = DFIM['Family_Interaction'].value_counts()"
   ]
  },
  {
   "cell_type": "code",
   "execution_count": 177,
   "metadata": {},
   "outputs": [],
   "source": [
    "ATTN_unique = ATTN['Family_Interaction'].value_counts()"
   ]
  },
  {
   "cell_type": "code",
   "execution_count": 178,
   "metadata": {},
   "outputs": [],
   "source": [
    "intersected = set.intersection(set(DFIM_unique.keys()),set(ATTN_unique.keys()))"
   ]
  },
  {
   "cell_type": "code",
   "execution_count": 179,
   "metadata": {},
   "outputs": [
    {
     "data": {
      "text/plain": [
       "(59, 34, 17)"
      ]
     },
     "execution_count": 179,
     "metadata": {},
     "output_type": "execute_result"
    }
   ],
   "source": [
    "len(set(DFIM_unique.keys())),len(set(ATTN_unique.keys())),len(intersected)"
   ]
  },
  {
   "cell_type": "markdown",
   "metadata": {},
   "source": [
    "#### For DFIM TFs"
   ]
  },
  {
   "cell_type": "code",
   "execution_count": 180,
   "metadata": {},
   "outputs": [],
   "source": [
    "final_list = [['interaction','count','in_both']]\n",
    "for key in DFIM_unique.keys():\n",
    "    rev_key = key.split('$\\\\longleftrightarrow$')[1]+'$\\\\longleftrightarrow$'+key.split('$\\\\longleftrightarrow$')[0]\n",
    "    if key in ATTN_unique or rev_key in ATTN_unique:\n",
    "        final_list.append([key,DFIM_unique[key],'b'])\n",
    "    else:\n",
    "        final_list.append([key,DFIM_unique[key],'r'])\n",
    "final_list = np.asarray(final_list)\n",
    "df_DFIM = pd.DataFrame(final_list[1:],columns=final_list[0])   \n",
    "df_DFIM['count'] = df_DFIM['count'].apply(lambda x: int(x))"
   ]
  },
  {
   "cell_type": "code",
   "execution_count": 181,
   "metadata": {},
   "outputs": [],
   "source": [
    "#key.split('$\\\\longleftrightarrow$')"
   ]
  },
  {
   "cell_type": "code",
   "execution_count": 182,
   "metadata": {},
   "outputs": [
    {
     "data": {
      "text/html": [
       "<div>\n",
       "<style scoped>\n",
       "    .dataframe tbody tr th:only-of-type {\n",
       "        vertical-align: middle;\n",
       "    }\n",
       "\n",
       "    .dataframe tbody tr th {\n",
       "        vertical-align: top;\n",
       "    }\n",
       "\n",
       "    .dataframe thead th {\n",
       "        text-align: right;\n",
       "    }\n",
       "</style>\n",
       "<table border=\"1\" class=\"dataframe\">\n",
       "  <thead>\n",
       "    <tr style=\"text-align: right;\">\n",
       "      <th></th>\n",
       "      <th>interaction</th>\n",
       "      <th>count</th>\n",
       "      <th>in_both</th>\n",
       "    </tr>\n",
       "  </thead>\n",
       "  <tbody>\n",
       "    <tr>\n",
       "      <td>0</td>\n",
       "      <td>C2H2 ZF$\\longleftrightarrow$C2H2 ZF</td>\n",
       "      <td>598</td>\n",
       "      <td>b</td>\n",
       "    </tr>\n",
       "    <tr>\n",
       "      <td>1</td>\n",
       "      <td>Homeodomain$\\longleftrightarrow$C2H2 ZF</td>\n",
       "      <td>428</td>\n",
       "      <td>b</td>\n",
       "    </tr>\n",
       "    <tr>\n",
       "      <td>2</td>\n",
       "      <td>CxxC$\\longleftrightarrow$C2H2 ZF</td>\n",
       "      <td>312</td>\n",
       "      <td>b</td>\n",
       "    </tr>\n",
       "    <tr>\n",
       "      <td>3</td>\n",
       "      <td>Sox$\\longleftrightarrow$C2H2 ZF</td>\n",
       "      <td>117</td>\n",
       "      <td>b</td>\n",
       "    </tr>\n",
       "    <tr>\n",
       "      <td>4</td>\n",
       "      <td>CxxC$\\longleftrightarrow$Homeodomain</td>\n",
       "      <td>88</td>\n",
       "      <td>b</td>\n",
       "    </tr>\n",
       "  </tbody>\n",
       "</table>\n",
       "</div>"
      ],
      "text/plain": [
       "                               interaction  count in_both\n",
       "0      C2H2 ZF$\\longleftrightarrow$C2H2 ZF    598       b\n",
       "1  Homeodomain$\\longleftrightarrow$C2H2 ZF    428       b\n",
       "2         CxxC$\\longleftrightarrow$C2H2 ZF    312       b\n",
       "3          Sox$\\longleftrightarrow$C2H2 ZF    117       b\n",
       "4     CxxC$\\longleftrightarrow$Homeodomain     88       b"
      ]
     },
     "execution_count": 182,
     "metadata": {},
     "output_type": "execute_result"
    }
   ],
   "source": [
    "df_DFIM.head()"
   ]
  },
  {
   "cell_type": "code",
   "execution_count": 183,
   "metadata": {
    "scrolled": false
   },
   "outputs": [
    {
     "data": {
      "text/plain": [
       "<matplotlib.axes._subplots.AxesSubplot at 0x7fceca1b9ba8>"
      ]
     },
     "execution_count": 183,
     "metadata": {},
     "output_type": "execute_result"
    },
    {
     "data": {
      "image/png": "[encoded data removed]",
      "text/plain": [
       "<Figure size 1296x360 with 1 Axes>"
      ]
     },
     "metadata": {
      "needs_background": "light"
     },
     "output_type": "display_data"
    }
   ],
   "source": [
    "df_DFIM[:30].plot(kind='bar',x='interaction',y='count',color=df_DFIM['in_both'],figsize=(18,5),legend=None,alpha=0.6)"
   ]
  },
  {
   "cell_type": "code",
   "execution_count": 184,
   "metadata": {},
   "outputs": [
    {
     "data": {
      "image/png": "[encoded data removed]",
      "text/plain": [
       "<Figure size 648x432 with 1 Axes>"
      ]
     },
     "metadata": {
      "needs_background": "light"
     },
     "output_type": "display_data"
    }
   ],
   "source": [
    "ax = df_DFIM[:10].plot(kind='bar',x='interaction',y='count',\n",
    "                       color=df_DFIM['in_both'],figsize=(9,6),\n",
    "                       legend=False,alpha=0.6,fontsize=12)\n",
    "\n",
    "ax.set_xlabel(\"Family interaction\",fontsize=16)\n",
    "ax.set_ylabel(\"# of occurences\",fontsize=16)\n",
    "\n",
    "NA = mpatches.Patch(color='b', alpha = 0.6, label='In both')\n",
    "EU = mpatches.Patch(color='r', alpha = 0.6, label='FIS only')\n",
    "plt.legend(handles=[NA,EU], loc=1,fontsize=14)\n",
    "plt.savefig('SATORI-vs-FIS_IR_famTF.pdf',bbox_inches='tight')"
   ]
  },
  {
   "cell_type": "code",
   "execution_count": 185,
   "metadata": {},
   "outputs": [
    {
     "data": {
      "text/html": [
       "<div>\n",
       "<style scoped>\n",
       "    .dataframe tbody tr th:only-of-type {\n",
       "        vertical-align: middle;\n",
       "    }\n",
       "\n",
       "    .dataframe tbody tr th {\n",
       "        vertical-align: top;\n",
       "    }\n",
       "\n",
       "    .dataframe thead th {\n",
       "        text-align: right;\n",
       "    }\n",
       "</style>\n",
       "<table border=\"1\" class=\"dataframe\">\n",
       "  <thead>\n",
       "    <tr style=\"text-align: right;\">\n",
       "      <th></th>\n",
       "      <th>interaction</th>\n",
       "      <th>count</th>\n",
       "      <th>in_both</th>\n",
       "    </tr>\n",
       "  </thead>\n",
       "  <tbody>\n",
       "  </tbody>\n",
       "</table>\n",
       "</div>"
      ],
      "text/plain": [
       "Empty DataFrame\n",
       "Columns: [interaction, count, in_both]\n",
       "Index: []"
      ]
     },
     "execution_count": 185,
     "metadata": {},
     "output_type": "execute_result"
    }
   ],
   "source": [
    "df_DFIM[(df_DFIM['interaction'].str.contains('GATA')) & (df_DFIM['interaction'].str.contains('bHLH'))]"
   ]
  },
  {
   "cell_type": "markdown",
   "metadata": {},
   "source": [
    "#### For ATTN TFs"
   ]
  },
  {
   "cell_type": "code",
   "execution_count": 186,
   "metadata": {},
   "outputs": [],
   "source": [
    "final_list = [['interaction','count','in_both']]\n",
    "for key in ATTN_unique.keys():\n",
    "    rev_key = key.split('$\\\\longleftrightarrow$')[1]+'$\\\\longleftrightarrow$'+key.split('$\\\\longleftrightarrow$')[0]\n",
    "    if key in DFIM_unique or rev_key in DFIM_unique:\n",
    "        final_list.append([key,ATTN_unique[key],'b'])\n",
    "    else:\n",
    "        final_list.append([key,ATTN_unique[key],'r'])\n",
    "final_list = np.asarray(final_list)\n",
    "df_ATTN = pd.DataFrame(final_list[1:],columns=final_list[0])   \n",
    "df_ATTN['count'] = df_ATTN['count'].apply(lambda x: int(x))"
   ]
  },
  {
   "cell_type": "code",
   "execution_count": 187,
   "metadata": {},
   "outputs": [
    {
     "data": {
      "text/html": [
       "<div>\n",
       "<style scoped>\n",
       "    .dataframe tbody tr th:only-of-type {\n",
       "        vertical-align: middle;\n",
       "    }\n",
       "\n",
       "    .dataframe tbody tr th {\n",
       "        vertical-align: top;\n",
       "    }\n",
       "\n",
       "    .dataframe thead th {\n",
       "        text-align: right;\n",
       "    }\n",
       "</style>\n",
       "<table border=\"1\" class=\"dataframe\">\n",
       "  <thead>\n",
       "    <tr style=\"text-align: right;\">\n",
       "      <th></th>\n",
       "      <th>interaction</th>\n",
       "      <th>count</th>\n",
       "      <th>in_both</th>\n",
       "    </tr>\n",
       "  </thead>\n",
       "  <tbody>\n",
       "    <tr>\n",
       "      <td>0</td>\n",
       "      <td>C2H2 ZF$\\longleftrightarrow$C2H2 ZF</td>\n",
       "      <td>727</td>\n",
       "      <td>b</td>\n",
       "    </tr>\n",
       "    <tr>\n",
       "      <td>1</td>\n",
       "      <td>CxxC$\\longleftrightarrow$C2H2 ZF</td>\n",
       "      <td>379</td>\n",
       "      <td>b</td>\n",
       "    </tr>\n",
       "    <tr>\n",
       "      <td>2</td>\n",
       "      <td>C2H2 ZF$\\longleftrightarrow$bHLH</td>\n",
       "      <td>136</td>\n",
       "      <td>b</td>\n",
       "    </tr>\n",
       "    <tr>\n",
       "      <td>3</td>\n",
       "      <td>C2H2 ZF$\\longleftrightarrow$Homeodomain</td>\n",
       "      <td>121</td>\n",
       "      <td>b</td>\n",
       "    </tr>\n",
       "    <tr>\n",
       "      <td>4</td>\n",
       "      <td>C2H2 ZF$\\longleftrightarrow$Nuclear receptor</td>\n",
       "      <td>86</td>\n",
       "      <td>b</td>\n",
       "    </tr>\n",
       "  </tbody>\n",
       "</table>\n",
       "</div>"
      ],
      "text/plain": [
       "                                    interaction  count in_both\n",
       "0           C2H2 ZF$\\longleftrightarrow$C2H2 ZF    727       b\n",
       "1              CxxC$\\longleftrightarrow$C2H2 ZF    379       b\n",
       "2              C2H2 ZF$\\longleftrightarrow$bHLH    136       b\n",
       "3       C2H2 ZF$\\longleftrightarrow$Homeodomain    121       b\n",
       "4  C2H2 ZF$\\longleftrightarrow$Nuclear receptor     86       b"
      ]
     },
     "execution_count": 187,
     "metadata": {},
     "output_type": "execute_result"
    }
   ],
   "source": [
    "df_ATTN.head()"
   ]
  },
  {
   "cell_type": "code",
   "execution_count": 188,
   "metadata": {},
   "outputs": [
    {
     "data": {
      "text/plain": [
       "<matplotlib.axes._subplots.AxesSubplot at 0x7fcecb030240>"
      ]
     },
     "execution_count": 188,
     "metadata": {},
     "output_type": "execute_result"
    },
    {
     "data": {
      "image/png": "[encoded data removed]",
      "text/plain": [
       "<Figure size 1296x432 with 1 Axes>"
      ]
     },
     "metadata": {
      "needs_background": "light"
     },
     "output_type": "display_data"
    }
   ],
   "source": [
    "df_ATTN[:30].plot(kind='bar',x='interaction',y='count',color=df_ATTN['in_both'],figsize=(18,6),legend=None,alpha=0.6)"
   ]
  },
  {
   "cell_type": "code",
   "execution_count": 189,
   "metadata": {},
   "outputs": [
    {
     "data": {
      "text/html": [
       "<div>\n",
       "<style scoped>\n",
       "    .dataframe tbody tr th:only-of-type {\n",
       "        vertical-align: middle;\n",
       "    }\n",
       "\n",
       "    .dataframe tbody tr th {\n",
       "        vertical-align: top;\n",
       "    }\n",
       "\n",
       "    .dataframe thead th {\n",
       "        text-align: right;\n",
       "    }\n",
       "</style>\n",
       "<table border=\"1\" class=\"dataframe\">\n",
       "  <thead>\n",
       "    <tr style=\"text-align: right;\">\n",
       "      <th></th>\n",
       "      <th>interaction</th>\n",
       "      <th>count</th>\n",
       "      <th>in_both</th>\n",
       "    </tr>\n",
       "  </thead>\n",
       "  <tbody>\n",
       "  </tbody>\n",
       "</table>\n",
       "</div>"
      ],
      "text/plain": [
       "Empty DataFrame\n",
       "Columns: [interaction, count, in_both]\n",
       "Index: []"
      ]
     },
     "execution_count": 189,
     "metadata": {},
     "output_type": "execute_result"
    }
   ],
   "source": [
    "df_ATTN[(df_ATTN['interaction'].str.contains('GATA')) & (df_ATTN['interaction'].str.contains('bHLH'))]"
   ]
  },
  {
   "cell_type": "code",
   "execution_count": 190,
   "metadata": {},
   "outputs": [
    {
     "data": {
      "text/plain": [
       "r    31\n",
       "b    28\n",
       "Name: in_both, dtype: int64"
      ]
     },
     "execution_count": 190,
     "metadata": {},
     "output_type": "execute_result"
    }
   ],
   "source": [
    "df_DFIM['in_both'].value_counts()"
   ]
  },
  {
   "cell_type": "code",
   "execution_count": 191,
   "metadata": {},
   "outputs": [
    {
     "data": {
      "text/plain": [
       "b    28\n",
       "r     6\n",
       "Name: in_both, dtype: int64"
      ]
     },
     "execution_count": 191,
     "metadata": {},
     "output_type": "execute_result"
    }
   ],
   "source": [
    "df_ATTN['in_both'].value_counts()"
   ]
  },
  {
   "cell_type": "code",
   "execution_count": null,
   "metadata": {},
   "outputs": [],
   "source": []
  }
 ],
 "metadata": {
  "kernelspec": {
   "display_name": "Python 3",
   "language": "python",
   "name": "python3"
  },
  "language_info": {
   "codemirror_mode": {
    "name": "ipython",
    "version": 3
   },
   "file_extension": ".py",
   "mimetype": "text/x-python",
   "name": "python",
   "nbconvert_exporter": "python",
   "pygments_lexer": "ipython3",
   "version": "3.7.3"
  }
 },
 "nbformat": 4,
 "nbformat_minor": 2
}
