{
 "cells": [
  {
   "cell_type": "code",
   "execution_count": 237,
   "metadata": {},
   "outputs": [],
   "source": [
    "import numpy as np\n",
    "import pandas as pd\n",
    "import matplotlib.pyplot as plt\n",
    "import matplotlib.patches as mpatches"
   ]
  },
  {
   "cell_type": "code",
   "execution_count": 238,
   "metadata": {},
   "outputs": [],
   "source": [
    "DFIM = pd.read_csv('DFIM_Human-Promoter_Final.txt',sep='\\t')\n",
    "ATTN = pd.read_csv('Attn_Human-Promoter_Final.txt',sep='\\t')"
   ]
  },
  {
   "cell_type": "markdown",
   "metadata": {},
   "source": [
    "### Individual TF Analysis"
   ]
  },
  {
   "cell_type": "code",
   "execution_count": 239,
   "metadata": {},
   "outputs": [
    {
     "data": {
      "text/html": [
       "<div>\n",
       "<style scoped>\n",
       "    .dataframe tbody tr th:only-of-type {\n",
       "        vertical-align: middle;\n",
       "    }\n",
       "\n",
       "    .dataframe tbody tr th {\n",
       "        vertical-align: top;\n",
       "    }\n",
       "\n",
       "    .dataframe thead th {\n",
       "        text-align: right;\n",
       "    }\n",
       "</style>\n",
       "<table border=\"1\" class=\"dataframe\">\n",
       "  <thead>\n",
       "    <tr style=\"text-align: right;\">\n",
       "      <th></th>\n",
       "      <th>Unnamed: 0</th>\n",
       "      <th>index</th>\n",
       "      <th>filter_interaction</th>\n",
       "      <th>example_no</th>\n",
       "      <th>motif1</th>\n",
       "      <th>motif1_qval</th>\n",
       "      <th>motif2</th>\n",
       "      <th>motif2_qval</th>\n",
       "      <th>mean_distance</th>\n",
       "      <th>mean_distance_bg</th>\n",
       "      <th>...</th>\n",
       "      <th>pval</th>\n",
       "      <th>adjusted_pval</th>\n",
       "      <th>TF1</th>\n",
       "      <th>TF2</th>\n",
       "      <th>TF_interaction</th>\n",
       "      <th>TF1_Family</th>\n",
       "      <th>TF2_Family</th>\n",
       "      <th>Family_Interaction</th>\n",
       "      <th>motifsOnlyInt</th>\n",
       "      <th>familyOnlyInt</th>\n",
       "    </tr>\n",
       "  </thead>\n",
       "  <tbody>\n",
       "    <tr>\n",
       "      <td>0</td>\n",
       "      <td>0</td>\n",
       "      <td>33</td>\n",
       "      <td>filter0&lt;--&gt;filter58</td>\n",
       "      <td>57</td>\n",
       "      <td>M5335_1.02</td>\n",
       "      <td>0.048946</td>\n",
       "      <td>M0609_1.02</td>\n",
       "      <td>0.002026</td>\n",
       "      <td>170.0</td>\n",
       "      <td>15.0</td>\n",
       "      <td>...</td>\n",
       "      <td>0.001931</td>\n",
       "      <td>0.007227</td>\n",
       "      <td>CUX2</td>\n",
       "      <td>DNMT1</td>\n",
       "      <td>CUX2$\\longleftrightarrow$DNMT1</td>\n",
       "      <td>CUT,Homeodomain</td>\n",
       "      <td>CxxC</td>\n",
       "      <td>CUT,Homeodomain$\\longleftrightarrow$CxxC</td>\n",
       "      <td>CUX2:DNMT1</td>\n",
       "      <td>CUT,Homeodomain:CxxC</td>\n",
       "    </tr>\n",
       "    <tr>\n",
       "      <td>1</td>\n",
       "      <td>1</td>\n",
       "      <td>65</td>\n",
       "      <td>filter0&lt;--&gt;filter122</td>\n",
       "      <td>121</td>\n",
       "      <td>M5335_1.02</td>\n",
       "      <td>0.048946</td>\n",
       "      <td>M4604_1.02</td>\n",
       "      <td>0.028528</td>\n",
       "      <td>266.0</td>\n",
       "      <td>244.0</td>\n",
       "      <td>...</td>\n",
       "      <td>0.007247</td>\n",
       "      <td>0.021542</td>\n",
       "      <td>CUX2</td>\n",
       "      <td>ZNF263</td>\n",
       "      <td>CUX2$\\longleftrightarrow$ZNF263</td>\n",
       "      <td>CUT,Homeodomain</td>\n",
       "      <td>C2H2 ZF</td>\n",
       "      <td>CUT,Homeodomain$\\longleftrightarrow$C2H2 ZF</td>\n",
       "      <td>CUX2:ZNF263</td>\n",
       "      <td>CUT,Homeodomain:C2H2 ZF</td>\n",
       "    </tr>\n",
       "    <tr>\n",
       "      <td>2</td>\n",
       "      <td>2</td>\n",
       "      <td>70</td>\n",
       "      <td>filter0&lt;--&gt;filter131</td>\n",
       "      <td>130</td>\n",
       "      <td>M5335_1.02</td>\n",
       "      <td>0.048946</td>\n",
       "      <td>M0408_1.02</td>\n",
       "      <td>0.005101</td>\n",
       "      <td>32.0</td>\n",
       "      <td>186.0</td>\n",
       "      <td>...</td>\n",
       "      <td>0.000725</td>\n",
       "      <td>0.003221</td>\n",
       "      <td>CUX2</td>\n",
       "      <td>ZKSCAN1</td>\n",
       "      <td>CUX2$\\longleftrightarrow$ZKSCAN1</td>\n",
       "      <td>CUT,Homeodomain</td>\n",
       "      <td>C2H2 ZF</td>\n",
       "      <td>CUT,Homeodomain$\\longleftrightarrow$C2H2 ZF</td>\n",
       "      <td>CUX2:ZKSCAN1</td>\n",
       "      <td>CUT,Homeodomain:C2H2 ZF</td>\n",
       "    </tr>\n",
       "    <tr>\n",
       "      <td>3</td>\n",
       "      <td>3</td>\n",
       "      <td>71</td>\n",
       "      <td>filter0&lt;--&gt;filter133</td>\n",
       "      <td>132</td>\n",
       "      <td>M5335_1.02</td>\n",
       "      <td>0.048946</td>\n",
       "      <td>M4459_1.02</td>\n",
       "      <td>0.000187</td>\n",
       "      <td>191.0</td>\n",
       "      <td>316.0</td>\n",
       "      <td>...</td>\n",
       "      <td>0.000083</td>\n",
       "      <td>0.000529</td>\n",
       "      <td>CUX2</td>\n",
       "      <td>EGR1</td>\n",
       "      <td>CUX2$\\longleftrightarrow$EGR1</td>\n",
       "      <td>CUT,Homeodomain</td>\n",
       "      <td>C2H2 ZF</td>\n",
       "      <td>CUT,Homeodomain$\\longleftrightarrow$C2H2 ZF</td>\n",
       "      <td>CUX2:EGR1</td>\n",
       "      <td>CUT,Homeodomain:C2H2 ZF</td>\n",
       "    </tr>\n",
       "    <tr>\n",
       "      <td>4</td>\n",
       "      <td>4</td>\n",
       "      <td>84</td>\n",
       "      <td>filter0&lt;--&gt;filter160</td>\n",
       "      <td>159</td>\n",
       "      <td>M5335_1.02</td>\n",
       "      <td>0.048946</td>\n",
       "      <td>M0609_1.02</td>\n",
       "      <td>0.006937</td>\n",
       "      <td>301.0</td>\n",
       "      <td>337.0</td>\n",
       "      <td>...</td>\n",
       "      <td>0.013399</td>\n",
       "      <td>0.035482</td>\n",
       "      <td>CUX2</td>\n",
       "      <td>DNMT1</td>\n",
       "      <td>CUX2$\\longleftrightarrow$DNMT1</td>\n",
       "      <td>CUT,Homeodomain</td>\n",
       "      <td>CxxC</td>\n",
       "      <td>CUT,Homeodomain$\\longleftrightarrow$CxxC</td>\n",
       "      <td>CUX2:DNMT1</td>\n",
       "      <td>CUT,Homeodomain:CxxC</td>\n",
       "    </tr>\n",
       "  </tbody>\n",
       "</table>\n",
       "<p>5 rows × 22 columns</p>\n",
       "</div>"
      ],
      "text/plain": [
       "   Unnamed: 0  index    filter_interaction  example_no      motif1  \\\n",
       "0           0     33   filter0<-->filter58          57  M5335_1.02   \n",
       "1           1     65  filter0<-->filter122         121  M5335_1.02   \n",
       "2           2     70  filter0<-->filter131         130  M5335_1.02   \n",
       "3           3     71  filter0<-->filter133         132  M5335_1.02   \n",
       "4           4     84  filter0<-->filter160         159  M5335_1.02   \n",
       "\n",
       "   motif1_qval      motif2  motif2_qval  mean_distance  mean_distance_bg  ...  \\\n",
       "0     0.048946  M0609_1.02     0.002026          170.0              15.0  ...   \n",
       "1     0.048946  M4604_1.02     0.028528          266.0             244.0  ...   \n",
       "2     0.048946  M0408_1.02     0.005101           32.0             186.0  ...   \n",
       "3     0.048946  M4459_1.02     0.000187          191.0             316.0  ...   \n",
       "4     0.048946  M0609_1.02     0.006937          301.0             337.0  ...   \n",
       "\n",
       "       pval  adjusted_pval   TF1      TF2                    TF_interaction  \\\n",
       "0  0.001931       0.007227  CUX2    DNMT1    CUX2$\\longleftrightarrow$DNMT1   \n",
       "1  0.007247       0.021542  CUX2   ZNF263   CUX2$\\longleftrightarrow$ZNF263   \n",
       "2  0.000725       0.003221  CUX2  ZKSCAN1  CUX2$\\longleftrightarrow$ZKSCAN1   \n",
       "3  0.000083       0.000529  CUX2     EGR1     CUX2$\\longleftrightarrow$EGR1   \n",
       "4  0.013399       0.035482  CUX2    DNMT1    CUX2$\\longleftrightarrow$DNMT1   \n",
       "\n",
       "        TF1_Family TF2_Family                           Family_Interaction  \\\n",
       "0  CUT,Homeodomain       CxxC     CUT,Homeodomain$\\longleftrightarrow$CxxC   \n",
       "1  CUT,Homeodomain    C2H2 ZF  CUT,Homeodomain$\\longleftrightarrow$C2H2 ZF   \n",
       "2  CUT,Homeodomain    C2H2 ZF  CUT,Homeodomain$\\longleftrightarrow$C2H2 ZF   \n",
       "3  CUT,Homeodomain    C2H2 ZF  CUT,Homeodomain$\\longleftrightarrow$C2H2 ZF   \n",
       "4  CUT,Homeodomain       CxxC     CUT,Homeodomain$\\longleftrightarrow$CxxC   \n",
       "\n",
       "  motifsOnlyInt            familyOnlyInt  \n",
       "0    CUX2:DNMT1     CUT,Homeodomain:CxxC  \n",
       "1   CUX2:ZNF263  CUT,Homeodomain:C2H2 ZF  \n",
       "2  CUX2:ZKSCAN1  CUT,Homeodomain:C2H2 ZF  \n",
       "3     CUX2:EGR1  CUT,Homeodomain:C2H2 ZF  \n",
       "4    CUX2:DNMT1     CUT,Homeodomain:CxxC  \n",
       "\n",
       "[5 rows x 22 columns]"
      ]
     },
     "execution_count": 239,
     "metadata": {},
     "output_type": "execute_result"
    }
   ],
   "source": [
    "DFIM.head()"
   ]
  },
  {
   "cell_type": "code",
   "execution_count": 240,
   "metadata": {},
   "outputs": [
    {
     "data": {
      "text/html": [
       "<div>\n",
       "<style scoped>\n",
       "    .dataframe tbody tr th:only-of-type {\n",
       "        vertical-align: middle;\n",
       "    }\n",
       "\n",
       "    .dataframe tbody tr th {\n",
       "        vertical-align: top;\n",
       "    }\n",
       "\n",
       "    .dataframe thead th {\n",
       "        text-align: right;\n",
       "    }\n",
       "</style>\n",
       "<table border=\"1\" class=\"dataframe\">\n",
       "  <thead>\n",
       "    <tr style=\"text-align: right;\">\n",
       "      <th></th>\n",
       "      <th>Unnamed: 0</th>\n",
       "      <th>index</th>\n",
       "      <th>filter_interaction</th>\n",
       "      <th>example_no</th>\n",
       "      <th>motif1</th>\n",
       "      <th>motif1_qval</th>\n",
       "      <th>motif2</th>\n",
       "      <th>motif2_qval</th>\n",
       "      <th>mean_distance</th>\n",
       "      <th>mean_distance_bg</th>\n",
       "      <th>...</th>\n",
       "      <th>pval</th>\n",
       "      <th>adjusted_pval</th>\n",
       "      <th>TF1</th>\n",
       "      <th>TF2</th>\n",
       "      <th>TF_interaction</th>\n",
       "      <th>TF1_Family</th>\n",
       "      <th>TF2_Family</th>\n",
       "      <th>Family_Interaction</th>\n",
       "      <th>motifsOnlyInt</th>\n",
       "      <th>familyOnlyInt</th>\n",
       "    </tr>\n",
       "  </thead>\n",
       "  <tbody>\n",
       "    <tr>\n",
       "      <td>0</td>\n",
       "      <td>0</td>\n",
       "      <td>0</td>\n",
       "      <td>filter3&lt;--&gt;filter4</td>\n",
       "      <td>594</td>\n",
       "      <td>M0408_1.02</td>\n",
       "      <td>0.00457</td>\n",
       "      <td>M4536_1.02</td>\n",
       "      <td>0.000552</td>\n",
       "      <td>126.0</td>\n",
       "      <td>228.0</td>\n",
       "      <td>...</td>\n",
       "      <td>2.669928e-41</td>\n",
       "      <td>3.974949e-40</td>\n",
       "      <td>ZKSCAN1</td>\n",
       "      <td>E2F1</td>\n",
       "      <td>ZKSCAN1$\\longleftrightarrow$E2F1</td>\n",
       "      <td>C2H2 ZF</td>\n",
       "      <td>E2F</td>\n",
       "      <td>C2H2 ZF$\\longleftrightarrow$E2F</td>\n",
       "      <td>ZKSCAN1:E2F1</td>\n",
       "      <td>C2H2 ZF:E2F</td>\n",
       "    </tr>\n",
       "    <tr>\n",
       "      <td>1</td>\n",
       "      <td>1</td>\n",
       "      <td>1</td>\n",
       "      <td>filter3&lt;--&gt;filter12</td>\n",
       "      <td>602</td>\n",
       "      <td>M0408_1.02</td>\n",
       "      <td>0.00457</td>\n",
       "      <td>M0891_1.02</td>\n",
       "      <td>0.000487</td>\n",
       "      <td>282.0</td>\n",
       "      <td>168.0</td>\n",
       "      <td>...</td>\n",
       "      <td>8.049162e-14</td>\n",
       "      <td>1.451309e-13</td>\n",
       "      <td>ZKSCAN1</td>\n",
       "      <td>TLX2</td>\n",
       "      <td>ZKSCAN1$\\longleftrightarrow$TLX2</td>\n",
       "      <td>C2H2 ZF</td>\n",
       "      <td>Homeodomain</td>\n",
       "      <td>C2H2 ZF$\\longleftrightarrow$Homeodomain</td>\n",
       "      <td>ZKSCAN1:TLX2</td>\n",
       "      <td>C2H2 ZF:Homeodomain</td>\n",
       "    </tr>\n",
       "    <tr>\n",
       "      <td>2</td>\n",
       "      <td>2</td>\n",
       "      <td>2</td>\n",
       "      <td>filter3&lt;--&gt;filter18</td>\n",
       "      <td>608</td>\n",
       "      <td>M0408_1.02</td>\n",
       "      <td>0.00457</td>\n",
       "      <td>M1007_1.02</td>\n",
       "      <td>0.002963</td>\n",
       "      <td>42.0</td>\n",
       "      <td>330.0</td>\n",
       "      <td>...</td>\n",
       "      <td>5.039890e-21</td>\n",
       "      <td>1.317235e-20</td>\n",
       "      <td>ZKSCAN1</td>\n",
       "      <td>HOXA11</td>\n",
       "      <td>ZKSCAN1$\\longleftrightarrow$HOXA11</td>\n",
       "      <td>C2H2 ZF</td>\n",
       "      <td>Homeodomain</td>\n",
       "      <td>C2H2 ZF$\\longleftrightarrow$Homeodomain</td>\n",
       "      <td>ZKSCAN1:HOXA11</td>\n",
       "      <td>C2H2 ZF:Homeodomain</td>\n",
       "    </tr>\n",
       "    <tr>\n",
       "      <td>3</td>\n",
       "      <td>3</td>\n",
       "      <td>3</td>\n",
       "      <td>filter3&lt;--&gt;filter21</td>\n",
       "      <td>611</td>\n",
       "      <td>M0408_1.02</td>\n",
       "      <td>0.00457</td>\n",
       "      <td>M0609_1.02</td>\n",
       "      <td>0.009532</td>\n",
       "      <td>12.0</td>\n",
       "      <td>42.0</td>\n",
       "      <td>...</td>\n",
       "      <td>3.467012e-29</td>\n",
       "      <td>1.600855e-28</td>\n",
       "      <td>ZKSCAN1</td>\n",
       "      <td>DNMT1</td>\n",
       "      <td>ZKSCAN1$\\longleftrightarrow$DNMT1</td>\n",
       "      <td>C2H2 ZF</td>\n",
       "      <td>CxxC</td>\n",
       "      <td>C2H2 ZF$\\longleftrightarrow$CxxC</td>\n",
       "      <td>ZKSCAN1:DNMT1</td>\n",
       "      <td>C2H2 ZF:CxxC</td>\n",
       "    </tr>\n",
       "    <tr>\n",
       "      <td>4</td>\n",
       "      <td>4</td>\n",
       "      <td>4</td>\n",
       "      <td>filter3&lt;--&gt;filter23</td>\n",
       "      <td>613</td>\n",
       "      <td>M0408_1.02</td>\n",
       "      <td>0.00457</td>\n",
       "      <td>M0891_1.02</td>\n",
       "      <td>0.020195</td>\n",
       "      <td>276.0</td>\n",
       "      <td>156.0</td>\n",
       "      <td>...</td>\n",
       "      <td>1.087588e-07</td>\n",
       "      <td>1.495492e-07</td>\n",
       "      <td>ZKSCAN1</td>\n",
       "      <td>TLX2</td>\n",
       "      <td>ZKSCAN1$\\longleftrightarrow$TLX2</td>\n",
       "      <td>C2H2 ZF</td>\n",
       "      <td>Homeodomain</td>\n",
       "      <td>C2H2 ZF$\\longleftrightarrow$Homeodomain</td>\n",
       "      <td>ZKSCAN1:TLX2</td>\n",
       "      <td>C2H2 ZF:Homeodomain</td>\n",
       "    </tr>\n",
       "  </tbody>\n",
       "</table>\n",
       "<p>5 rows × 22 columns</p>\n",
       "</div>"
      ],
      "text/plain": [
       "   Unnamed: 0  index   filter_interaction  example_no      motif1  \\\n",
       "0           0      0   filter3<-->filter4         594  M0408_1.02   \n",
       "1           1      1  filter3<-->filter12         602  M0408_1.02   \n",
       "2           2      2  filter3<-->filter18         608  M0408_1.02   \n",
       "3           3      3  filter3<-->filter21         611  M0408_1.02   \n",
       "4           4      4  filter3<-->filter23         613  M0408_1.02   \n",
       "\n",
       "   motif1_qval      motif2  motif2_qval  mean_distance  mean_distance_bg  ...  \\\n",
       "0      0.00457  M4536_1.02     0.000552          126.0             228.0  ...   \n",
       "1      0.00457  M0891_1.02     0.000487          282.0             168.0  ...   \n",
       "2      0.00457  M1007_1.02     0.002963           42.0             330.0  ...   \n",
       "3      0.00457  M0609_1.02     0.009532           12.0              42.0  ...   \n",
       "4      0.00457  M0891_1.02     0.020195          276.0             156.0  ...   \n",
       "\n",
       "           pval  adjusted_pval      TF1     TF2  \\\n",
       "0  2.669928e-41   3.974949e-40  ZKSCAN1    E2F1   \n",
       "1  8.049162e-14   1.451309e-13  ZKSCAN1    TLX2   \n",
       "2  5.039890e-21   1.317235e-20  ZKSCAN1  HOXA11   \n",
       "3  3.467012e-29   1.600855e-28  ZKSCAN1   DNMT1   \n",
       "4  1.087588e-07   1.495492e-07  ZKSCAN1    TLX2   \n",
       "\n",
       "                       TF_interaction TF1_Family   TF2_Family  \\\n",
       "0    ZKSCAN1$\\longleftrightarrow$E2F1    C2H2 ZF          E2F   \n",
       "1    ZKSCAN1$\\longleftrightarrow$TLX2    C2H2 ZF  Homeodomain   \n",
       "2  ZKSCAN1$\\longleftrightarrow$HOXA11    C2H2 ZF  Homeodomain   \n",
       "3   ZKSCAN1$\\longleftrightarrow$DNMT1    C2H2 ZF         CxxC   \n",
       "4    ZKSCAN1$\\longleftrightarrow$TLX2    C2H2 ZF  Homeodomain   \n",
       "\n",
       "                        Family_Interaction   motifsOnlyInt  \\\n",
       "0          C2H2 ZF$\\longleftrightarrow$E2F    ZKSCAN1:E2F1   \n",
       "1  C2H2 ZF$\\longleftrightarrow$Homeodomain    ZKSCAN1:TLX2   \n",
       "2  C2H2 ZF$\\longleftrightarrow$Homeodomain  ZKSCAN1:HOXA11   \n",
       "3         C2H2 ZF$\\longleftrightarrow$CxxC   ZKSCAN1:DNMT1   \n",
       "4  C2H2 ZF$\\longleftrightarrow$Homeodomain    ZKSCAN1:TLX2   \n",
       "\n",
       "         familyOnlyInt  \n",
       "0          C2H2 ZF:E2F  \n",
       "1  C2H2 ZF:Homeodomain  \n",
       "2  C2H2 ZF:Homeodomain  \n",
       "3         C2H2 ZF:CxxC  \n",
       "4  C2H2 ZF:Homeodomain  \n",
       "\n",
       "[5 rows x 22 columns]"
      ]
     },
     "execution_count": 240,
     "metadata": {},
     "output_type": "execute_result"
    }
   ],
   "source": [
    "ATTN.head()"
   ]
  },
  {
   "cell_type": "code",
   "execution_count": 241,
   "metadata": {},
   "outputs": [],
   "source": [
    "DFIM_unique = DFIM['TF_interaction'].value_counts()"
   ]
  },
  {
   "cell_type": "code",
   "execution_count": 242,
   "metadata": {},
   "outputs": [],
   "source": [
    "ATTN_unique = ATTN['TF_interaction'].value_counts()"
   ]
  },
  {
   "cell_type": "code",
   "execution_count": 243,
   "metadata": {},
   "outputs": [],
   "source": [
    "intersected = set.intersection(set(DFIM_unique.keys()),set(ATTN_unique.keys()))"
   ]
  },
  {
   "cell_type": "code",
   "execution_count": 244,
   "metadata": {},
   "outputs": [
    {
     "data": {
      "text/plain": [
       "(184, 234, 40)"
      ]
     },
     "execution_count": 244,
     "metadata": {},
     "output_type": "execute_result"
    }
   ],
   "source": [
    "len(set(DFIM_unique.keys())),len(set(ATTN_unique.keys())),len(intersected)"
   ]
  },
  {
   "cell_type": "markdown",
   "metadata": {},
   "source": [
    "#### For DFIM TFs"
   ]
  },
  {
   "cell_type": "code",
   "execution_count": 245,
   "metadata": {},
   "outputs": [],
   "source": [
    "final_list = [['interaction','count','in_both']]\n",
    "for key in DFIM_unique.keys():\n",
    "    rev_key = key.split('$\\\\longleftrightarrow$')[1]+'$\\\\longleftrightarrow$'+key.split('$\\\\longleftrightarrow$')[0]\n",
    "    if key in ATTN_unique or rev_key in ATTN_unique:\n",
    "        final_list.append([key,DFIM_unique[key],'b'])\n",
    "    else:\n",
    "        final_list.append([key,DFIM_unique[key],'r'])\n",
    "final_list = np.asarray(final_list)\n",
    "df_DFIM = pd.DataFrame(final_list[1:],columns=final_list[0])   \n",
    "df_DFIM['count'] = df_DFIM['count'].apply(lambda x: int(x))"
   ]
  },
  {
   "cell_type": "code",
   "execution_count": 246,
   "metadata": {},
   "outputs": [],
   "source": [
    "#key.split('$\\\\longleftrightarrow$')"
   ]
  },
  {
   "cell_type": "code",
   "execution_count": 247,
   "metadata": {},
   "outputs": [
    {
     "data": {
      "text/html": [
       "<div>\n",
       "<style scoped>\n",
       "    .dataframe tbody tr th:only-of-type {\n",
       "        vertical-align: middle;\n",
       "    }\n",
       "\n",
       "    .dataframe tbody tr th {\n",
       "        vertical-align: top;\n",
       "    }\n",
       "\n",
       "    .dataframe thead th {\n",
       "        text-align: right;\n",
       "    }\n",
       "</style>\n",
       "<table border=\"1\" class=\"dataframe\">\n",
       "  <thead>\n",
       "    <tr style=\"text-align: right;\">\n",
       "      <th></th>\n",
       "      <th>interaction</th>\n",
       "      <th>count</th>\n",
       "      <th>in_both</th>\n",
       "    </tr>\n",
       "  </thead>\n",
       "  <tbody>\n",
       "    <tr>\n",
       "      <td>0</td>\n",
       "      <td>TLX2$\\longleftrightarrow$SOX1</td>\n",
       "      <td>128</td>\n",
       "      <td>b</td>\n",
       "    </tr>\n",
       "    <tr>\n",
       "      <td>1</td>\n",
       "      <td>TLX2$\\longleftrightarrow$KDM2B</td>\n",
       "      <td>105</td>\n",
       "      <td>b</td>\n",
       "    </tr>\n",
       "    <tr>\n",
       "      <td>2</td>\n",
       "      <td>TLX2$\\longleftrightarrow$EGR1</td>\n",
       "      <td>93</td>\n",
       "      <td>b</td>\n",
       "    </tr>\n",
       "    <tr>\n",
       "      <td>3</td>\n",
       "      <td>SOX1$\\longleftrightarrow$EGR1</td>\n",
       "      <td>90</td>\n",
       "      <td>b</td>\n",
       "    </tr>\n",
       "    <tr>\n",
       "      <td>4</td>\n",
       "      <td>SOX1$\\longleftrightarrow$KDM2B</td>\n",
       "      <td>83</td>\n",
       "      <td>b</td>\n",
       "    </tr>\n",
       "  </tbody>\n",
       "</table>\n",
       "</div>"
      ],
      "text/plain": [
       "                      interaction  count in_both\n",
       "0   TLX2$\\longleftrightarrow$SOX1    128       b\n",
       "1  TLX2$\\longleftrightarrow$KDM2B    105       b\n",
       "2   TLX2$\\longleftrightarrow$EGR1     93       b\n",
       "3   SOX1$\\longleftrightarrow$EGR1     90       b\n",
       "4  SOX1$\\longleftrightarrow$KDM2B     83       b"
      ]
     },
     "execution_count": 247,
     "metadata": {},
     "output_type": "execute_result"
    }
   ],
   "source": [
    "df_DFIM.head()"
   ]
  },
  {
   "cell_type": "code",
   "execution_count": 248,
   "metadata": {
    "scrolled": false
   },
   "outputs": [
    {
     "data": {
      "text/plain": [
       "<matplotlib.axes._subplots.AxesSubplot at 0x7fea379ac358>"
      ]
     },
     "execution_count": 248,
     "metadata": {},
     "output_type": "execute_result"
    },
    {
     "data": {
      "image/png": "[encoded data removed]",
      "text/plain": [
       "<Figure size 1296x432 with 1 Axes>"
      ]
     },
     "metadata": {
      "needs_background": "light"
     },
     "output_type": "display_data"
    }
   ],
   "source": [
    "df_DFIM[:30].plot(kind='bar',x='interaction',y='count',color=df_DFIM['in_both'],figsize=(18,6),legend=None)"
   ]
  },
  {
   "cell_type": "code",
   "execution_count": 249,
   "metadata": {},
   "outputs": [
    {
     "data": {
      "image/png": "[encoded data removed]",
      "text/plain": [
       "<Figure size 648x432 with 1 Axes>"
      ]
     },
     "metadata": {
      "needs_background": "light"
     },
     "output_type": "display_data"
    }
   ],
   "source": [
    "ax = df_DFIM[:15].plot(kind='bar',x='interaction',y='count',\n",
    "                       color=df_DFIM['in_both'],figsize=(9,6),\n",
    "                       legend=False,alpha=0.6,fontsize=12)\n",
    "\n",
    "ax.set_xlabel(\"TF interaction\",fontsize=16)\n",
    "ax.set_ylabel(\"# of occurences\",fontsize=16)\n",
    "\n",
    "NA = mpatches.Patch(color='b', alpha = 0.6, label='In both')\n",
    "EU = mpatches.Patch(color='r', alpha = 0.6, label='FIS only')\n",
    "plt.legend(handles=[NA,EU], loc=1,fontsize=14)\n",
    "plt.savefig('SATORI-vs-FIS_human_indTF.pdf',bbox_inches='tight')"
   ]
  },
  {
   "cell_type": "markdown",
   "metadata": {},
   "source": [
    "#### For ATTN TFs"
   ]
  },
  {
   "cell_type": "code",
   "execution_count": 250,
   "metadata": {},
   "outputs": [],
   "source": [
    "final_list = [['interaction','count','in_both']]\n",
    "for key in ATTN_unique.keys():\n",
    "    rev_key = key.split('$\\\\longleftrightarrow$')[1]+'$\\\\longleftrightarrow$'+key.split('$\\\\longleftrightarrow$')[0]\n",
    "    if key in DFIM_unique or rev_key in DFIM_unique:\n",
    "        final_list.append([key,ATTN_unique[key],'b'])\n",
    "    else:\n",
    "        final_list.append([key,ATTN_unique[key],'r'])\n",
    "final_list = np.asarray(final_list)\n",
    "df_ATTN = pd.DataFrame(final_list[1:],columns=final_list[0])   \n",
    "df_ATTN['count'] = df_ATTN['count'].apply(lambda x: int(x))"
   ]
  },
  {
   "cell_type": "code",
   "execution_count": 251,
   "metadata": {},
   "outputs": [
    {
     "data": {
      "text/html": [
       "<div>\n",
       "<style scoped>\n",
       "    .dataframe tbody tr th:only-of-type {\n",
       "        vertical-align: middle;\n",
       "    }\n",
       "\n",
       "    .dataframe tbody tr th {\n",
       "        vertical-align: top;\n",
       "    }\n",
       "\n",
       "    .dataframe thead th {\n",
       "        text-align: right;\n",
       "    }\n",
       "</style>\n",
       "<table border=\"1\" class=\"dataframe\">\n",
       "  <thead>\n",
       "    <tr style=\"text-align: right;\">\n",
       "      <th></th>\n",
       "      <th>interaction</th>\n",
       "      <th>count</th>\n",
       "      <th>in_both</th>\n",
       "    </tr>\n",
       "  </thead>\n",
       "  <tbody>\n",
       "    <tr>\n",
       "      <td>0</td>\n",
       "      <td>ZKSCAN1$\\longleftrightarrow$TLX2</td>\n",
       "      <td>33</td>\n",
       "      <td>b</td>\n",
       "    </tr>\n",
       "    <tr>\n",
       "      <td>1</td>\n",
       "      <td>TLX2$\\longleftrightarrow$SP2</td>\n",
       "      <td>22</td>\n",
       "      <td>r</td>\n",
       "    </tr>\n",
       "    <tr>\n",
       "      <td>2</td>\n",
       "      <td>TLX2$\\longleftrightarrow$HHEX</td>\n",
       "      <td>22</td>\n",
       "      <td>b</td>\n",
       "    </tr>\n",
       "    <tr>\n",
       "      <td>3</td>\n",
       "      <td>TLX2$\\longleftrightarrow$EGR1</td>\n",
       "      <td>21</td>\n",
       "      <td>b</td>\n",
       "    </tr>\n",
       "    <tr>\n",
       "      <td>4</td>\n",
       "      <td>TLX2$\\longleftrightarrow$SOX1</td>\n",
       "      <td>20</td>\n",
       "      <td>b</td>\n",
       "    </tr>\n",
       "  </tbody>\n",
       "</table>\n",
       "</div>"
      ],
      "text/plain": [
       "                        interaction  count in_both\n",
       "0  ZKSCAN1$\\longleftrightarrow$TLX2     33       b\n",
       "1      TLX2$\\longleftrightarrow$SP2     22       r\n",
       "2     TLX2$\\longleftrightarrow$HHEX     22       b\n",
       "3     TLX2$\\longleftrightarrow$EGR1     21       b\n",
       "4     TLX2$\\longleftrightarrow$SOX1     20       b"
      ]
     },
     "execution_count": 251,
     "metadata": {},
     "output_type": "execute_result"
    }
   ],
   "source": [
    "df_ATTN.head()"
   ]
  },
  {
   "cell_type": "code",
   "execution_count": 252,
   "metadata": {},
   "outputs": [
    {
     "data": {
      "text/plain": [
       "<matplotlib.axes._subplots.AxesSubplot at 0x7fea37e57be0>"
      ]
     },
     "execution_count": 252,
     "metadata": {},
     "output_type": "execute_result"
    },
    {
     "data": {
      "image/png": "[encoded data removed]",
      "text/plain": [
       "<Figure size 1296x432 with 1 Axes>"
      ]
     },
     "metadata": {
      "needs_background": "light"
     },
     "output_type": "display_data"
    }
   ],
   "source": [
    "df_ATTN[:30].plot(kind='bar',x='interaction',y='count',color=df_ATTN['in_both'],figsize=(18,6),legend=None)"
   ]
  },
  {
   "cell_type": "code",
   "execution_count": 253,
   "metadata": {},
   "outputs": [
    {
     "data": {
      "text/plain": [
       "2.0"
      ]
     },
     "execution_count": 253,
     "metadata": {},
     "output_type": "execute_result"
    }
   ],
   "source": [
    "df_ATTN['count'].median()"
   ]
  },
  {
   "cell_type": "code",
   "execution_count": 254,
   "metadata": {},
   "outputs": [
    {
     "data": {
      "text/plain": [
       "r    113\n",
       "b     71\n",
       "Name: in_both, dtype: int64"
      ]
     },
     "execution_count": 254,
     "metadata": {},
     "output_type": "execute_result"
    }
   ],
   "source": [
    "df_DFIM['in_both'].value_counts()"
   ]
  },
  {
   "cell_type": "code",
   "execution_count": 255,
   "metadata": {},
   "outputs": [
    {
     "data": {
      "text/plain": [
       "r    163\n",
       "b     71\n",
       "Name: in_both, dtype: int64"
      ]
     },
     "execution_count": 255,
     "metadata": {},
     "output_type": "execute_result"
    }
   ],
   "source": [
    "df_ATTN['in_both'].value_counts()"
   ]
  },
  {
   "cell_type": "markdown",
   "metadata": {},
   "source": [
    "### TF Family Analysis"
   ]
  },
  {
   "cell_type": "code",
   "execution_count": 256,
   "metadata": {},
   "outputs": [],
   "source": [
    "DFIM_unique = DFIM['Family_Interaction'].value_counts()"
   ]
  },
  {
   "cell_type": "code",
   "execution_count": 257,
   "metadata": {},
   "outputs": [],
   "source": [
    "ATTN_unique = ATTN['Family_Interaction'].value_counts()"
   ]
  },
  {
   "cell_type": "code",
   "execution_count": 258,
   "metadata": {},
   "outputs": [],
   "source": [
    "intersected = set.intersection(set(DFIM_unique.keys()),set(ATTN_unique.keys()))"
   ]
  },
  {
   "cell_type": "code",
   "execution_count": 259,
   "metadata": {},
   "outputs": [
    {
     "data": {
      "text/plain": [
       "(26, 44, 8)"
      ]
     },
     "execution_count": 259,
     "metadata": {},
     "output_type": "execute_result"
    }
   ],
   "source": [
    "len(set(DFIM_unique.keys())),len(set(ATTN_unique.keys())),len(intersected)"
   ]
  },
  {
   "cell_type": "markdown",
   "metadata": {},
   "source": [
    "#### For DFIM TFs"
   ]
  },
  {
   "cell_type": "code",
   "execution_count": 260,
   "metadata": {},
   "outputs": [],
   "source": [
    "final_list = [['interaction','count','in_both']]\n",
    "for key in DFIM_unique.keys():\n",
    "    rev_key = key.split('$\\\\longleftrightarrow$')[1]+'$\\\\longleftrightarrow$'+key.split('$\\\\longleftrightarrow$')[0]\n",
    "    if key in ATTN_unique or rev_key in ATTN_unique:\n",
    "        final_list.append([key,DFIM_unique[key],'b'])\n",
    "    else:\n",
    "        final_list.append([key,DFIM_unique[key],'r'])\n",
    "final_list = np.asarray(final_list)\n",
    "df_DFIM = pd.DataFrame(final_list[1:],columns=final_list[0])   \n",
    "df_DFIM['count'] = df_DFIM['count'].apply(lambda x: int(x))"
   ]
  },
  {
   "cell_type": "code",
   "execution_count": 261,
   "metadata": {},
   "outputs": [],
   "source": [
    "#key.split('$\\\\longleftrightarrow$')"
   ]
  },
  {
   "cell_type": "code",
   "execution_count": 262,
   "metadata": {},
   "outputs": [
    {
     "data": {
      "text/html": [
       "<div>\n",
       "<style scoped>\n",
       "    .dataframe tbody tr th:only-of-type {\n",
       "        vertical-align: middle;\n",
       "    }\n",
       "\n",
       "    .dataframe tbody tr th {\n",
       "        vertical-align: top;\n",
       "    }\n",
       "\n",
       "    .dataframe thead th {\n",
       "        text-align: right;\n",
       "    }\n",
       "</style>\n",
       "<table border=\"1\" class=\"dataframe\">\n",
       "  <thead>\n",
       "    <tr style=\"text-align: right;\">\n",
       "      <th></th>\n",
       "      <th>interaction</th>\n",
       "      <th>count</th>\n",
       "      <th>in_both</th>\n",
       "    </tr>\n",
       "  </thead>\n",
       "  <tbody>\n",
       "    <tr>\n",
       "      <td>0</td>\n",
       "      <td>Homeodomain$\\longleftrightarrow$CxxC</td>\n",
       "      <td>380</td>\n",
       "      <td>b</td>\n",
       "    </tr>\n",
       "    <tr>\n",
       "      <td>1</td>\n",
       "      <td>Homeodomain$\\longleftrightarrow$C2H2 ZF</td>\n",
       "      <td>349</td>\n",
       "      <td>b</td>\n",
       "    </tr>\n",
       "    <tr>\n",
       "      <td>2</td>\n",
       "      <td>Homeodomain$\\longleftrightarrow$Sox</td>\n",
       "      <td>229</td>\n",
       "      <td>b</td>\n",
       "    </tr>\n",
       "    <tr>\n",
       "      <td>3</td>\n",
       "      <td>Sox$\\longleftrightarrow$CxxC</td>\n",
       "      <td>200</td>\n",
       "      <td>b</td>\n",
       "    </tr>\n",
       "    <tr>\n",
       "      <td>4</td>\n",
       "      <td>Sox$\\longleftrightarrow$C2H2 ZF</td>\n",
       "      <td>195</td>\n",
       "      <td>b</td>\n",
       "    </tr>\n",
       "  </tbody>\n",
       "</table>\n",
       "</div>"
      ],
      "text/plain": [
       "                               interaction  count in_both\n",
       "0     Homeodomain$\\longleftrightarrow$CxxC    380       b\n",
       "1  Homeodomain$\\longleftrightarrow$C2H2 ZF    349       b\n",
       "2      Homeodomain$\\longleftrightarrow$Sox    229       b\n",
       "3             Sox$\\longleftrightarrow$CxxC    200       b\n",
       "4          Sox$\\longleftrightarrow$C2H2 ZF    195       b"
      ]
     },
     "execution_count": 262,
     "metadata": {},
     "output_type": "execute_result"
    }
   ],
   "source": [
    "df_DFIM.head()"
   ]
  },
  {
   "cell_type": "code",
   "execution_count": 263,
   "metadata": {
    "scrolled": false
   },
   "outputs": [
    {
     "data": {
      "text/plain": [
       "<matplotlib.axes._subplots.AxesSubplot at 0x7fea3797d2e8>"
      ]
     },
     "execution_count": 263,
     "metadata": {},
     "output_type": "execute_result"
    },
    {
     "data": {
      "image/png": "[encoded data removed]",
      "text/plain": [
       "<Figure size 1296x360 with 1 Axes>"
      ]
     },
     "metadata": {
      "needs_background": "light"
     },
     "output_type": "display_data"
    }
   ],
   "source": [
    "df_DFIM[:30].plot(kind='bar',x='interaction',y='count',color=df_DFIM['in_both'],figsize=(18,5),legend=None)"
   ]
  },
  {
   "cell_type": "code",
   "execution_count": 270,
   "metadata": {},
   "outputs": [
    {
     "data": {
      "image/png": "[encoded data removed]",
      "text/plain": [
       "<Figure size 648x432 with 1 Axes>"
      ]
     },
     "metadata": {
      "needs_background": "light"
     },
     "output_type": "display_data"
    }
   ],
   "source": [
    "ax = df_DFIM[:10].plot(kind='bar',x='interaction',y='count',\n",
    "                       color=df_DFIM['in_both'],figsize=(9,6),\n",
    "                       legend=False,alpha=0.6,fontsize=12)\n",
    "\n",
    "ax.set_xlabel(\"Family interaction\",fontsize=16)\n",
    "ax.set_ylabel(\"# of occurences\",fontsize=16)\n",
    "\n",
    "NA = mpatches.Patch(color='b', alpha = 0.6, label='In both')\n",
    "EU = mpatches.Patch(color='r', alpha = 0.6, label='FIS only')\n",
    "plt.legend(handles=[NA,EU], loc=1,fontsize=14)\n",
    "plt.savefig('SATORI-vs-FIS_human_famTF.pdf',bbox_inches='tight')"
   ]
  },
  {
   "cell_type": "markdown",
   "metadata": {},
   "source": [
    "#### For ATTN TFs"
   ]
  },
  {
   "cell_type": "code",
   "execution_count": 265,
   "metadata": {},
   "outputs": [],
   "source": [
    "final_list = [['interaction','count','in_both']]\n",
    "for key in ATTN_unique.keys():\n",
    "    rev_key = key.split('$\\\\longleftrightarrow$')[1]+'$\\\\longleftrightarrow$'+key.split('$\\\\longleftrightarrow$')[0]\n",
    "    if key in DFIM_unique or rev_key in DFIM_unique:\n",
    "        final_list.append([key,ATTN_unique[key],'b'])\n",
    "    else:\n",
    "        final_list.append([key,ATTN_unique[key],'r'])\n",
    "final_list = np.asarray(final_list)\n",
    "df_ATTN = pd.DataFrame(final_list[1:],columns=final_list[0])   \n",
    "df_ATTN['count'] = df_ATTN['count'].apply(lambda x: int(x))"
   ]
  },
  {
   "cell_type": "code",
   "execution_count": 266,
   "metadata": {},
   "outputs": [
    {
     "data": {
      "text/html": [
       "<div>\n",
       "<style scoped>\n",
       "    .dataframe tbody tr th:only-of-type {\n",
       "        vertical-align: middle;\n",
       "    }\n",
       "\n",
       "    .dataframe tbody tr th {\n",
       "        vertical-align: top;\n",
       "    }\n",
       "\n",
       "    .dataframe thead th {\n",
       "        text-align: right;\n",
       "    }\n",
       "</style>\n",
       "<table border=\"1\" class=\"dataframe\">\n",
       "  <thead>\n",
       "    <tr style=\"text-align: right;\">\n",
       "      <th></th>\n",
       "      <th>interaction</th>\n",
       "      <th>count</th>\n",
       "      <th>in_both</th>\n",
       "    </tr>\n",
       "  </thead>\n",
       "  <tbody>\n",
       "    <tr>\n",
       "      <td>0</td>\n",
       "      <td>C2H2 ZF$\\longleftrightarrow$Homeodomain</td>\n",
       "      <td>210</td>\n",
       "      <td>b</td>\n",
       "    </tr>\n",
       "    <tr>\n",
       "      <td>1</td>\n",
       "      <td>Homeodomain$\\longleftrightarrow$CxxC</td>\n",
       "      <td>100</td>\n",
       "      <td>b</td>\n",
       "    </tr>\n",
       "    <tr>\n",
       "      <td>2</td>\n",
       "      <td>C2H2 ZF$\\longleftrightarrow$CxxC</td>\n",
       "      <td>86</td>\n",
       "      <td>b</td>\n",
       "    </tr>\n",
       "    <tr>\n",
       "      <td>3</td>\n",
       "      <td>C2H2 ZF$\\longleftrightarrow$Sox</td>\n",
       "      <td>85</td>\n",
       "      <td>b</td>\n",
       "    </tr>\n",
       "    <tr>\n",
       "      <td>4</td>\n",
       "      <td>C2H2 ZF$\\longleftrightarrow$C2H2 ZF</td>\n",
       "      <td>66</td>\n",
       "      <td>b</td>\n",
       "    </tr>\n",
       "  </tbody>\n",
       "</table>\n",
       "</div>"
      ],
      "text/plain": [
       "                               interaction  count in_both\n",
       "0  C2H2 ZF$\\longleftrightarrow$Homeodomain    210       b\n",
       "1     Homeodomain$\\longleftrightarrow$CxxC    100       b\n",
       "2         C2H2 ZF$\\longleftrightarrow$CxxC     86       b\n",
       "3          C2H2 ZF$\\longleftrightarrow$Sox     85       b\n",
       "4      C2H2 ZF$\\longleftrightarrow$C2H2 ZF     66       b"
      ]
     },
     "execution_count": 266,
     "metadata": {},
     "output_type": "execute_result"
    }
   ],
   "source": [
    "df_ATTN.head()"
   ]
  },
  {
   "cell_type": "code",
   "execution_count": 267,
   "metadata": {},
   "outputs": [
    {
     "data": {
      "text/plain": [
       "<matplotlib.axes._subplots.AxesSubplot at 0x7fea37669e10>"
      ]
     },
     "execution_count": 267,
     "metadata": {},
     "output_type": "execute_result"
    },
    {
     "data": {
      "image/png": "[encoded data removed]",
      "text/plain": [
       "<Figure size 1296x432 with 1 Axes>"
      ]
     },
     "metadata": {
      "needs_background": "light"
     },
     "output_type": "display_data"
    }
   ],
   "source": [
    "df_ATTN[:30].plot(kind='bar',x='interaction',y='count',color=df_ATTN['in_both'],figsize=(18,6),legend=None)"
   ]
  },
  {
   "cell_type": "code",
   "execution_count": 268,
   "metadata": {},
   "outputs": [
    {
     "data": {
      "text/plain": [
       "b    14\n",
       "r    12\n",
       "Name: in_both, dtype: int64"
      ]
     },
     "execution_count": 268,
     "metadata": {},
     "output_type": "execute_result"
    }
   ],
   "source": [
    "df_DFIM['in_both'].value_counts()"
   ]
  },
  {
   "cell_type": "code",
   "execution_count": 269,
   "metadata": {},
   "outputs": [
    {
     "data": {
      "text/plain": [
       "r    30\n",
       "b    14\n",
       "Name: in_both, dtype: int64"
      ]
     },
     "execution_count": 269,
     "metadata": {},
     "output_type": "execute_result"
    }
   ],
   "source": [
    "df_ATTN['in_both'].value_counts()"
   ]
  },
  {
   "cell_type": "code",
   "execution_count": null,
   "metadata": {},
   "outputs": [],
   "source": []
  }
 ],
 "metadata": {
  "kernelspec": {
   "display_name": "Python 3",
   "language": "python",
   "name": "python3"
  },
  "language_info": {
   "codemirror_mode": {
    "name": "ipython",
    "version": 3
   },
   "file_extension": ".py",
   "mimetype": "text/x-python",
   "name": "python",
   "nbconvert_exporter": "python",
   "pygments_lexer": "ipython3",
   "version": "3.7.3"
  }
 },
 "nbformat": 4,
 "nbformat_minor": 2
}
